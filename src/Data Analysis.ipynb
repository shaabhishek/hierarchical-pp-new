{
 "cells": [
  {
   "cell_type": "code",
   "execution_count": 1,
   "metadata": {},
   "outputs": [],
   "source": [
    "import torch"
   ]
  },
  {
   "cell_type": "code",
   "execution_count": 2,
   "metadata": {},
   "outputs": [
    {
     "name": "stdout",
     "output_type": "stream",
     "text": [
      "True\n"
     ]
    }
   ],
   "source": [
    "device = torch.device(\"cuda\" if torch.cuda.is_available() else \"cpu\")\n",
    "print(torch.cuda.is_available())"
   ]
  },
  {
   "cell_type": "markdown",
   "metadata": {},
   "source": [
    "# Data"
   ]
  },
  {
   "cell_type": "code",
   "execution_count": 3,
   "metadata": {},
   "outputs": [],
   "source": [
    "import os\n",
    "import pickle\n",
    "raw_file = './../data/dump/mimic.pickle'\n",
    "with open(raw_file, 'rb') as handle:\n",
    "    data = pickle.load(handle)"
   ]
  },
  {
   "cell_type": "code",
   "execution_count": 4,
   "metadata": {
    "scrolled": true
   },
   "outputs": [
    {
     "name": "stdout",
     "output_type": "stream",
     "text": [
      "<class 'list'>\n",
      "<class 'dict'>\n",
      "dict_keys([0, 1, 2])\n"
     ]
    }
   ],
   "source": [
    "print(type(data))\n",
    "print(type(data[0]))\n",
    "print(data[0].keys())"
   ]
  },
  {
   "cell_type": "code",
   "execution_count": 5,
   "metadata": {},
   "outputs": [],
   "source": [
    "import matplotlib.pyplot as plt"
   ]
  },
  {
   "cell_type": "code",
   "execution_count": 6,
   "metadata": {},
   "outputs": [
    {
     "data": {
      "text/plain": [
       "(array([1.473e+03, 7.100e+01, 2.600e+01, 5.000e+00, 3.000e+00, 3.000e+00,\n",
       "        0.000e+00, 2.000e+00, 1.000e+00, 1.000e+00]),\n",
       " array([ 3. ,  6.4,  9.8, 13.2, 16.6, 20. , 23.4, 26.8, 30.2, 33.6, 37. ]),\n",
       " <a list of 10 Patch objects>)"
      ]
     },
     "execution_count": 6,
     "metadata": {},
     "output_type": "execute_result"
    },
    {
     "data": {
      "image/png": "[encoded data removed]",
      "text/plain": [
       "<Figure size 432x288 with 1 Axes>"
      ]
     },
     "metadata": {
      "needs_background": "light"
     },
     "output_type": "display_data"
    }
   ],
   "source": [
    "plt.hist(list(map(len, data)))"
   ]
  },
  {
   "cell_type": "code",
   "execution_count": 7,
   "metadata": {
    "scrolled": true
   },
   "outputs": [],
   "source": [
    "# [i for i in data[0].values()]"
   ]
  },
  {
   "cell_type": "markdown",
   "metadata": {},
   "source": [
    "## Convert to dataframe"
   ]
  },
  {
   "cell_type": "code",
   "execution_count": 8,
   "metadata": {},
   "outputs": [],
   "source": [
    "import pandas\n",
    "import numpy as np"
   ]
  },
  {
   "cell_type": "code",
   "execution_count": 9,
   "metadata": {},
   "outputs": [],
   "source": [
    "def gender_to_categorical(x):\n",
    "    return 0 if x=='M' else 1\n",
    "\n",
    "def mimic_correct_datatypes(icu_df):\n",
    "\n",
    "    # TIMES\n",
    "    icu_df['ADMITTIME'] = icu_df['ADMITTIME'].astype('datetime64')\n",
    "    icu_df['DEATHTIME'] = icu_df['DEATHTIME'].astype('datetime64')\n",
    "    icu_df['DISCHTIME'] = icu_df['DISCHTIME'].astype('datetime64')\n",
    "    icu_df['INTIME'] = icu_df['INTIME'].astype('datetime64')\n",
    "    icu_df['OUTTIME'] = icu_df['OUTTIME'].astype('datetime64')\n",
    "    icu_df['DOB'] = icu_df['DOB'].astype('datetime64')\n",
    "\n",
    "    # FLOATS\n",
    "    icu_df['AGE'] = icu_df['AGE'].astype('float32')\n",
    "    icu_df['LOS'] = icu_df['LOS'].astype('float32')\n",
    "\n",
    "    # INTS\n",
    "    icu_df['SUBJECT_ID'] = icu_df['SUBJECT_ID'].astype('int')\n",
    "    icu_df['HADM_ID'] = icu_df['HADM_ID'].astype('int')\n",
    "    icu_df['ICUSTAY_ID'] = icu_df['ICUSTAY_ID'].astype('int')\n",
    "    icu_df['MORTALITY'] = icu_df['MORTALITY'].astype('int')\n",
    "    return icu_df"
   ]
  },
  {
   "cell_type": "code",
   "execution_count": 10,
   "metadata": {},
   "outputs": [],
   "source": [
    "def mimic_data_to_df(data, colnames=None):\n",
    "    flat_data = [icu_visit for data_i in data for icu_visit in data_i.values()]\n",
    "    icu_df = pandas.DataFrame(flat_data)\n",
    "    icu_df = mimic_correct_datatypes(icu_df)\n",
    "    icu_df['GENDER'] = icu_df['GENDER'].apply(gender_to_categorical)\n",
    "    \n",
    "    ethnicity_dummies = pandas.get_dummies(icu_df.ETHNICITY, drop_first=True, prefix='ETHNICITY_')\n",
    "    icu_df = pandas.concat([icu_df.drop('ETHNICITY', axis=1), ethnicity_dummies], axis=1)\n",
    "    \n",
    "    if colnames is None:\n",
    "        return icu_df\n",
    "    else:\n",
    "        return icu_df[colnames]"
   ]
  },
  {
   "cell_type": "markdown",
   "metadata": {},
   "source": [
    "## Datatypes"
   ]
  },
  {
   "cell_type": "code",
   "execution_count": 11,
   "metadata": {},
   "outputs": [],
   "source": [
    "from utils_ import get_intervals\n",
    "def compute_admit_times(data):\n",
    "    \"\"\"\n",
    "        Input: \n",
    "            data: list of dicts, where each dict corresponds to a patient and has 1 entry per icu visit\n",
    "        Output:\n",
    "            admit_times: Tensor of shape T x N x 2\n",
    "    \"\"\"\n",
    "    max_visit_n = max([len(data_i) for data_i in data])\n",
    "    admit_times = []\n",
    "    for data_i in data:\n",
    "        patient_admit_times = [icu_visit['ADMITTIME'] for icu_visit in data_i.values()]\n",
    "        # Convert the date times str -> datetime64 -> int\n",
    "        patient_admit_times = np.array(patient_admit_times).astype(np.datetime64).astype('int')\n",
    "        patient_visit_n = len(patient_admit_times)\n",
    "        patient_admit_times = np.pad(patient_admit_times, (0,max_visit_n-patient_visit_n), mode='constant')\n",
    "        admit_times.append(patient_admit_times)\n",
    "    admit_times = np.stack(admit_times).T#[:,:,np.newaxis]\n",
    "    admit_times = torch.tensor(admit_times).to(device)\n",
    "    intervals = get_intervals(admit_times)\n",
    "    admit_times = torch.stack([admit_times, intervals], dim=-1)\n",
    "    return admit_times"
   ]
  },
  {
   "cell_type": "code",
   "execution_count": 12,
   "metadata": {
    "scrolled": true
   },
   "outputs": [],
   "source": [
    "def compute_markers(data):\n",
    "    \"\"\"\n",
    "        Input: \n",
    "            data: list of dicts, where each dict corresponds to a patient and has 1 entry per icu visit\n",
    "        Output:\n",
    "            admit_times: Tensor of shape T x N x marker_dim\n",
    "    \"\"\"\n",
    "    max_visit_n = max([len(data_i) for data_i in data])\n",
    "    markers = []\n",
    "    icu_df = mimic_data_to_df(data)\n",
    "    icu_df = icu_df.filter(regex='AGE|GENDER|^ETHNICITY|SUBJECT_ID', axis=1)\n",
    "    group_patients = icu_df.groupby('SUBJECT_ID', )\n",
    "    for patient_idx, patient_df_rows in group_patients.groups.items():\n",
    "        # Get an array of shape  (T_i x marker_dim)\n",
    "        patient_markers = icu_df.iloc[patient_df_rows].values\n",
    "        t_i, marker_dim = patient_markers.shape\n",
    "        # Get an array of shape  (T_max x marker_dim)\n",
    "        patient_markers = np.pad(patient_markers, pad_width=((0,max_visit_n - t_i), (0,0)), mode='constant')\n",
    "        markers.append(patient_markers)\n",
    "    # Shape = T x N x marker_dim\n",
    "    markers = np.stack(markers).transpose((1,0,2))\n",
    "    markers = torch.tensor(markers)\n",
    "    return markers"
   ]
  },
  {
   "cell_type": "code",
   "execution_count": 13,
   "metadata": {},
   "outputs": [],
   "source": [
    "def mimic_data_tensors(data):\n",
    "    admit_times = compute_admit_times(data)\n",
    "    markers = compute_markers(data)\n",
    "    data_dict = {\n",
    "        't': admit_times,\n",
    "        'x': markers\n",
    "    }\n",
    "    return data_dict"
   ]
  },
  {
   "cell_type": "code",
   "execution_count": 14,
   "metadata": {},
   "outputs": [],
   "source": [
    "mimic_data = mimic_data_tensors(data)"
   ]
  },
  {
   "cell_type": "code",
   "execution_count": 18,
   "metadata": {},
   "outputs": [
    {
     "data": {
      "text/plain": [
       "{'t': tensor([[[5153550360, 5153550360],\n",
       "          [6860550540, 6860550540],\n",
       "          [5723045880, 5723045880],\n",
       "          ...,\n",
       "          [5062073040, 5062073040],\n",
       "          [4536169080, 4536169080],\n",
       "          [6175450200, 6175450200]],\n",
       " \n",
       "         [[5305936500,  152386140],\n",
       "          [6883313880,   22763340],\n",
       "          [5746091640,   23045760],\n",
       "          ...,\n",
       "          [5106649020,   44575980],\n",
       "          [4536580080,     411000],\n",
       "          [6253518120,   78067920]],\n",
       " \n",
       "         [[5414419980,  108483480],\n",
       "          [6964129200,   80815320],\n",
       "          [5750926740,    4835100],\n",
       "          ...,\n",
       "          [5108289420,    1640400],\n",
       "          [4538560920,    1980840],\n",
       "          [6311840940,   58322820]],\n",
       " \n",
       "         ...,\n",
       " \n",
       "         [[         0,          0],\n",
       "          [         0,          0],\n",
       "          [         0,          0],\n",
       "          ...,\n",
       "          [         0,          0],\n",
       "          [         0,          0],\n",
       "          [         0,          0]],\n",
       " \n",
       "         [[         0,          0],\n",
       "          [         0,          0],\n",
       "          [         0,          0],\n",
       "          ...,\n",
       "          [         0,          0],\n",
       "          [         0,          0],\n",
       "          [         0,          0]],\n",
       " \n",
       "         [[         0,          0],\n",
       "          [         0,          0],\n",
       "          [         0,          0],\n",
       "          ...,\n",
       "          [         0,          0],\n",
       "          [         0,          0],\n",
       "          [         0,          0]]], device='cuda:0'),\n",
       " 'x': tensor([[[6.9757e+01, 0.0000e+00, 3.6000e+01,  ..., 0.0000e+00,\n",
       "           0.0000e+00, 0.0000e+00],\n",
       "          [6.2928e+01, 0.0000e+00, 1.0700e+02,  ..., 0.0000e+00,\n",
       "           0.0000e+00, 0.0000e+00],\n",
       "          [2.0706e+01, 1.0000e+00, 1.0900e+02,  ..., 0.0000e+00,\n",
       "           0.0000e+00, 0.0000e+00],\n",
       "          ...,\n",
       "          [5.1476e+01, 0.0000e+00, 9.9756e+04,  ..., 0.0000e+00,\n",
       "           0.0000e+00, 0.0000e+00],\n",
       "          [6.1245e+01, 0.0000e+00, 9.9822e+04,  ..., 0.0000e+00,\n",
       "           0.0000e+00, 0.0000e+00],\n",
       "          [6.5201e+01, 0.0000e+00, 9.9982e+04,  ..., 0.0000e+00,\n",
       "           0.0000e+00, 0.0000e+00]],\n",
       " \n",
       "         [[6.9792e+01, 0.0000e+00, 3.6000e+01,  ..., 0.0000e+00,\n",
       "           0.0000e+00, 0.0000e+00],\n",
       "          [6.9709e+01, 0.0000e+00, 1.0700e+02,  ..., 0.0000e+00,\n",
       "           0.0000e+00, 0.0000e+00],\n",
       "          [2.2467e+01, 1.0000e+00, 1.0900e+02,  ..., 0.0000e+00,\n",
       "           0.0000e+00, 0.0000e+00],\n",
       "          ...,\n",
       "          [5.1610e+01, 0.0000e+00, 9.9756e+04,  ..., 0.0000e+00,\n",
       "           0.0000e+00, 0.0000e+00],\n",
       "          [6.1291e+01, 0.0000e+00, 9.9822e+04,  ..., 0.0000e+00,\n",
       "           0.0000e+00, 0.0000e+00],\n",
       "          [6.5309e+01, 0.0000e+00, 9.9982e+04,  ..., 0.0000e+00,\n",
       "           0.0000e+00, 0.0000e+00]],\n",
       " \n",
       "         [[7.2782e+01, 0.0000e+00, 3.6000e+01,  ..., 0.0000e+00,\n",
       "           0.0000e+00, 0.0000e+00],\n",
       "          [7.0161e+01, 0.0000e+00, 1.0700e+02,  ..., 0.0000e+00,\n",
       "           0.0000e+00, 0.0000e+00],\n",
       "          [2.2504e+01, 1.0000e+00, 1.0900e+02,  ..., 0.0000e+00,\n",
       "           0.0000e+00, 0.0000e+00],\n",
       "          ...,\n",
       "          [5.1997e+01, 0.0000e+00, 9.9756e+04,  ..., 0.0000e+00,\n",
       "           0.0000e+00, 0.0000e+00],\n",
       "          [6.1341e+01, 0.0000e+00, 9.9822e+04,  ..., 0.0000e+00,\n",
       "           0.0000e+00, 0.0000e+00],\n",
       "          [6.5421e+01, 0.0000e+00, 9.9982e+04,  ..., 0.0000e+00,\n",
       "           0.0000e+00, 0.0000e+00]],\n",
       " \n",
       "         ...,\n",
       " \n",
       "         [[0.0000e+00, 0.0000e+00, 0.0000e+00,  ..., 0.0000e+00,\n",
       "           0.0000e+00, 0.0000e+00],\n",
       "          [0.0000e+00, 0.0000e+00, 0.0000e+00,  ..., 0.0000e+00,\n",
       "           0.0000e+00, 0.0000e+00],\n",
       "          [0.0000e+00, 0.0000e+00, 0.0000e+00,  ..., 0.0000e+00,\n",
       "           0.0000e+00, 0.0000e+00],\n",
       "          ...,\n",
       "          [0.0000e+00, 0.0000e+00, 0.0000e+00,  ..., 0.0000e+00,\n",
       "           0.0000e+00, 0.0000e+00],\n",
       "          [0.0000e+00, 0.0000e+00, 0.0000e+00,  ..., 0.0000e+00,\n",
       "           0.0000e+00, 0.0000e+00],\n",
       "          [0.0000e+00, 0.0000e+00, 0.0000e+00,  ..., 0.0000e+00,\n",
       "           0.0000e+00, 0.0000e+00]],\n",
       " \n",
       "         [[0.0000e+00, 0.0000e+00, 0.0000e+00,  ..., 0.0000e+00,\n",
       "           0.0000e+00, 0.0000e+00],\n",
       "          [0.0000e+00, 0.0000e+00, 0.0000e+00,  ..., 0.0000e+00,\n",
       "           0.0000e+00, 0.0000e+00],\n",
       "          [0.0000e+00, 0.0000e+00, 0.0000e+00,  ..., 0.0000e+00,\n",
       "           0.0000e+00, 0.0000e+00],\n",
       "          ...,\n",
       "          [0.0000e+00, 0.0000e+00, 0.0000e+00,  ..., 0.0000e+00,\n",
       "           0.0000e+00, 0.0000e+00],\n",
       "          [0.0000e+00, 0.0000e+00, 0.0000e+00,  ..., 0.0000e+00,\n",
       "           0.0000e+00, 0.0000e+00],\n",
       "          [0.0000e+00, 0.0000e+00, 0.0000e+00,  ..., 0.0000e+00,\n",
       "           0.0000e+00, 0.0000e+00]],\n",
       " \n",
       "         [[0.0000e+00, 0.0000e+00, 0.0000e+00,  ..., 0.0000e+00,\n",
       "           0.0000e+00, 0.0000e+00],\n",
       "          [0.0000e+00, 0.0000e+00, 0.0000e+00,  ..., 0.0000e+00,\n",
       "           0.0000e+00, 0.0000e+00],\n",
       "          [0.0000e+00, 0.0000e+00, 0.0000e+00,  ..., 0.0000e+00,\n",
       "           0.0000e+00, 0.0000e+00],\n",
       "          ...,\n",
       "          [0.0000e+00, 0.0000e+00, 0.0000e+00,  ..., 0.0000e+00,\n",
       "           0.0000e+00, 0.0000e+00],\n",
       "          [0.0000e+00, 0.0000e+00, 0.0000e+00,  ..., 0.0000e+00,\n",
       "           0.0000e+00, 0.0000e+00],\n",
       "          [0.0000e+00, 0.0000e+00, 0.0000e+00,  ..., 0.0000e+00,\n",
       "           0.0000e+00, 0.0000e+00]]], dtype=torch.float64)}"
      ]
     },
     "execution_count": 18,
     "metadata": {},
     "output_type": "execute_result"
    }
   ],
   "source": [
    "mimic_data"
   ]
  },
  {
   "cell_type": "code",
   "execution_count": 1,
   "metadata": {},
   "outputs": [
    {
     "name": "stdout",
     "output_type": "stream",
     "text": [
      "/home/abhishekshar/hierarchichal_point_process\n"
     ]
    }
   ],
   "source": [
    "cd .."
   ]
  },
  {
   "cell_type": "code",
   "execution_count": 3,
   "metadata": {},
   "outputs": [
    {
     "ename": "ModuleNotFoundError",
     "evalue": "No module named 'utils_'",
     "output_type": "error",
     "traceback": [
      "\u001b[0;31m---------------------------------------------------------------------------\u001b[0m",
      "\u001b[0;31mModuleNotFoundError\u001b[0m                       Traceback (most recent call last)",
      "\u001b[0;32m<ipython-input-3-bd32d322b174>\u001b[0m in \u001b[0;36m<module>\u001b[0;34m\u001b[0m\n\u001b[0;32m----> 1\u001b[0;31m \u001b[0;32mfrom\u001b[0m \u001b[0mutils\u001b[0m \u001b[0;32mimport\u001b[0m \u001b[0mmimic_data_tensors\u001b[0m\u001b[0;34m\u001b[0m\u001b[0m\n\u001b[0m",
      "\u001b[0;32m~/hierarchichal_point_process/utils/mimic_data_tensors.py\u001b[0m in \u001b[0;36m<module>\u001b[0;34m\u001b[0m\n\u001b[1;32m      5\u001b[0m \u001b[0;32mimport\u001b[0m \u001b[0mnumpy\u001b[0m \u001b[0;32mas\u001b[0m \u001b[0mnp\u001b[0m\u001b[0;34m\u001b[0m\u001b[0m\n\u001b[1;32m      6\u001b[0m \u001b[0;34m\u001b[0m\u001b[0m\n\u001b[0;32m----> 7\u001b[0;31m \u001b[0;32mfrom\u001b[0m \u001b[0mutils_\u001b[0m \u001b[0;32mimport\u001b[0m \u001b[0mget_intervals\u001b[0m\u001b[0;34m\u001b[0m\u001b[0m\n\u001b[0m\u001b[1;32m      8\u001b[0m \u001b[0;34m\u001b[0m\u001b[0m\n\u001b[1;32m      9\u001b[0m \u001b[0mdevice\u001b[0m \u001b[0;34m=\u001b[0m \u001b[0mtorch\u001b[0m\u001b[0;34m.\u001b[0m\u001b[0mdevice\u001b[0m\u001b[0;34m(\u001b[0m\u001b[0;34m\"cuda\"\u001b[0m \u001b[0;32mif\u001b[0m \u001b[0mtorch\u001b[0m\u001b[0;34m.\u001b[0m\u001b[0mcuda\u001b[0m\u001b[0;34m.\u001b[0m\u001b[0mis_available\u001b[0m\u001b[0;34m(\u001b[0m\u001b[0;34m)\u001b[0m \u001b[0;32melse\u001b[0m \u001b[0;34m\"cpu\"\u001b[0m\u001b[0;34m)\u001b[0m\u001b[0;34m\u001b[0m\u001b[0m\n",
      "\u001b[0;31mModuleNotFoundError\u001b[0m: No module named 'utils_'"
     ]
    }
   ],
   "source": [
    "from utils import mimic_data_tensors"
   ]
  },
  {
   "cell_type": "code",
   "execution_count": null,
   "metadata": {},
   "outputs": [],
   "source": []
  }
 ],
 "metadata": {
  "kernelspec": {
   "display_name": "Python 3",
   "language": "python",
   "name": "python3"
  },
  "language_info": {
   "codemirror_mode": {
    "name": "ipython",
    "version": 3
   },
   "file_extension": ".py",
   "mimetype": "text/x-python",
   "name": "python",
   "nbconvert_exporter": "python",
   "pygments_lexer": "ipython3",
   "version": "3.6.6"
  }
 },
 "nbformat": 4,
 "nbformat_minor": 2
}
