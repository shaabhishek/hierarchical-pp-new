{
 "cells": [
  {
   "cell_type": "code",
   "execution_count": 11,
   "metadata": {},
   "outputs": [],
   "source": [
    "import torch"
   ]
  },
  {
   "cell_type": "code",
   "execution_count": 12,
   "metadata": {},
   "outputs": [
    {
     "name": "stdout",
     "output_type": "stream",
     "text": [
      "True\n"
     ]
    }
   ],
   "source": [
    "device = torch.device(\"cuda\" if torch.cuda.is_available() else \"cpu\")\n",
    "print(torch.cuda.is_available())"
   ]
  },
  {
   "cell_type": "markdown",
   "metadata": {},
   "source": [
    "# Data"
   ]
  },
  {
   "cell_type": "code",
   "execution_count": 13,
   "metadata": {},
   "outputs": [],
   "source": [
    "import os\n",
    "import pickle\n",
    "raw_file = './../data/dump/mimic.pickle'\n",
    "with open(raw_file, 'rb') as handle:\n",
    "    data = pickle.load(handle)"
   ]
  },
  {
   "cell_type": "code",
   "execution_count": 14,
   "metadata": {
    "scrolled": true
   },
   "outputs": [
    {
     "name": "stdout",
     "output_type": "stream",
     "text": [
      "<class 'list'>\n",
      "<class 'dict'>\n",
      "dict_keys([0, 1, 2])\n"
     ]
    }
   ],
   "source": [
    "print(type(data))\n",
    "print(type(data[0]))\n",
    "print(data[0].keys())"
   ]
  },
  {
   "cell_type": "code",
   "execution_count": 15,
   "metadata": {},
   "outputs": [],
   "source": [
    "import matplotlib.pyplot as plt"
   ]
  },
  {
   "cell_type": "code",
   "execution_count": 16,
   "metadata": {},
   "outputs": [
    {
     "data": {
      "text/plain": [
       "(array([1.473e+03, 7.100e+01, 2.600e+01, 5.000e+00, 3.000e+00, 3.000e+00,\n",
       "        0.000e+00, 2.000e+00, 1.000e+00, 1.000e+00]),\n",
       " array([ 3. ,  6.4,  9.8, 13.2, 16.6, 20. , 23.4, 26.8, 30.2, 33.6, 37. ]),\n",
       " <a list of 10 Patch objects>)"
      ]
     },
     "execution_count": 16,
     "metadata": {},
     "output_type": "execute_result"
    },
    {
     "data": {
      "image/png": "[encoded data removed]",
      "text/plain": [
       "<Figure size 432x288 with 1 Axes>"
      ]
     },
     "metadata": {
      "needs_background": "light"
     },
     "output_type": "display_data"
    }
   ],
   "source": [
    "plt.hist(list(map(len, data)))"
   ]
  },
  {
   "cell_type": "code",
   "execution_count": 17,
   "metadata": {
    "scrolled": true
   },
   "outputs": [],
   "source": [
    "# [i for i in data[0].values()]"
   ]
  },
  {
   "cell_type": "markdown",
   "metadata": {},
   "source": [
    "## Convert to dataframe"
   ]
  },
  {
   "cell_type": "code",
   "execution_count": 18,
   "metadata": {},
   "outputs": [],
   "source": [
    "import pandas\n",
    "import numpy as np"
   ]
  },
  {
   "cell_type": "code",
   "execution_count": 19,
   "metadata": {},
   "outputs": [],
   "source": [
    "def gender_to_categorical(x):\n",
    "    return 0 if x=='M' else 1\n",
    "\n",
    "def mimic_correct_datatypes(icu_df):\n",
    "\n",
    "    # TIMES\n",
    "    icu_df['ADMITTIME'] = icu_df['ADMITTIME'].astype('datetime64')\n",
    "    icu_df['DEATHTIME'] = icu_df['DEATHTIME'].astype('datetime64')\n",
    "    icu_df['DISCHTIME'] = icu_df['DISCHTIME'].astype('datetime64')\n",
    "    icu_df['INTIME'] = icu_df['INTIME'].astype('datetime64')\n",
    "    icu_df['OUTTIME'] = icu_df['OUTTIME'].astype('datetime64')\n",
    "    icu_df['DOB'] = icu_df['DOB'].astype('datetime64')\n",
    "\n",
    "    # FLOATS\n",
    "    icu_df['AGE'] = icu_df['AGE'].astype('float32')\n",
    "    icu_df['LOS'] = icu_df['LOS'].astype('float32')\n",
    "\n",
    "    # INTS\n",
    "    icu_df['SUBJECT_ID'] = icu_df['SUBJECT_ID'].astype('int')\n",
    "    icu_df['HADM_ID'] = icu_df['HADM_ID'].astype('int')\n",
    "    icu_df['ICUSTAY_ID'] = icu_df['ICUSTAY_ID'].astype('int')\n",
    "    icu_df['MORTALITY'] = icu_df['MORTALITY'].astype('int')\n",
    "    return icu_df"
   ]
  },
  {
   "cell_type": "code",
   "execution_count": 63,
   "metadata": {},
   "outputs": [],
   "source": [
    "def mimic_data_to_df(data, colnames=None):\n",
    "    flat_data = [icu_visit for data_i in data for icu_visit in data_i.values()]\n",
    "    icu_df = pandas.DataFrame(flat_data)\n",
    "    icu_df = mimic_correct_datatypes(icu_df)\n",
    "    # Make gender a 0/1 variable\n",
    "    icu_df['GENDER'] = icu_df['GENDER'].apply(gender_to_categorical)\n",
    "    \n",
    "    # Make ETHNICITY a one-hot feature set, removing the first column to ensure there is no linear dependence\n",
    "    ethnicity_dummies = pandas.get_dummies(icu_df.ETHNICITY, drop_first=True, prefix='ETHNICITY_')\n",
    "    icu_df = pandas.concat([icu_df.drop('ETHNICITY', axis=1), ethnicity_dummies], axis=1)\n",
    "    \n",
    "    # Center the AGE column\n",
    "    icu_df['AGE'] = (icu_df.AGE - icu_df.AGE.mean()) / icu_df.AGE.std()\n",
    "    \n",
    "    if colnames is None:\n",
    "        return icu_df\n",
    "    else:\n",
    "        return icu_df[colnames]"
   ]
  },
  {
   "cell_type": "markdown",
   "metadata": {},
   "source": [
    "## Datatypes"
   ]
  },
  {
   "cell_type": "code",
   "execution_count": 75,
   "metadata": {},
   "outputs": [],
   "source": [
    "from utils.synthetic_data import get_intervals\n",
    "def compute_admit_times(data):\n",
    "    \"\"\"\n",
    "        Input: \n",
    "            data: list of dicts, where each dict corresponds to a patient and has 1 entry per icu visit\n",
    "        Output:\n",
    "            admit_times: Tensor of shape T x N x 2\n",
    "    \"\"\"\n",
    "    max_visit_n = max([len(data_i) for data_i in data])\n",
    "    admit_times = []\n",
    "    for data_i in data:\n",
    "        patient_admit_times = [icu_visit['ADMITTIME'] for icu_visit in data_i.values()]\n",
    "        # Convert the date times str -> datetime64 -> int\n",
    "        patient_admit_times = np.array(patient_admit_times).astype(np.datetime64).astype('int')\n",
    "        patient_visit_n = len(patient_admit_times)\n",
    "        patient_admit_times = np.pad(patient_admit_times, (0,max_visit_n-patient_visit_n), mode='constant')\n",
    "        admit_times.append(patient_admit_times)\n",
    "    admit_times = np.stack(admit_times).T\n",
    "    admit_times = (admit_times - admit_times.min()) / (admit_times.max() - admit_times.min())\n",
    "    admit_times = torch.tensor(admit_times).float().to(device)\n",
    "    intervals = get_intervals(admit_times)\n",
    "    admit_times = torch.stack([admit_times, intervals], dim=-1)\n",
    "    return admit_times"
   ]
  },
  {
   "cell_type": "code",
   "execution_count": 42,
   "metadata": {
    "scrolled": true
   },
   "outputs": [],
   "source": [
    "def compute_markers(data):\n",
    "    \"\"\"\n",
    "        Input: \n",
    "            data: list of dicts, where each dict corresponds to a patient and has 1 entry per icu visit\n",
    "        Output:\n",
    "            admit_times: Tensor of shape T x N x marker_dim\n",
    "    \"\"\"\n",
    "    max_visit_n = max([len(data_i) for data_i in data])\n",
    "    markers = []\n",
    "    icu_df = mimic_data_to_df(data)\n",
    "    icu_df = icu_df.filter(regex='AGE|GENDER|^ETHNICITY|SUBJECT_ID', axis=1)\n",
    "    group_patients = icu_df.groupby('SUBJECT_ID', )\n",
    "    for patient_idx, patient_df_rows in group_patients.groups.items():\n",
    "        # Get an array of shape  (T_i x marker_dim)\n",
    "        patient_markers = icu_df.iloc[patient_df_rows].drop('SUBJECT_ID', axis=1).values\n",
    "        t_i, marker_dim = patient_markers.shape\n",
    "        # Get an array of shape  (T_max x marker_dim)\n",
    "        patient_markers = np.pad(patient_markers, pad_width=((0,max_visit_n - t_i), (0,0)), mode='constant')\n",
    "        markers.append(patient_markers)\n",
    "    # Shape = T x N x marker_dim\n",
    "    markers = np.stack(markers).transpose((1,0,2))\n",
    "    markers = torch.tensor(markers)\n",
    "    return markers"
   ]
  },
  {
   "cell_type": "code",
   "execution_count": 39,
   "metadata": {},
   "outputs": [],
   "source": [
    "def mimic_data_tensors(data):\n",
    "    admit_times = compute_admit_times(data)\n",
    "    markers = compute_markers(data)\n",
    "    data_dict = {\n",
    "        't': admit_times,\n",
    "        'x': markers\n",
    "    }\n",
    "    return data_dict"
   ]
  },
  {
   "cell_type": "code",
   "execution_count": 24,
   "metadata": {},
   "outputs": [],
   "source": [
    "mimic_data = mimic_data_tensors(data)"
   ]
  },
  {
   "cell_type": "code",
   "execution_count": 27,
   "metadata": {},
   "outputs": [
    {
     "data": {
      "text/plain": [
       "tensor(99982., dtype=torch.float64)"
      ]
     },
     "execution_count": 27,
     "metadata": {},
     "output_type": "execute_result"
    }
   ],
   "source": [
    "mimic_data['x'].max()"
   ]
  },
  {
   "cell_type": "code",
   "execution_count": 64,
   "metadata": {},
   "outputs": [],
   "source": [
    "icu_df = mimic_data_to_df(data)"
   ]
  },
  {
   "cell_type": "code",
   "execution_count": 76,
   "metadata": {},
   "outputs": [],
   "source": [
    "marker_tensor = compute_markers(data)\n",
    "time_tensor = compute_admit_times(data)"
   ]
  },
  {
   "cell_type": "code",
   "execution_count": 72,
   "metadata": {},
   "outputs": [
    {
     "data": {
      "text/plain": [
       "(torch.Size([37, 1585, 31]), torch.Size([37, 1585, 2]))"
      ]
     },
     "execution_count": 72,
     "metadata": {},
     "output_type": "execute_result"
    }
   ],
   "source": [
    "marker_tensor.shape, time_tensor.shape"
   ]
  },
  {
   "cell_type": "code",
   "execution_count": 77,
   "metadata": {},
   "outputs": [
    {
     "data": {
      "text/plain": [
       "tensor([[[6.7869e-01, 6.7869e-01],\n",
       "         [9.0349e-01, 9.0349e-01],\n",
       "         [7.5369e-01, 7.5369e-01],\n",
       "         ...,\n",
       "         [6.6664e-01, 6.6664e-01],\n",
       "         [5.9738e-01, 5.9738e-01],\n",
       "         [8.1326e-01, 8.1326e-01]],\n",
       "\n",
       "        [[6.9876e-01, 2.0068e-02],\n",
       "         [9.0648e-01, 2.9978e-03],\n",
       "         [7.5672e-01, 3.0349e-03],\n",
       "         ...,\n",
       "         [6.7251e-01, 5.8703e-03],\n",
       "         [5.9744e-01, 5.4121e-05],\n",
       "         [8.2355e-01, 1.0281e-02]],\n",
       "\n",
       "        [[7.1304e-01, 1.4287e-02],\n",
       "         [9.1713e-01, 1.0643e-02],\n",
       "         [7.5736e-01, 6.3676e-04],\n",
       "         ...,\n",
       "         [6.7273e-01, 2.1601e-04],\n",
       "         [5.9770e-01, 2.6083e-04],\n",
       "         [8.3123e-01, 7.6807e-03]],\n",
       "\n",
       "        ...,\n",
       "\n",
       "        [[0.0000e+00, 0.0000e+00],\n",
       "         [0.0000e+00, 0.0000e+00],\n",
       "         [0.0000e+00, 0.0000e+00],\n",
       "         ...,\n",
       "         [0.0000e+00, 0.0000e+00],\n",
       "         [0.0000e+00, 0.0000e+00],\n",
       "         [0.0000e+00, 0.0000e+00]],\n",
       "\n",
       "        [[0.0000e+00, 0.0000e+00],\n",
       "         [0.0000e+00, 0.0000e+00],\n",
       "         [0.0000e+00, 0.0000e+00],\n",
       "         ...,\n",
       "         [0.0000e+00, 0.0000e+00],\n",
       "         [0.0000e+00, 0.0000e+00],\n",
       "         [0.0000e+00, 0.0000e+00]],\n",
       "\n",
       "        [[0.0000e+00, 0.0000e+00],\n",
       "         [0.0000e+00, 0.0000e+00],\n",
       "         [0.0000e+00, 0.0000e+00],\n",
       "         ...,\n",
       "         [0.0000e+00, 0.0000e+00],\n",
       "         [0.0000e+00, 0.0000e+00],\n",
       "         [0.0000e+00, 0.0000e+00]]], device='cuda:0')"
      ]
     },
     "execution_count": 77,
     "metadata": {},
     "output_type": "execute_result"
    }
   ],
   "source": [
    "time_tensor"
   ]
  },
  {
   "cell_type": "code",
   "execution_count": null,
   "metadata": {},
   "outputs": [],
   "source": []
  }
 ],
 "metadata": {
  "kernelspec": {
   "display_name": "Python 3",
   "language": "python",
   "name": "python3"
  },
  "language_info": {
   "codemirror_mode": {
    "name": "ipython",
    "version": 3
   },
   "file_extension": ".py",
   "mimetype": "text/x-python",
   "name": "python",
   "nbconvert_exporter": "python",
   "pygments_lexer": "ipython3",
   "version": "3.6.6"
  }
 },
 "nbformat": 4,
 "nbformat_minor": 2
}
