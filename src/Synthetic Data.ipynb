{
 "cells": [
  {
   "cell_type": "code",
   "execution_count": 1,
   "metadata": {},
   "outputs": [],
   "source": [
    "import torch\n",
    "import random\n",
    "import numpy as np\n",
    "import matplotlib.pyplot as plt"
   ]
  },
  {
   "cell_type": "code",
   "execution_count": 21,
   "metadata": {},
   "outputs": [],
   "source": [
    "from torch.distributions import Categorical, Exponential"
   ]
  },
  {
   "cell_type": "code",
   "execution_count": 1,
   "metadata": {},
   "outputs": [],
   "source": [
    "from utils_ import hawkes, intensity_hawkes, plot_process, generate_hawkes, generate_mpp"
   ]
  },
  {
   "cell_type": "code",
   "execution_count": 3,
   "metadata": {},
   "outputs": [
    {
     "data": {
      "text/plain": [
       "<torch._C.Generator at 0x10c5d3670>"
      ]
     },
     "execution_count": 3,
     "metadata": {},
     "output_type": "execute_result"
    }
   ],
   "source": [
    "torch.manual_seed(1)"
   ]
  },
  {
   "cell_type": "code",
   "execution_count": 91,
   "metadata": {},
   "outputs": [],
   "source": [
    "def autoregressive_data(time_step = 100, num_sample = 80, num_clusters=3):\n",
    "    def _alpha_n(interval_history, mu, gamma, mem_vec, m):\n",
    "        \"\"\"\n",
    "            Input:\n",
    "                interval_history: Tensor of shape num_clusters x n-1\n",
    "                mu: base duration, Tensor of length num_clusters\n",
    "                gamma: Tensor of length num_clusters\n",
    "                mem_vec: Tensor of shape num_clusters x m\n",
    "                m: number of lookback steps, Scalar\n",
    "            Output:\n",
    "                alpha_n: Tensor of shape num_clusters\n",
    "        \"\"\"\n",
    "        _, _, history_size = interval_history.shape\n",
    "        window_size = min(m, history_size)\n",
    "        past_effects = interval_history[:,:,-window_size:]*mem_vec[:,-window_size:]\n",
    "        inverse_alpha = mu + gamma * past_effects.sum(dim=-1)\n",
    "        return torch.div(1, inverse_alpha)\n",
    "    \n",
    "    num_clusters = 3\n",
    "    \n",
    "    # effect of previous intervals\n",
    "    m = 5\n",
    "    \n",
    "    # for each cluster, we have different\n",
    "    # base_mu, gamma, and memory_vector\n",
    "    vals_base_mu = 1+torch.rand(num_clusters)\n",
    "    vals_gamma = torch.rand(num_clusters)\n",
    "    mem_vec = torch.rand(num_clusters, m)\n",
    "    \n",
    "    \n",
    "    interval_history = torch.zeros(num_sample, num_clusters, 1)\n",
    "    # for each time, get alpha and using it compute\n",
    "    # the duration of the interval.\n",
    "    # Here the intervals are distributed according to the\n",
    "    # exponential distribution with rate = alpha\n",
    "\n",
    "    for n in range(time_step):\n",
    "        rate = _alpha_n(interval_history, vals_base_mu, vals_gamma, mem_vec, m)\n",
    "        interval_dist = Exponential(rate=rate)\n",
    "        duration_n = interval_dist.sample()\n",
    "        interval_history = torch.cat([interval_history, duration_n.view(num_sample, -1, 1)], dim=-1)\n",
    "    \n",
    "    # first interval was all zeros for convenience\n",
    "    interval_history = interval_history[:,:,1:]\n",
    "    # combine the data from different clusters into one\n",
    "    interval_history = interval_history.view(-1, time_step)\n",
    "    # shape = T x N\n",
    "    interval_history = interval_history.transpose(0,1)\n",
    "    timeseries = interval_history.cumsum(0)\n",
    "    # shape = T x N x 2\n",
    "    t = torch.stack([timeseries, interval_history], dim=-1)\n",
    "    return t"
   ]
  },
  {
   "cell_type": "code",
   "execution_count": 92,
   "metadata": {},
   "outputs": [
    {
     "data": {
      "text/plain": [
       "torch.Size([100, 240, 2])"
      ]
     },
     "execution_count": 92,
     "metadata": {},
     "output_type": "execute_result"
    }
   ],
   "source": [
    "autoregressive_data().shape"
   ]
  },
  {
   "cell_type": "code",
   "execution_count": 87,
   "metadata": {},
   "outputs": [
    {
     "data": {
      "image/png": "[encoded data removed]",
      "text/plain": [
       "<Figure size 432x288 with 1 Axes>"
      ]
     },
     "metadata": {
      "needs_background": "light"
     },
     "output_type": "display_data"
    },
    {
     "name": "stdout",
     "output_type": "stream",
     "text": [
      "(100,)\n"
     ]
    },
    {
     "data": {
      "image/png": "[encoded data removed]",
      "text/plain": [
       "<Figure size 432x288 with 1 Axes>"
      ]
     },
     "metadata": {
      "needs_background": "light"
     },
     "output_type": "display_data"
    }
   ],
   "source": [
    "def plot_process(timeseries, intervals=False):\n",
    "    \"\"\"\n",
    "        Input:\n",
    "            timeseries: Tensor of shape T x N\n",
    "    \"\"\"\n",
    "#     if intervals:\n",
    "#         timeseries = timeseries.cumsum(dim=0)\n",
    "    \n",
    "    \n",
    "    history = np.array(timeseries[:,1])\n",
    "#     time = np.linspace(0, history[-1], 1000)\n",
    "#     intensities = [intensity_hawkes(t, history) for t in time]\n",
    "#     plt.plot(time, intensities)\n",
    "    plt.scatter(history, np.zeros_like(history))\n",
    "    plt.show()\n",
    "    print(history.shape)\n",
    "    plt.hist(history[history<5], bins=50)\n",
    "    \n",
    "plot_process(autoregressive_data(), intervals=True)"
   ]
  },
  {
   "cell_type": "code",
   "execution_count": 83,
   "metadata": {},
   "outputs": [
    {
     "data": {
      "text/plain": [
       "tensor([0.0892, 0.5514, 0.9913])"
      ]
     },
     "execution_count": 83,
     "metadata": {},
     "output_type": "execute_result"
    }
   ],
   "source": [
    "num_clusters = 3\n",
    "vals_mu = torch.rand(num_clusters)\n",
    "prob_mu = torch.rand(num_clusters)\n",
    "vals_mu"
   ]
  },
  {
   "cell_type": "code",
   "execution_count": 4,
   "metadata": {},
   "outputs": [
    {
     "data": {
      "text/plain": [
       "tensor(0.6788)"
      ]
     },
     "execution_count": 4,
     "metadata": {},
     "output_type": "execute_result"
    }
   ],
   "source": [
    "prob_mu /= prob_mu.sum()\n",
    "mu_dist = Categorical(probs=prob_mu)\n",
    "mu_dist.sample()\n",
    "vals_mu[mu_dist.sample()]"
   ]
  },
  {
   "cell_type": "code",
   "execution_count": 6,
   "metadata": {
    "scrolled": true
   },
   "outputs": [
    {
     "data": {
      "text/plain": [
       "tensor([[[-1.0968e+00,  1.9381e+00,  3.0484e-01,  ..., -8.9146e-01,\n",
       "           8.6334e-01,  7.8218e-01],\n",
       "         [-5.8750e-01, -1.9692e+00, -6.8172e-01,  ...,  1.3253e+00,\n",
       "          -1.0980e+00,  1.7116e+00],\n",
       "         [-1.3752e+00, -1.3994e+00,  1.0891e+00,  ...,  2.1437e-01,\n",
       "          -1.5731e+00,  1.1374e+00],\n",
       "         ...,\n",
       "         [-1.9187e+00,  1.1461e+00, -1.5353e+00,  ..., -7.5408e-01,\n",
       "          -4.7184e-02, -5.6133e-01],\n",
       "         [ 1.0332e+00, -4.3472e-01,  3.1378e-01,  ..., -1.1160e+00,\n",
       "           1.2970e+00, -2.4168e+00],\n",
       "         [-2.2053e+00, -3.9163e-01,  3.4941e-01,  ...,  6.2798e-01,\n",
       "          -1.2972e+00, -3.5974e-02]],\n",
       "\n",
       "        [[-1.2021e+00,  5.0608e-01, -3.9142e-01,  ..., -4.4091e-01,\n",
       "          -2.6486e-01, -2.8753e+00],\n",
       "         [ 6.6529e-01, -1.4317e+00,  3.1774e-01,  ...,  5.0915e-01,\n",
       "           1.3670e+00, -2.0537e+00],\n",
       "         [ 1.1055e+00,  1.0706e+00,  1.1075e+00,  ...,  5.6959e-01,\n",
       "           2.6731e-01, -9.5668e-02],\n",
       "         ...,\n",
       "         [ 4.3031e-01, -8.0847e-01,  7.8507e-01,  ..., -1.8355e+00,\n",
       "          -2.1421e+00, -1.9756e-01],\n",
       "         [-4.0644e-01, -8.9132e-01,  2.7747e-01,  ..., -9.4809e-01,\n",
       "          -2.2431e+00, -6.0369e-01],\n",
       "         [ 1.5462e-01, -3.9275e-02, -3.9370e-01,  ...,  1.4195e+00,\n",
       "          -2.0278e-01,  1.3678e-01]],\n",
       "\n",
       "        [[-1.1362e+00,  2.1059e+00,  1.2923e+00,  ...,  2.8301e-01,\n",
       "          -9.9907e-01, -6.6541e-01],\n",
       "         [-1.0152e+00, -4.8528e-01, -3.6462e-02,  ...,  8.5383e-02,\n",
       "          -9.4999e-01, -1.1482e+00],\n",
       "         [ 2.7258e-01,  1.0695e+00, -6.7413e-01,  ...,  1.6036e-01,\n",
       "           9.3085e-01,  7.4179e-01],\n",
       "         ...,\n",
       "         [ 1.1676e+00, -5.3754e-01, -1.0192e+00,  ...,  1.6654e-01,\n",
       "           4.0242e-01, -1.8540e-01],\n",
       "         [-1.3758e+00, -3.1332e-01,  1.2336e+00,  ...,  1.0634e+00,\n",
       "          -3.7912e-01,  4.1650e-01],\n",
       "         [-1.8074e-01, -1.3947e+00, -1.5463e+00,  ...,  1.1340e+00,\n",
       "           1.9494e-01,  6.9761e-01]],\n",
       "\n",
       "        ...,\n",
       "\n",
       "        [[-2.2009e+00,  1.3781e+00,  2.0712e+00,  ..., -4.8949e-01,\n",
       "           1.1625e+00,  9.0419e-01],\n",
       "         [-1.1136e+00, -1.1481e+00,  4.1372e-01,  ...,  2.1745e+00,\n",
       "           4.4734e-01, -8.1661e-01],\n",
       "         [ 5.6661e-02,  3.1510e-02, -1.3721e+00,  ...,  6.7168e-01,\n",
       "           1.1413e+00,  2.0665e+00],\n",
       "         ...,\n",
       "         [-4.8394e-01, -5.0002e-01, -4.8625e-01,  ..., -5.4267e-01,\n",
       "           5.9389e-01,  5.9254e-01],\n",
       "         [-4.8938e-01,  1.1770e+00,  6.6827e-01,  ...,  2.0736e-01,\n",
       "           6.2577e-01,  9.0552e-01],\n",
       "         [-8.8690e-01, -4.9132e-01,  1.3350e+00,  ...,  8.4481e-02,\n",
       "           1.2268e+00,  5.7734e-02]],\n",
       "\n",
       "        [[ 9.8492e-02, -1.9351e+00, -2.5661e+00,  ...,  1.3885e+00,\n",
       "           3.7207e-01,  3.4677e-01],\n",
       "         [-2.2479e-01,  1.1924e+00, -7.3857e-01,  ...,  4.1189e-01,\n",
       "          -7.0344e-01, -2.8402e-01],\n",
       "         [ 3.3248e-01, -4.8116e-01, -7.3729e-01,  ..., -1.2670e+00,\n",
       "          -8.1984e-01, -1.1612e+00],\n",
       "         ...,\n",
       "         [-5.7579e-01, -9.8119e-01, -1.1149e+00,  ...,  7.8650e-01,\n",
       "          -1.7261e+00,  5.8128e-01],\n",
       "         [ 1.3751e+00, -2.4189e-03, -6.7302e-01,  ...,  4.0961e-01,\n",
       "          -9.2031e-01,  5.1042e-01],\n",
       "         [-4.3868e-02,  1.2688e+00, -5.8457e-01,  ..., -2.1097e-01,\n",
       "           1.4028e-01,  2.2648e+00]],\n",
       "\n",
       "        [[-4.6313e-01,  8.0964e-01, -1.5677e-01,  ...,  2.0932e+00,\n",
       "           1.1626e+00, -8.4460e-01],\n",
       "         [ 1.6518e-01,  1.3586e+00, -9.1934e-01,  ..., -5.5248e-01,\n",
       "           8.3867e-01, -1.0285e+00],\n",
       "         [ 7.9940e-01,  5.7485e-01, -2.2804e-01,  ..., -1.2843e+00,\n",
       "          -6.5480e-02, -8.8849e-02],\n",
       "         ...,\n",
       "         [-8.0541e-01, -1.1338e-02, -5.1453e-01,  ..., -4.2195e-01,\n",
       "          -1.6735e+00,  4.0203e-01],\n",
       "         [-1.0191e+00, -7.7476e-01, -1.5462e+00,  ..., -1.4006e+00,\n",
       "          -1.4579e+00,  4.3426e-01],\n",
       "         [-9.6092e-01, -1.6823e+00, -1.3253e+00,  ...,  1.1491e-02,\n",
       "          -8.1636e-02,  5.7283e-01]]])"
      ]
     },
     "execution_count": 6,
     "metadata": {},
     "output_type": "execute_result"
    }
   ],
   "source": [
    "generate_mpp()[0]['x']"
   ]
  },
  {
   "cell_type": "code",
   "execution_count": 6,
   "metadata": {},
   "outputs": [],
   "source": [
    "timeseries = hawkes(intensity_hawkes)"
   ]
  },
  {
   "cell_type": "code",
   "execution_count": 7,
   "metadata": {},
   "outputs": [
    {
     "data": {
      "image/png": "[encoded data removed]",
      "text/plain": [
       "<Figure size 432x288 with 1 Axes>"
      ]
     },
     "metadata": {
      "needs_background": "light"
     },
     "output_type": "display_data"
    }
   ],
   "source": [
    "plot_process(timeseries)"
   ]
  },
  {
   "cell_type": "code",
   "execution_count": 6,
   "metadata": {},
   "outputs": [],
   "source": [
    "data = generate_hawkes(time_step = 100, num_sample = 80, num_clusters=3)"
   ]
  },
  {
   "cell_type": "code",
   "execution_count": 7,
   "metadata": {},
   "outputs": [],
   "source": [
    "intervals = data[:,:,1].view(-1)"
   ]
  },
  {
   "cell_type": "code",
   "execution_count": 36,
   "metadata": {},
   "outputs": [],
   "source": [
    "intervals[intervals<0.3] = intervals[intervals<0.3]*10"
   ]
  },
  {
   "cell_type": "code",
   "execution_count": 10,
   "metadata": {},
   "outputs": [
    {
     "data": {
      "text/plain": [
       "(array([1060.,  870.,  736.,  606.,  493.,  433.,  355.,  334.,  269.,\n",
       "         232.,  208.,  178.,  161.,  167.,  154.,  125.,   93.,   85.,\n",
       "          91.,   84.,   81.,   57.,   70.,   55., 1003.]),\n",
       " array([0.10004425, 0.19604248, 0.2920407 , 0.38803893, 0.48403716,\n",
       "        0.5800354 , 0.6760336 , 0.77203184, 0.8680301 , 0.9640283 ,\n",
       "        1.0600265 , 1.1560248 , 1.252023  , 1.3480213 , 1.4440194 ,\n",
       "        1.5400177 , 1.6360159 , 1.7320142 , 1.8280123 , 1.9240106 ,\n",
       "        2.0200088 , 2.116007  , 2.2120054 , 2.3080034 , 2.4040017 ,\n",
       "        2.5       ], dtype=float32),\n",
       " <a list of 25 Patch objects>)"
      ]
     },
     "execution_count": 10,
     "metadata": {},
     "output_type": "execute_result"
    },
    {
     "data": {
      "image/png": "[encoded data removed]",
      "text/plain": [
       "<Figure size 432x288 with 1 Axes>"
      ]
     },
     "metadata": {
      "needs_background": "light"
     },
     "output_type": "display_data"
    }
   ],
   "source": [
    "# plt.hist(intervals[(intervals <= 2.5) and (intervals <= 2.5)])\n",
    "plt.hist(intervals, bins=25)\n",
    "# plt.hist(intervals[intervals <= 2.5], bins=25)\n",
    "# plt.hist(intervals.clamp(0.1, 2.5), bins=25, alpha=0.5)"
   ]
  },
  {
   "cell_type": "code",
   "execution_count": 20,
   "metadata": {},
   "outputs": [
    {
     "data": {
      "text/plain": [
       "tensor([[0.0039, 0.0039],\n",
       "        [0.2027, 0.1988],\n",
       "        [0.4765, 0.2737],\n",
       "        [2.1655, 1.6891],\n",
       "        [2.2276, 0.0620]])"
      ]
     },
     "execution_count": 20,
     "metadata": {},
     "output_type": "execute_result"
    }
   ],
   "source": [
    "data[:5,0]"
   ]
  },
  {
   "cell_type": "code",
   "execution_count": null,
   "metadata": {},
   "outputs": [],
   "source": []
  }
 ],
 "metadata": {
  "kernelspec": {
   "display_name": "Python 3",
   "language": "python",
   "name": "python3"
  },
  "language_info": {
   "codemirror_mode": {
    "name": "ipython",
    "version": 3
   },
   "file_extension": ".py",
   "mimetype": "text/x-python",
   "name": "python",
   "nbconvert_exporter": "python",
   "pygments_lexer": "ipython3",
   "version": "3.6.5"
  }
 },
 "nbformat": 4,
 "nbformat_minor": 2
}
