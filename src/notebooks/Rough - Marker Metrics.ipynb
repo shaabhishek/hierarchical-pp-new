{
 "cells": [
  {
   "cell_type": "code",
   "execution_count": 1,
   "metadata": {},
   "outputs": [],
   "source": [
    "import torch\n",
    "import numpy as np\n",
    "import torch.nn.functional as F"
   ]
  },
  {
   "cell_type": "code",
   "execution_count": 2,
   "metadata": {},
   "outputs": [
    {
     "name": "stdout",
     "output_type": "stream",
     "text": [
      "cuda\n"
     ]
    }
   ],
   "source": [
    "device = 'cuda' if torch.cuda.is_available() else 'cpu'\n",
    "print(device)"
   ]
  },
  {
   "cell_type": "code",
   "execution_count": 3,
   "metadata": {},
   "outputs": [
    {
     "name": "stdout",
     "output_type": "stream",
     "text": [
      "/home/abhishekshar/hierarchichal_point_process/src\n"
     ]
    }
   ],
   "source": [
    "cd '/home/abhishekshar/hierarchichal_point_process/src/'"
   ]
  },
  {
   "cell_type": "code",
   "execution_count": 4,
   "metadata": {},
   "outputs": [],
   "source": [
    "from hrmtpp_exact import hrmtpp_exact\n",
    "from rmtpp import rmtpp"
   ]
  },
  {
   "cell_type": "code",
   "execution_count": 5,
   "metadata": {},
   "outputs": [],
   "source": [
    "model = rmtpp(marker_dim=217, marker_type='binary').to(device)"
   ]
  },
  {
   "cell_type": "code",
   "execution_count": 6,
   "metadata": {},
   "outputs": [
    {
     "data": {
      "text/plain": [
       "array([[6.42523333e+04, 2.16975694e+00, 6.42523333e+04],\n",
       "       [6.46145437e+04, 6.06405093e+00, 3.62210417e+02],\n",
       "       [6.46283021e+04, 1.00356481e+00, 1.37583333e+01]])"
      ]
     },
     "execution_count": 6,
     "metadata": {},
     "output_type": "execute_result"
    }
   ],
   "source": [
    "from utils.data_loader import load_data\n",
    "\n",
    "mimic_x, mimic_t = load_data('../data/mimic_train.pkl')\n",
    "(mimic_t[8])"
   ]
  },
  {
   "cell_type": "code",
   "execution_count": 7,
   "metadata": {},
   "outputs": [
    {
     "data": {
      "text/plain": [
       "[array([[6.38807132e+04, 3.03719907e+00, 6.38807132e+04],\n",
       "        [6.41642389e+04, 6.17858796e-01, 2.83525694e+02],\n",
       "        [6.41656660e+04, 9.09768519e-01, 1.42708333e+00],\n",
       "        [6.41701826e+04, 1.83200231e+00, 4.51666667e+00]]),\n",
       " array([[5.57389674e+04, 6.44548611e-01, 5.57389674e+04],\n",
       "        [5.58828083e+04, 1.15402778e+00, 1.43840972e+02],\n",
       "        [5.59125486e+04, 1.01457176e+00, 2.97402778e+01]]),\n",
       " array([[6.52360236e+04, 3.86074769e+01, 6.52360236e+04],\n",
       "        [6.52775687e+04, 5.20629630e+00, 4.15451389e+01],\n",
       "        [6.53220715e+04, 2.67300926e+00, 4.45027778e+01]])]"
      ]
     },
     "execution_count": 7,
     "metadata": {},
     "output_type": "execute_result"
    }
   ],
   "source": [
    "mimic_t[:3]"
   ]
  },
  {
   "cell_type": "code",
   "execution_count": 8,
   "metadata": {},
   "outputs": [
    {
     "data": {
      "text/plain": [
       "(torch.Size([2, 5, 217]),\n",
       " torch.Size([2, 5, 2]),\n",
       " tensor([[[6.3881e+04, 6.3881e+04],\n",
       "          [5.5739e+04, 5.5739e+04],\n",
       "          [6.5236e+04, 6.5236e+04],\n",
       "          [7.0689e+04, 7.0689e+04],\n",
       "          [8.0423e+04, 8.0423e+04]],\n",
       " \n",
       "         [[6.4164e+04, 2.8353e+02],\n",
       "          [5.5883e+04, 1.4384e+02],\n",
       "          [6.5278e+04, 4.1545e+01],\n",
       "          [7.0712e+04, 2.2917e+01],\n",
       "          [8.0580e+04, 1.5665e+02]]], device='cuda:0'))"
      ]
     },
     "execution_count": 8,
     "metadata": {},
     "output_type": "execute_result"
    }
   ],
   "source": [
    "#First time value is the offset. High value. Removing that. Time interval column  is the last one.\n",
    "t = torch.from_numpy(np.stack([mimic_t[i][:2,:] for i in range(5)], axis=1)).float().to(device)[:,:,[0,2]]\n",
    "x = torch.from_numpy(np.stack([mimic_x[i][:2,:] for i in range(5)], axis=1)).float().to(device)\n",
    "x.shape, t.shape, t"
   ]
  },
  {
   "cell_type": "code",
   "execution_count": 61,
   "metadata": {},
   "outputs": [],
   "source": [
    "def compute_marker_metrics(model, x, t, mask=None):\n",
    "    \"\"\"\n",
    "        Compute marker MSE or accuracy.\n",
    "        Input: \n",
    "            model: Torch.nn module\n",
    "            x : Torch of shape TxBSxmarker_dim\n",
    "            t : Torch of shape TxBSx2. Last column is indexed by [actual time point, interval]\n",
    "            mask is needed here.\n",
    "        Output:\n",
    "            y : Torch of shape TxBS\n",
    "    \"\"\"\n",
    "    with torch.no_grad():\n",
    "        h_embedded = model.compute_hidden_states(x,t,mask)\n",
    "        marker_out_mu, marker_out_logvar = model.generate_marker(h_embedded, t)\n",
    "\n",
    "        if model.marker_type == 'real':\n",
    "            metric = F.mse_loss(marker_out_mu, x, reduction='none').sum(dim=-1)\n",
    "        else:\n",
    "            # Option 1: Compute one accuracy number for every time\n",
    "            metric = (x == (marker_out_mu > 0.5).float()).float().mean(dim=-1)\n",
    "            \n",
    "    return metric"
   ]
  },
  {
   "cell_type": "code",
   "execution_count": 62,
   "metadata": {},
   "outputs": [
    {
     "data": {
      "text/plain": [
       "tensor([[0.5023, 0.5115, 0.5115, 0.5115, 0.5207],\n",
       "        [0.5392, 0.5161, 0.5069, 0.5023, 0.5115]], device='cuda:0')"
      ]
     },
     "execution_count": 62,
     "metadata": {},
     "output_type": "execute_result"
    }
   ],
   "source": [
    "compute_marker_metrics(model, x, t)"
   ]
  },
  {
   "cell_type": "code",
   "execution_count": 48,
   "metadata": {},
   "outputs": [
    {
     "name": "stdout",
     "output_type": "stream",
     "text": [
      "1.14 ms ± 54.4 µs per loop (mean ± std. dev. of 7 runs, 1000 loops each)\n"
     ]
    }
   ],
   "source": [
    "%%timeit\n",
    "compute_marker_metrics(model, x, t)"
   ]
  },
  {
   "cell_type": "code",
   "execution_count": 40,
   "metadata": {},
   "outputs": [],
   "source": [
    "def compute_point_log_likelihood(h, d_js):\n",
    "        \"\"\"\n",
    "            Input:\n",
    "                h : Tensor of shape TxBSxCx self.shared_output_layers[-1]\n",
    "                tj : Tensor of shape TxBSx2 [j,:,0] represents actual time at timestep j ,\\\n",
    "                    [i,:,1] represents time gap d_i = t_i- t_{i-1}\n",
    "                d_js: Tensor of shape TxBSx1x(N+1) [j,:,:,k] represents the k*delta_x in trapezoidal rule\n",
    "                [j,:,:,0] is 0\n",
    "                https://en.wikipedia.org/wiki/Trapezoidal_rule#Uniform_grid\n",
    "            Output:\n",
    "                log_f_t : tensor of shape TxBSxC\n",
    "\n",
    "        \"\"\"\n",
    "        #hz_embedded shape TxBSx64, d_js shape is TxBSx1xN\n",
    "        \n",
    "        \n",
    "        #d_js = tj[:, :, 0:1, None]  # Shape TxBSx1xN Time differences\n",
    "\n",
    "        past_influence = model.h_influence(h)[:,:,:,None]  # TxBSx1,x1\n",
    "\n",
    "\n",
    "        # TxBSx1x1\n",
    "        current_influence = model.time_influence * d_js#TxBSx1xN\n",
    "        base_intensity = model.base_intensity[:,:,:, None]  # 1x1x1x1\n",
    "        #print(past_influence.shape,current_influence.shape, base_intensity.shape)\n",
    "\n",
    "        term1 = past_influence + current_influence + base_intensity\n",
    "        term2 = (past_influence + base_intensity).exp()\n",
    "        term3 = term1.exp()\n",
    "\n",
    "        log_f_t = term1 + \\\n",
    "            (1./(model.time_influence+1e-6 )) * (term2-term3)\n",
    "        return log_f_t  # TxBSxCx(N+1)"
   ]
  },
  {
   "cell_type": "code",
   "execution_count": 38,
   "metadata": {},
   "outputs": [
    {
     "data": {
      "text/plain": [
       "(torch.Size([2, 5, 217]), torch.Size([2, 5]))"
      ]
     },
     "execution_count": 38,
     "metadata": {},
     "output_type": "execute_result"
    }
   ],
   "source": [
    "marker_out_mu.shape, metric.shape"
   ]
  },
  {
   "cell_type": "code",
   "execution_count": 39,
   "metadata": {},
   "outputs": [
    {
     "data": {
      "text/plain": [
       "tensor([[0.5023, 0.5115, 0.5115, 0.5115, 0.5207],\n",
       "        [0.5392, 0.5161, 0.5069, 0.5023, 0.5115]], device='cuda:0')"
      ]
     },
     "execution_count": 39,
     "metadata": {},
     "output_type": "execute_result"
    }
   ],
   "source": [
    "metric"
   ]
  },
  {
   "cell_type": "code",
   "execution_count": 48,
   "metadata": {},
   "outputs": [
    {
     "ename": "NameError",
     "evalue": "name 'times' is not defined",
     "output_type": "error",
     "traceback": [
      "\u001b[0;31m---------------------------------------------------------------------------\u001b[0m",
      "\u001b[0;31mNameError\u001b[0m                                 Traceback (most recent call last)",
      "\u001b[0;32m<ipython-input-48-d28ab23e29a7>\u001b[0m in \u001b[0;36m<module>\u001b[0;34m\u001b[0m\n\u001b[0;32m----> 1\u001b[0;31m \u001b[0mtimes\u001b[0m\u001b[0;34m.\u001b[0m\u001b[0mshape\u001b[0m\u001b[0;34m,\u001b[0m \u001b[0mg\u001b[0m\u001b[0;34m.\u001b[0m\u001b[0mshape\u001b[0m\u001b[0;34m,\u001b[0m \u001b[0ml\u001b[0m\u001b[0;34m.\u001b[0m\u001b[0msum\u001b[0m\u001b[0;34m(\u001b[0m\u001b[0mdim\u001b[0m\u001b[0;34m=\u001b[0m\u001b[0;34m-\u001b[0m\u001b[0;36m1\u001b[0m\u001b[0;34m)\u001b[0m\u001b[0;34m,\u001b[0m \u001b[0mdelta_x\u001b[0m\u001b[0;34m\u001b[0m\u001b[0;34m\u001b[0m\u001b[0m\n\u001b[0m",
      "\u001b[0;31mNameError\u001b[0m: name 'times' is not defined"
     ]
    }
   ],
   "source": [
    "times.shape, g.shape, l.sum(dim=-1), delta_x"
   ]
  },
  {
   "cell_type": "code",
   "execution_count": 40,
   "metadata": {},
   "outputs": [
    {
     "data": {
      "text/plain": [
       "torch.Size([3, 2, 5, 1])"
      ]
     },
     "execution_count": 40,
     "metadata": {},
     "output_type": "execute_result"
    }
   ],
   "source": [
    "integral.shape"
   ]
  },
  {
   "cell_type": "code",
   "execution_count": 41,
   "metadata": {
    "scrolled": true
   },
   "outputs": [
    {
     "data": {
      "text/plain": [
       "tensor([[[[ 7.4486e-03, -1.0391e+02, -3.1650e+02,  ..., -2.0832e+32,\n",
       "           -4.2468e+32, -8.6578e+32],\n",
       "          [-3.6657e-02, -9.9441e+01, -3.0283e+02,  ..., -1.9933e+32,\n",
       "           -4.0636e+32, -8.2842e+32],\n",
       "          [-2.2586e-01, -8.2372e+01, -2.5058e+02,  ..., -1.6497e+32,\n",
       "           -3.3631e+32, -6.8562e+32],\n",
       "          [ 5.7212e-02, -1.0920e+02, -3.3268e+02,  ..., -2.1895e+32,\n",
       "           -4.4635e+32, -9.0996e+32],\n",
       "          [-5.7042e-02, -9.7441e+01, -2.9671e+02,  ..., -1.9531e+32,\n",
       "           -3.9816e+32, -8.1171e+32]],\n",
       "\n",
       "         [[ 7.4486e-03, -1.0391e+02, -3.1650e+02,  ..., -2.0830e+32,\n",
       "           -4.2465e+32, -8.6571e+32],\n",
       "          [-3.6657e-02, -9.9441e+01, -3.0283e+02,  ..., -1.9931e+32,\n",
       "           -4.0633e+32, -8.2836e+32],\n",
       "          [-2.2586e-01, -8.2372e+01, -2.5058e+02,  ..., -1.6496e+32,\n",
       "           -3.3629e+32, -6.8557e+32],\n",
       "          [ 5.7212e-02, -1.0920e+02, -3.3268e+02,  ..., -2.1893e+32,\n",
       "           -4.4632e+32, -9.0989e+32],\n",
       "          [-5.7042e-02, -9.7441e+01, -2.9671e+02,  ..., -1.9529e+32,\n",
       "           -3.9813e+32, -8.1165e+32]]],\n",
       "\n",
       "\n",
       "        [[[-4.5260e-02, -9.8592e+01, -3.0023e+02,  ..., -1.9762e+32,\n",
       "           -4.0288e+32, -8.2133e+32],\n",
       "          [-8.9365e-02, -9.4353e+01, -2.8726e+02,  ..., -1.8909e+32,\n",
       "           -3.8550e+32, -7.8589e+32],\n",
       "          [-2.7857e-01, -7.8170e+01, -2.3770e+02,  ..., -1.5650e+32,\n",
       "           -3.1904e+32, -6.5042e+32],\n",
       "          [ 4.5037e-03, -1.0361e+02, -3.1557e+02,  ..., -2.0770e+32,\n",
       "           -4.2343e+32, -8.6323e+32],\n",
       "          [-1.0975e-01, -9.2457e+01, -2.8146e+02,  ..., -1.8528e+32,\n",
       "           -3.7772e+32, -7.7004e+32]],\n",
       "\n",
       "         [[-4.5260e-02, -9.8592e+01, -3.0023e+02,  ..., -1.9762e+32,\n",
       "           -4.0288e+32, -8.2133e+32],\n",
       "          [-8.9365e-02, -9.4353e+01, -2.8726e+02,  ..., -1.8909e+32,\n",
       "           -3.8550e+32, -7.8589e+32],\n",
       "          [-2.7857e-01, -7.8170e+01, -2.3770e+02,  ..., -1.5650e+32,\n",
       "           -3.1904e+32, -6.5042e+32],\n",
       "          [ 4.5037e-03, -1.0361e+02, -3.1557e+02,  ..., -2.0770e+32,\n",
       "           -4.2343e+32, -8.6323e+32],\n",
       "          [-1.0975e-01, -9.2457e+01, -2.8146e+02,  ..., -1.8528e+32,\n",
       "           -3.7772e+32, -7.7004e+32]]],\n",
       "\n",
       "\n",
       "        [[[-4.5260e-02, -9.8592e+01, -3.0023e+02,  ..., -1.9762e+32,\n",
       "           -4.0288e+32, -8.2133e+32],\n",
       "          [-8.9365e-02, -9.4353e+01, -2.8726e+02,  ..., -1.8909e+32,\n",
       "           -3.8550e+32, -7.8589e+32],\n",
       "          [-2.7857e-01, -7.8170e+01, -2.3770e+02,  ..., -1.5650e+32,\n",
       "           -3.1904e+32, -6.5042e+32],\n",
       "          [ 4.5037e-03, -1.0361e+02, -3.1557e+02,  ..., -2.0770e+32,\n",
       "           -4.2343e+32, -8.6323e+32],\n",
       "          [-1.0975e-01, -9.2457e+01, -2.8146e+02,  ..., -1.8528e+32,\n",
       "           -3.7772e+32, -7.7004e+32]],\n",
       "\n",
       "         [[-4.5260e-02, -9.8592e+01, -3.0023e+02,  ..., -1.9762e+32,\n",
       "           -4.0288e+32, -8.2133e+32],\n",
       "          [-8.9365e-02, -9.4353e+01, -2.8726e+02,  ..., -1.8909e+32,\n",
       "           -3.8550e+32, -7.8589e+32],\n",
       "          [-2.7857e-01, -7.8170e+01, -2.3770e+02,  ..., -1.5650e+32,\n",
       "           -3.1904e+32, -6.5042e+32],\n",
       "          [ 4.5037e-03, -1.0361e+02, -3.1557e+02,  ..., -2.0770e+32,\n",
       "           -4.2343e+32, -8.6323e+32],\n",
       "          [-1.0975e-01, -9.2457e+01, -2.8146e+02,  ..., -1.8528e+32,\n",
       "           -3.7772e+32, -7.7004e+32]]]], device='cuda:0')"
      ]
     },
     "execution_count": 41,
     "metadata": {},
     "output_type": "execute_result"
    }
   ],
   "source": [
    "time_log_likelihood"
   ]
  },
  {
   "cell_type": "code",
   "execution_count": 26,
   "metadata": {},
   "outputs": [
    {
     "ename": "RuntimeError",
     "evalue": "cuda runtime error (59) : device-side assert triggered at /opt/conda/conda-bld/pytorch_1549635019666/work/aten/src/THC/generated/../THCTensorMathCompareT.cuh:69",
     "output_type": "error",
     "traceback": [
      "\u001b[0;31m---------------------------------------------------------------------------\u001b[0m",
      "\u001b[0;31mRuntimeError\u001b[0m                              Traceback (most recent call last)",
      "\u001b[0;32m~/anaconda3/envs/hpp/lib/python3.7/site-packages/IPython/core/formatters.py\u001b[0m in \u001b[0;36m__call__\u001b[0;34m(self, obj)\u001b[0m\n\u001b[1;32m    700\u001b[0m                 \u001b[0mtype_pprinters\u001b[0m\u001b[0;34m=\u001b[0m\u001b[0mself\u001b[0m\u001b[0;34m.\u001b[0m\u001b[0mtype_printers\u001b[0m\u001b[0;34m,\u001b[0m\u001b[0;34m\u001b[0m\u001b[0;34m\u001b[0m\u001b[0m\n\u001b[1;32m    701\u001b[0m                 deferred_pprinters=self.deferred_printers)\n\u001b[0;32m--> 702\u001b[0;31m             \u001b[0mprinter\u001b[0m\u001b[0;34m.\u001b[0m\u001b[0mpretty\u001b[0m\u001b[0;34m(\u001b[0m\u001b[0mobj\u001b[0m\u001b[0;34m)\u001b[0m\u001b[0;34m\u001b[0m\u001b[0;34m\u001b[0m\u001b[0m\n\u001b[0m\u001b[1;32m    703\u001b[0m             \u001b[0mprinter\u001b[0m\u001b[0;34m.\u001b[0m\u001b[0mflush\u001b[0m\u001b[0;34m(\u001b[0m\u001b[0;34m)\u001b[0m\u001b[0;34m\u001b[0m\u001b[0;34m\u001b[0m\u001b[0m\n\u001b[1;32m    704\u001b[0m             \u001b[0;32mreturn\u001b[0m \u001b[0mstream\u001b[0m\u001b[0;34m.\u001b[0m\u001b[0mgetvalue\u001b[0m\u001b[0;34m(\u001b[0m\u001b[0;34m)\u001b[0m\u001b[0;34m\u001b[0m\u001b[0;34m\u001b[0m\u001b[0m\n",
      "\u001b[0;32m~/anaconda3/envs/hpp/lib/python3.7/site-packages/IPython/lib/pretty.py\u001b[0m in \u001b[0;36mpretty\u001b[0;34m(self, obj)\u001b[0m\n\u001b[1;32m    400\u001b[0m                         \u001b[0;32mif\u001b[0m \u001b[0mcls\u001b[0m \u001b[0;32mis\u001b[0m \u001b[0;32mnot\u001b[0m \u001b[0mobject\u001b[0m\u001b[0;31m \u001b[0m\u001b[0;31m\\\u001b[0m\u001b[0;34m\u001b[0m\u001b[0;34m\u001b[0m\u001b[0m\n\u001b[1;32m    401\u001b[0m                                 \u001b[0;32mand\u001b[0m \u001b[0mcallable\u001b[0m\u001b[0;34m(\u001b[0m\u001b[0mcls\u001b[0m\u001b[0;34m.\u001b[0m\u001b[0m__dict__\u001b[0m\u001b[0;34m.\u001b[0m\u001b[0mget\u001b[0m\u001b[0;34m(\u001b[0m\u001b[0;34m'__repr__'\u001b[0m\u001b[0;34m)\u001b[0m\u001b[0;34m)\u001b[0m\u001b[0;34m:\u001b[0m\u001b[0;34m\u001b[0m\u001b[0;34m\u001b[0m\u001b[0m\n\u001b[0;32m--> 402\u001b[0;31m                             \u001b[0;32mreturn\u001b[0m \u001b[0m_repr_pprint\u001b[0m\u001b[0;34m(\u001b[0m\u001b[0mobj\u001b[0m\u001b[0;34m,\u001b[0m \u001b[0mself\u001b[0m\u001b[0;34m,\u001b[0m \u001b[0mcycle\u001b[0m\u001b[0;34m)\u001b[0m\u001b[0;34m\u001b[0m\u001b[0;34m\u001b[0m\u001b[0m\n\u001b[0m\u001b[1;32m    403\u001b[0m \u001b[0;34m\u001b[0m\u001b[0m\n\u001b[1;32m    404\u001b[0m             \u001b[0;32mreturn\u001b[0m \u001b[0m_default_pprint\u001b[0m\u001b[0;34m(\u001b[0m\u001b[0mobj\u001b[0m\u001b[0;34m,\u001b[0m \u001b[0mself\u001b[0m\u001b[0;34m,\u001b[0m \u001b[0mcycle\u001b[0m\u001b[0;34m)\u001b[0m\u001b[0;34m\u001b[0m\u001b[0;34m\u001b[0m\u001b[0m\n",
      "\u001b[0;32m~/anaconda3/envs/hpp/lib/python3.7/site-packages/IPython/lib/pretty.py\u001b[0m in \u001b[0;36m_repr_pprint\u001b[0;34m(obj, p, cycle)\u001b[0m\n\u001b[1;32m    695\u001b[0m     \u001b[0;34m\"\"\"A pprint that just redirects to the normal repr function.\"\"\"\u001b[0m\u001b[0;34m\u001b[0m\u001b[0;34m\u001b[0m\u001b[0m\n\u001b[1;32m    696\u001b[0m     \u001b[0;31m# Find newlines and replace them with p.break_()\u001b[0m\u001b[0;34m\u001b[0m\u001b[0;34m\u001b[0m\u001b[0;34m\u001b[0m\u001b[0m\n\u001b[0;32m--> 697\u001b[0;31m     \u001b[0moutput\u001b[0m \u001b[0;34m=\u001b[0m \u001b[0mrepr\u001b[0m\u001b[0;34m(\u001b[0m\u001b[0mobj\u001b[0m\u001b[0;34m)\u001b[0m\u001b[0;34m\u001b[0m\u001b[0;34m\u001b[0m\u001b[0m\n\u001b[0m\u001b[1;32m    698\u001b[0m     \u001b[0;32mfor\u001b[0m \u001b[0midx\u001b[0m\u001b[0;34m,\u001b[0m\u001b[0moutput_line\u001b[0m \u001b[0;32min\u001b[0m \u001b[0menumerate\u001b[0m\u001b[0;34m(\u001b[0m\u001b[0moutput\u001b[0m\u001b[0;34m.\u001b[0m\u001b[0msplitlines\u001b[0m\u001b[0;34m(\u001b[0m\u001b[0;34m)\u001b[0m\u001b[0;34m)\u001b[0m\u001b[0;34m:\u001b[0m\u001b[0;34m\u001b[0m\u001b[0;34m\u001b[0m\u001b[0m\n\u001b[1;32m    699\u001b[0m         \u001b[0;32mif\u001b[0m \u001b[0midx\u001b[0m\u001b[0;34m:\u001b[0m\u001b[0;34m\u001b[0m\u001b[0;34m\u001b[0m\u001b[0m\n",
      "\u001b[0;32m~/anaconda3/envs/hpp/lib/python3.7/site-packages/torch/tensor.py\u001b[0m in \u001b[0;36m__repr__\u001b[0;34m(self)\u001b[0m\n\u001b[1;32m     64\u001b[0m         \u001b[0;31m# characters to replace unicode characters with.\u001b[0m\u001b[0;34m\u001b[0m\u001b[0;34m\u001b[0m\u001b[0;34m\u001b[0m\u001b[0m\n\u001b[1;32m     65\u001b[0m         \u001b[0;32mif\u001b[0m \u001b[0msys\u001b[0m\u001b[0;34m.\u001b[0m\u001b[0mversion_info\u001b[0m \u001b[0;34m>\u001b[0m \u001b[0;34m(\u001b[0m\u001b[0;36m3\u001b[0m\u001b[0;34m,\u001b[0m\u001b[0;34m)\u001b[0m\u001b[0;34m:\u001b[0m\u001b[0;34m\u001b[0m\u001b[0;34m\u001b[0m\u001b[0m\n\u001b[0;32m---> 66\u001b[0;31m             \u001b[0;32mreturn\u001b[0m \u001b[0mtorch\u001b[0m\u001b[0;34m.\u001b[0m\u001b[0m_tensor_str\u001b[0m\u001b[0;34m.\u001b[0m\u001b[0m_str\u001b[0m\u001b[0;34m(\u001b[0m\u001b[0mself\u001b[0m\u001b[0;34m)\u001b[0m\u001b[0;34m\u001b[0m\u001b[0;34m\u001b[0m\u001b[0m\n\u001b[0m\u001b[1;32m     67\u001b[0m         \u001b[0;32melse\u001b[0m\u001b[0;34m:\u001b[0m\u001b[0;34m\u001b[0m\u001b[0;34m\u001b[0m\u001b[0m\n\u001b[1;32m     68\u001b[0m             \u001b[0;32mif\u001b[0m \u001b[0mhasattr\u001b[0m\u001b[0;34m(\u001b[0m\u001b[0msys\u001b[0m\u001b[0;34m.\u001b[0m\u001b[0mstdout\u001b[0m\u001b[0;34m,\u001b[0m \u001b[0;34m'encoding'\u001b[0m\u001b[0;34m)\u001b[0m\u001b[0;34m:\u001b[0m\u001b[0;34m\u001b[0m\u001b[0;34m\u001b[0m\u001b[0m\n",
      "\u001b[0;32m~/anaconda3/envs/hpp/lib/python3.7/site-packages/torch/_tensor_str.py\u001b[0m in \u001b[0;36m_str\u001b[0;34m(self)\u001b[0m\n\u001b[1;32m    275\u001b[0m             \u001b[0;32mif\u001b[0m \u001b[0;32mnot\u001b[0m \u001b[0mhas_default_dtype\u001b[0m\u001b[0;34m:\u001b[0m\u001b[0;34m\u001b[0m\u001b[0;34m\u001b[0m\u001b[0m\n\u001b[1;32m    276\u001b[0m                 \u001b[0msuffixes\u001b[0m\u001b[0;34m.\u001b[0m\u001b[0mappend\u001b[0m\u001b[0;34m(\u001b[0m\u001b[0;34m'dtype='\u001b[0m \u001b[0;34m+\u001b[0m \u001b[0mstr\u001b[0m\u001b[0;34m(\u001b[0m\u001b[0mself\u001b[0m\u001b[0;34m.\u001b[0m\u001b[0mdtype\u001b[0m\u001b[0;34m)\u001b[0m\u001b[0;34m)\u001b[0m\u001b[0;34m\u001b[0m\u001b[0;34m\u001b[0m\u001b[0m\n\u001b[0;32m--> 277\u001b[0;31m             \u001b[0mtensor_str\u001b[0m \u001b[0;34m=\u001b[0m \u001b[0m_tensor_str\u001b[0m\u001b[0;34m(\u001b[0m\u001b[0mself\u001b[0m\u001b[0;34m,\u001b[0m \u001b[0mindent\u001b[0m\u001b[0;34m)\u001b[0m\u001b[0;34m\u001b[0m\u001b[0;34m\u001b[0m\u001b[0m\n\u001b[0m\u001b[1;32m    278\u001b[0m \u001b[0;34m\u001b[0m\u001b[0m\n\u001b[1;32m    279\u001b[0m     \u001b[0;32mif\u001b[0m \u001b[0mself\u001b[0m\u001b[0;34m.\u001b[0m\u001b[0mlayout\u001b[0m \u001b[0;34m!=\u001b[0m \u001b[0mtorch\u001b[0m\u001b[0;34m.\u001b[0m\u001b[0mstrided\u001b[0m\u001b[0;34m:\u001b[0m\u001b[0;34m\u001b[0m\u001b[0;34m\u001b[0m\u001b[0m\n",
      "\u001b[0;32m~/anaconda3/envs/hpp/lib/python3.7/site-packages/torch/_tensor_str.py\u001b[0m in \u001b[0;36m_tensor_str\u001b[0;34m(self, indent)\u001b[0m\n\u001b[1;32m    193\u001b[0m     \u001b[0;32mif\u001b[0m \u001b[0mself\u001b[0m\u001b[0;34m.\u001b[0m\u001b[0mdtype\u001b[0m \u001b[0;32mis\u001b[0m \u001b[0mtorch\u001b[0m\u001b[0;34m.\u001b[0m\u001b[0mfloat16\u001b[0m\u001b[0;34m:\u001b[0m\u001b[0;34m\u001b[0m\u001b[0;34m\u001b[0m\u001b[0m\n\u001b[1;32m    194\u001b[0m         \u001b[0mself\u001b[0m \u001b[0;34m=\u001b[0m \u001b[0mself\u001b[0m\u001b[0;34m.\u001b[0m\u001b[0mfloat\u001b[0m\u001b[0;34m(\u001b[0m\u001b[0;34m)\u001b[0m\u001b[0;34m\u001b[0m\u001b[0;34m\u001b[0m\u001b[0m\n\u001b[0;32m--> 195\u001b[0;31m     \u001b[0mformatter\u001b[0m \u001b[0;34m=\u001b[0m \u001b[0m_Formatter\u001b[0m\u001b[0;34m(\u001b[0m\u001b[0mget_summarized_data\u001b[0m\u001b[0;34m(\u001b[0m\u001b[0mself\u001b[0m\u001b[0;34m)\u001b[0m \u001b[0;32mif\u001b[0m \u001b[0msummarize\u001b[0m \u001b[0;32melse\u001b[0m \u001b[0mself\u001b[0m\u001b[0;34m)\u001b[0m\u001b[0;34m\u001b[0m\u001b[0;34m\u001b[0m\u001b[0m\n\u001b[0m\u001b[1;32m    196\u001b[0m     \u001b[0;32mreturn\u001b[0m \u001b[0m_tensor_str_with_formatter\u001b[0m\u001b[0;34m(\u001b[0m\u001b[0mself\u001b[0m\u001b[0;34m,\u001b[0m \u001b[0mindent\u001b[0m\u001b[0;34m,\u001b[0m \u001b[0mformatter\u001b[0m\u001b[0;34m,\u001b[0m \u001b[0msummarize\u001b[0m\u001b[0;34m)\u001b[0m\u001b[0;34m\u001b[0m\u001b[0;34m\u001b[0m\u001b[0m\n\u001b[1;32m    197\u001b[0m \u001b[0;34m\u001b[0m\u001b[0m\n",
      "\u001b[0;32m~/anaconda3/envs/hpp/lib/python3.7/site-packages/torch/_tensor_str.py\u001b[0m in \u001b[0;36m__init__\u001b[0;34m(self, tensor)\u001b[0m\n\u001b[1;32m     82\u001b[0m \u001b[0;34m\u001b[0m\u001b[0m\n\u001b[1;32m     83\u001b[0m         \u001b[0;32melse\u001b[0m\u001b[0;34m:\u001b[0m\u001b[0;34m\u001b[0m\u001b[0;34m\u001b[0m\u001b[0m\n\u001b[0;32m---> 84\u001b[0;31m             \u001b[0mnonzero_finite_vals\u001b[0m \u001b[0;34m=\u001b[0m \u001b[0mtorch\u001b[0m\u001b[0;34m.\u001b[0m\u001b[0mmasked_select\u001b[0m\u001b[0;34m(\u001b[0m\u001b[0mtensor_view\u001b[0m\u001b[0;34m,\u001b[0m \u001b[0mtorch\u001b[0m\u001b[0;34m.\u001b[0m\u001b[0misfinite\u001b[0m\u001b[0;34m(\u001b[0m\u001b[0mtensor_view\u001b[0m\u001b[0;34m)\u001b[0m \u001b[0;34m&\u001b[0m \u001b[0mtensor_view\u001b[0m\u001b[0;34m.\u001b[0m\u001b[0mne\u001b[0m\u001b[0;34m(\u001b[0m\u001b[0;36m0\u001b[0m\u001b[0;34m)\u001b[0m\u001b[0;34m)\u001b[0m\u001b[0;34m\u001b[0m\u001b[0;34m\u001b[0m\u001b[0m\n\u001b[0m\u001b[1;32m     85\u001b[0m \u001b[0;34m\u001b[0m\u001b[0m\n\u001b[1;32m     86\u001b[0m             \u001b[0;32mif\u001b[0m \u001b[0mnonzero_finite_vals\u001b[0m\u001b[0;34m.\u001b[0m\u001b[0mnumel\u001b[0m\u001b[0;34m(\u001b[0m\u001b[0;34m)\u001b[0m \u001b[0;34m==\u001b[0m \u001b[0;36m0\u001b[0m\u001b[0;34m:\u001b[0m\u001b[0;34m\u001b[0m\u001b[0;34m\u001b[0m\u001b[0m\n",
      "\u001b[0;32m~/anaconda3/envs/hpp/lib/python3.7/site-packages/torch/functional.py\u001b[0m in \u001b[0;36misfinite\u001b[0;34m(tensor)\u001b[0m\n\u001b[1;32m    266\u001b[0m     \u001b[0;32mif\u001b[0m \u001b[0;32mnot\u001b[0m \u001b[0mtensor\u001b[0m\u001b[0;34m.\u001b[0m\u001b[0mis_floating_point\u001b[0m\u001b[0;34m(\u001b[0m\u001b[0;34m)\u001b[0m\u001b[0;34m:\u001b[0m\u001b[0;34m\u001b[0m\u001b[0;34m\u001b[0m\u001b[0m\n\u001b[1;32m    267\u001b[0m         \u001b[0;32mreturn\u001b[0m \u001b[0mtorch\u001b[0m\u001b[0;34m.\u001b[0m\u001b[0mones_like\u001b[0m\u001b[0;34m(\u001b[0m\u001b[0mtensor\u001b[0m\u001b[0;34m,\u001b[0m \u001b[0mdtype\u001b[0m\u001b[0;34m=\u001b[0m\u001b[0mtorch\u001b[0m\u001b[0;34m.\u001b[0m\u001b[0muint8\u001b[0m\u001b[0;34m)\u001b[0m\u001b[0;34m\u001b[0m\u001b[0;34m\u001b[0m\u001b[0m\n\u001b[0;32m--> 268\u001b[0;31m     \u001b[0;32mreturn\u001b[0m \u001b[0;34m(\u001b[0m\u001b[0mtensor\u001b[0m \u001b[0;34m==\u001b[0m \u001b[0mtensor\u001b[0m\u001b[0;34m)\u001b[0m \u001b[0;34m&\u001b[0m \u001b[0;34m(\u001b[0m\u001b[0mtensor\u001b[0m\u001b[0;34m.\u001b[0m\u001b[0mabs\u001b[0m\u001b[0;34m(\u001b[0m\u001b[0;34m)\u001b[0m \u001b[0;34m!=\u001b[0m \u001b[0minf\u001b[0m\u001b[0;34m)\u001b[0m\u001b[0;34m\u001b[0m\u001b[0;34m\u001b[0m\u001b[0m\n\u001b[0m\u001b[1;32m    269\u001b[0m \u001b[0;34m\u001b[0m\u001b[0m\n\u001b[1;32m    270\u001b[0m \u001b[0;34m\u001b[0m\u001b[0m\n",
      "\u001b[0;31mRuntimeError\u001b[0m: cuda runtime error (59) : device-side assert triggered at /opt/conda/conda-bld/pytorch_1549635019666/work/aten/src/THC/generated/../THCTensorMathCompareT.cuh:69"
     ]
    }
   ],
   "source": [
    "t"
   ]
  },
  {
   "cell_type": "code",
   "execution_count": 43,
   "metadata": {},
   "outputs": [
    {
     "data": {
      "text/plain": [
       "tensor(71228.6328, device='cuda:0')"
      ]
     },
     "execution_count": 43,
     "metadata": {},
     "output_type": "execute_result"
    }
   ],
   "source": [
    "dmax"
   ]
  },
  {
   "cell_type": "code",
   "execution_count": null,
   "metadata": {},
   "outputs": [],
   "source": []
  }
 ],
 "metadata": {
  "kernelspec": {
   "display_name": "Python 3",
   "language": "python",
   "name": "python3"
  },
  "language_info": {
   "codemirror_mode": {
    "name": "ipython",
    "version": 3
   },
   "file_extension": ".py",
   "mimetype": "text/x-python",
   "name": "python",
   "nbconvert_exporter": "python",
   "pygments_lexer": "ipython3",
   "version": "3.7.2"
  }
 },
 "nbformat": 4,
 "nbformat_minor": 2
}
