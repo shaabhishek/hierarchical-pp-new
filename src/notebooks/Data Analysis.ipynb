{
 "cells": [
  {
   "cell_type": "code",
   "execution_count": 1,
   "metadata": {},
   "outputs": [],
   "source": [
    "import torch"
   ]
  },
  {
   "cell_type": "code",
   "execution_count": 2,
   "metadata": {
    "scrolled": true
   },
   "outputs": [
    {
     "name": "stdout",
     "output_type": "stream",
     "text": [
      "True\n"
     ]
    }
   ],
   "source": [
    "device = torch.device(\"cuda\" if torch.cuda.is_available() else \"cpu\")\n",
    "print(torch.cuda.is_available())"
   ]
  },
  {
   "cell_type": "markdown",
   "metadata": {},
   "source": [
    "# Data"
   ]
  },
  {
   "cell_type": "code",
   "execution_count": 3,
   "metadata": {},
   "outputs": [],
   "source": [
    "# import os\n",
    "import pickle\n",
    "raw_file = './../../data/dump/mimic.pickle'\n",
    "with open(raw_file, 'rb') as handle:\n",
    "    data = pickle.load(handle)"
   ]
  },
  {
   "cell_type": "code",
   "execution_count": 4,
   "metadata": {
    "scrolled": true
   },
   "outputs": [
    {
     "name": "stdout",
     "output_type": "stream",
     "text": [
      "<class 'list'>\n",
      "<class 'dict'>\n",
      "dict_keys([0, 1, 2])\n"
     ]
    }
   ],
   "source": [
    "print(type(data))\n",
    "print(type(data[0]))\n",
    "print(data[0].keys())"
   ]
  },
  {
   "cell_type": "code",
   "execution_count": 5,
   "metadata": {},
   "outputs": [],
   "source": [
    "import matplotlib.pyplot as plt"
   ]
  },
  {
   "cell_type": "code",
   "execution_count": 6,
   "metadata": {},
   "outputs": [
    {
     "data": {
      "text/plain": [
       "(array([1.473e+03, 7.100e+01, 2.600e+01, 5.000e+00, 3.000e+00, 3.000e+00,\n",
       "        0.000e+00, 2.000e+00, 1.000e+00, 1.000e+00]),\n",
       " array([ 3. ,  6.4,  9.8, 13.2, 16.6, 20. , 23.4, 26.8, 30.2, 33.6, 37. ]),\n",
       " <a list of 10 Patch objects>)"
      ]
     },
     "execution_count": 6,
     "metadata": {},
     "output_type": "execute_result"
    },
    {
     "data": {
      "image/png": "[encoded data removed]",
      "text/plain": [
       "<Figure size 432x288 with 1 Axes>"
      ]
     },
     "metadata": {
      "needs_background": "light"
     },
     "output_type": "display_data"
    }
   ],
   "source": [
    "plt.hist(list(map(len, data)))"
   ]
  },
  {
   "cell_type": "code",
   "execution_count": 7,
   "metadata": {
    "scrolled": true
   },
   "outputs": [],
   "source": [
    "# [i for i in data[0].values()]"
   ]
  },
  {
   "cell_type": "markdown",
   "metadata": {},
   "source": [
    "## Convert to dataframe"
   ]
  },
  {
   "cell_type": "code",
   "execution_count": 8,
   "metadata": {},
   "outputs": [],
   "source": [
    "import pandas\n",
    "import numpy as np"
   ]
  },
  {
   "cell_type": "code",
   "execution_count": 9,
   "metadata": {},
   "outputs": [],
   "source": [
    "def gender_to_categorical(x):\n",
    "    return 0 if x=='M' else 1\n",
    "\n",
    "def mimic_correct_datatypes(icu_df):\n",
    "\n",
    "    # TIMES\n",
    "    icu_df['ADMITTIME'] = icu_df['ADMITTIME'].astype('datetime64')\n",
    "    icu_df['DEATHTIME'] = icu_df['DEATHTIME'].astype('datetime64')\n",
    "    icu_df['DISCHTIME'] = icu_df['DISCHTIME'].astype('datetime64')\n",
    "    icu_df['INTIME'] = icu_df['INTIME'].astype('datetime64')\n",
    "    icu_df['OUTTIME'] = icu_df['OUTTIME'].astype('datetime64')\n",
    "    icu_df['DOB'] = icu_df['DOB'].astype('datetime64')\n",
    "\n",
    "    # FLOATS\n",
    "    icu_df['AGE'] = icu_df['AGE'].astype('float32')\n",
    "    icu_df['LOS'] = icu_df['LOS'].astype('float32')\n",
    "\n",
    "    # INTS\n",
    "    icu_df['SUBJECT_ID'] = icu_df['SUBJECT_ID'].astype('int')\n",
    "    icu_df['HADM_ID'] = icu_df['HADM_ID'].astype('int')\n",
    "    icu_df['ICUSTAY_ID'] = icu_df['ICUSTAY_ID'].astype('int')\n",
    "    icu_df['MORTALITY'] = icu_df['MORTALITY'].astype('int')\n",
    "    return icu_df"
   ]
  },
  {
   "cell_type": "code",
   "execution_count": 10,
   "metadata": {},
   "outputs": [],
   "source": [
    "def mimic_data_to_df(data, colnames=None):\n",
    "    flat_data = [icu_visit for data_i in data for icu_visit in data_i.values()]\n",
    "    icu_df = pandas.DataFrame(flat_data)\n",
    "    icu_df = mimic_correct_datatypes(icu_df)\n",
    "    # Make gender a 0/1 variable\n",
    "    icu_df['GENDER'] = icu_df['GENDER'].apply(gender_to_categorical)\n",
    "    \n",
    "    # Make ETHNICITY a one-hot feature set, removing the first column to ensure there is no linear dependence\n",
    "#     ethnicity_dummies = pandas.get_dummies(icu_df.ETHNICITY, drop_first=True, prefix='ETHNICITY_')\n",
    "#     icu_df = pandas.concat([icu_df.drop('ETHNICITY', axis=1), ethnicity_dummies], axis=1)\n",
    "    \n",
    "    # Center the AGE column\n",
    "#     icu_df['AGE'] = (icu_df.AGE - icu_df.AGE.mean()) / icu_df.AGE.std()\n",
    "    \n",
    "    if colnames is None:\n",
    "        return icu_df\n",
    "    else:\n",
    "        return icu_df[colnames]"
   ]
  },
  {
   "cell_type": "markdown",
   "metadata": {},
   "source": [
    "## Datatypes"
   ]
  },
  {
   "cell_type": "code",
   "execution_count": 11,
   "metadata": {},
   "outputs": [],
   "source": [
    "def mimic_data_tensors(data=None):\n",
    "    if data==None:\n",
    "        raw_file = './../data/dump/mimic.pickle'\n",
    "        with open(raw_file, 'rb') as handle:\n",
    "            data = pickle.load(handle)\n",
    "\n",
    "    admit_times, lengths = compute_admit_times(data)\n",
    "    mask = create_mask(lengths)\n",
    "    # This is necessary because of the way in which intervals are created,\n",
    "    # the last interval value is the -ve of the last time value, and\n",
    "    # occurs at the time t_{i+1}\n",
    "    admit_times = admit_times*mask\n",
    "    markers = compute_markers(data)\n",
    "    data_dict = {\n",
    "        't': admit_times,\n",
    "        'x': markers\n",
    "    }\n",
    "    return data_dict, mask"
   ]
  },
  {
   "cell_type": "code",
   "execution_count": 12,
   "metadata": {},
   "outputs": [
    {
     "ename": "NameError",
     "evalue": "name 'compute_admit_times' is not defined",
     "output_type": "error",
     "traceback": [
      "\u001b[0;31m---------------------------------------------------------------------------\u001b[0m",
      "\u001b[0;31mNameError\u001b[0m                                 Traceback (most recent call last)",
      "\u001b[0;32m<ipython-input-12-0de98e27d270>\u001b[0m in \u001b[0;36m<module>\u001b[0;34m\u001b[0m\n\u001b[0;32m----> 1\u001b[0;31m \u001b[0mmimic_data\u001b[0m\u001b[0;34m,\u001b[0m \u001b[0mmask\u001b[0m \u001b[0;34m=\u001b[0m \u001b[0mmimic_data_tensors\u001b[0m\u001b[0;34m(\u001b[0m\u001b[0mdata\u001b[0m\u001b[0;34m)\u001b[0m\u001b[0;34m\u001b[0m\u001b[0m\n\u001b[0m",
      "\u001b[0;32m<ipython-input-11-4a4e90c07d60>\u001b[0m in \u001b[0;36mmimic_data_tensors\u001b[0;34m(data)\u001b[0m\n\u001b[1;32m      5\u001b[0m             \u001b[0mdata\u001b[0m \u001b[0;34m=\u001b[0m \u001b[0mpickle\u001b[0m\u001b[0;34m.\u001b[0m\u001b[0mload\u001b[0m\u001b[0;34m(\u001b[0m\u001b[0mhandle\u001b[0m\u001b[0;34m)\u001b[0m\u001b[0;34m\u001b[0m\u001b[0m\n\u001b[1;32m      6\u001b[0m \u001b[0;34m\u001b[0m\u001b[0m\n\u001b[0;32m----> 7\u001b[0;31m     \u001b[0madmit_times\u001b[0m\u001b[0;34m,\u001b[0m \u001b[0mlengths\u001b[0m \u001b[0;34m=\u001b[0m \u001b[0mcompute_admit_times\u001b[0m\u001b[0;34m(\u001b[0m\u001b[0mdata\u001b[0m\u001b[0;34m)\u001b[0m\u001b[0;34m\u001b[0m\u001b[0m\n\u001b[0m\u001b[1;32m      8\u001b[0m     \u001b[0mmask\u001b[0m \u001b[0;34m=\u001b[0m \u001b[0mcreate_mask\u001b[0m\u001b[0;34m(\u001b[0m\u001b[0mlengths\u001b[0m\u001b[0;34m)\u001b[0m\u001b[0;34m\u001b[0m\u001b[0m\n\u001b[1;32m      9\u001b[0m     \u001b[0;31m# This is necessary because of the way in which intervals are created,\u001b[0m\u001b[0;34m\u001b[0m\u001b[0;34m\u001b[0m\u001b[0m\n",
      "\u001b[0;31mNameError\u001b[0m: name 'compute_admit_times' is not defined"
     ]
    }
   ],
   "source": [
    "mimic_data, mask = mimic_data_tensors(data)"
   ]
  },
  {
   "cell_type": "code",
   "execution_count": null,
   "metadata": {},
   "outputs": [],
   "source": [
    "icu_df = mimic_data_to_df(data)"
   ]
  },
  {
   "cell_type": "code",
   "execution_count": null,
   "metadata": {},
   "outputs": [],
   "source": [
    "mimic_data['t'][:6,0]"
   ]
  },
  {
   "cell_type": "code",
   "execution_count": null,
   "metadata": {},
   "outputs": [],
   "source": [
    "def create_mask(lengths):\n",
    "    \"\"\"\n",
    "        Input:\n",
    "            lengths: list of size N=num_samples\n",
    "            \n",
    "        Return:\n",
    "            mask: tensor of shape T_max x N x 1\n",
    "    \"\"\"\n",
    "    # Convert lengths to a row vector\n",
    "    length_max = max(lengths)\n",
    "    num_samples = len(lengths)\n",
    "    lengths = torch.tensor(lengths, device=device).view(1,-1)\n",
    "    \n",
    "    mask = (torch.arange(length_max, device=device).view(-1,1).repeat(1,num_samples) < lengths).float()\n",
    "    mask = mask.view(*mask.shape,1)\n",
    "    return mask"
   ]
  },
  {
   "cell_type": "code",
   "execution_count": null,
   "metadata": {},
   "outputs": [],
   "source": [
    "icu_df = mimic_data_to_df(data)"
   ]
  },
  {
   "cell_type": "code",
   "execution_count": null,
   "metadata": {},
   "outputs": [],
   "source": [
    "icu_df.columns"
   ]
  },
  {
   "cell_type": "code",
   "execution_count": 22,
   "metadata": {},
   "outputs": [],
   "source": [
    "from sklearn.preprocessing import MultiLabelBinarizer"
   ]
  },
  {
   "cell_type": "code",
   "execution_count": 14,
   "metadata": {
    "scrolled": true
   },
   "outputs": [],
   "source": [
    "def compute_markers(data):\n",
    "    \"\"\"\n",
    "        Input: \n",
    "            data: list of dicts, where each dict corresponds to a patient and has 1 entry per icu visit\n",
    "        Output:\n",
    "            admit_times: list of length num_data_train, each element is numpy array of shape T_i x marker_dim\n",
    "    \"\"\"\n",
    "    markers = []\n",
    "    icu_df = mimic_data_to_df(data)\n",
    "    \n",
    "    \n",
    "    # Restricting the icd9 codes to those\n",
    "    # which have occurrence frequency of more than 80 (= 217 / 3126 codes)\n",
    "    _mlb = MultiLabelBinarizer()\n",
    "    _markers = _mlb.fit_transform(icu_df.ICD9_CODE)\n",
    "    codes_subset = _mlb.classes_[(_markers.sum(0) > 80)]\n",
    "    # Use code_subset to select only the high freq icd9 codes\n",
    "    # This WILL throw a warning (because we're skipping many codes) but that's okay\n",
    "    mlb = MultiLabelBinarizer(codes_subset)\n",
    "    markers_multilabel = mlb.fit_transform(icu_df.ICD9_CODE)\n",
    "    \n",
    "    group_patients = icu_df.groupby('SUBJECT_ID')\n",
    "    for patient_idx, patient_df_rows in group_patients.groups.items():\n",
    "        # Get an array of shape  (T_i x marker_dim)\n",
    "        patient_markers = markers_multilabel[patient_df_rows]\n",
    "        t_i, marker_dim = patient_markers.shape\n",
    "        markers.append(patient_markers)\n",
    "    return markers"
   ]
  },
  {
   "cell_type": "code",
   "execution_count": 15,
   "metadata": {},
   "outputs": [
    {
     "name": "stdout",
     "output_type": "stream",
     "text": [
      "/home/abhishekshar/hierarchichal_point_process/src\n"
     ]
    }
   ],
   "source": [
    "cd .."
   ]
  },
  {
   "cell_type": "code",
   "execution_count": 16,
   "metadata": {},
   "outputs": [],
   "source": [
    "from utils.synthetic_data import get_intervals"
   ]
  },
  {
   "cell_type": "code",
   "execution_count": 17,
   "metadata": {},
   "outputs": [
    {
     "name": "stdout",
     "output_type": "stream",
     "text": [
      "/home/abhishekshar/hierarchichal_point_process/src/notebooks\n"
     ]
    }
   ],
   "source": [
    "cd notebooks/"
   ]
  },
  {
   "cell_type": "code",
   "execution_count": 36,
   "metadata": {},
   "outputs": [],
   "source": [
    "def compute_times(data):\n",
    "    \"\"\"\n",
    "        Input: \n",
    "            data: list of dicts, where each dict corresponds to a patient and has 1 entry per icu visit\n",
    "        Output:\n",
    "            t_data: list of length num_data_train, each element is numpy array of shape T_i x 3\n",
    "    \"\"\"\n",
    "#     max_visit_n = max([len(data_i) for data_i in data])\n",
    "    t_data = []\n",
    "    icu_df = mimic_data_to_df(data)\n",
    "    \n",
    "    group_patients = icu_df.groupby('SUBJECT_ID')\n",
    "    for patient_idx, patient_df_rows in group_patients.groups.items():\n",
    "        t_data_i = icu_df.iloc[patient_df_rows][['ADMITTIME', 'INTIME', 'OUTTIME']]\n",
    "        admit_times = t_data_i.ADMITTIME\n",
    "        visit_durations = t_data_i.OUTTIME - t_data_i.INTIME\n",
    "        \n",
    "        # Compute the intervals\n",
    "        shifted = np.concatenate([np.zeros_like(admit_times[0:1]), admit_times[:-1]], axis=0)\n",
    "        intervals = admit_times - shifted\n",
    "\n",
    "        t_data_i = np.stack([admit_times.values.astype(int),\n",
    "                           visit_durations.values.astype(int),\n",
    "                           intervals.values.astype(int)]).T\n",
    "        t_data.append(t_data_i)\n",
    "    return t_data"
   ]
  },
  {
   "cell_type": "code",
   "execution_count": 37,
   "metadata": {
    "scrolled": true
   },
   "outputs": [],
   "source": [
    "t_data = compute_times(data)"
   ]
  },
  {
   "cell_type": "code",
   "execution_count": 23,
   "metadata": {},
   "outputs": [
    {
     "name": "stderr",
     "output_type": "stream",
     "text": [
      "/home/abhishekshar/dmm/env-hrmtpp/lib/python3.6/site-packages/sklearn/preprocessing/label.py:935: UserWarning: unknown class(es) ['0051', '0074', '0085', '00869', '0088', '0090', '0091', '0092', '0093', '01085', '01190', '01194', '01325', '01803', '01880', '01894', '01896', '0270', '0272', '0310', '0312', '0319', '0340', '0380', '03810', '03812', '03819', '0382', '0383', '03840', '03843', '03844', '0388', '0391', '0400', '04100', '04101', '04102', '04103', '04109', '04110', '04112', '04119', '0412', '04149', '0415', '0416', '04182', '04183', '04184', '04185', '04186', '04189', '0419', '0479', '0529', '05311', '05312', '05319', '05320', '05371', '0539', '05410', '0542', '0543', '05443', '05479', '0549', '0578', '0701', '07020', '07022', '07030', '07031', '07041', '07044', '07051', '07071', '0709', '075', '07819', '0785', '0794', '07951', '07953', '0796', '07989', '07999', '0860', '08881', '0940', '1100', '1101', '1103', '1104', '1105', '1108', '1109', '1118', '1121', '1122', '1123', '1124', '1125', '11284', '11289', '1129', '1173', '1175', '1177', '1179', '118', '1208', '1209', '1272', '13101', '1330', '1361', '1363', '1369', '1370', '138', '1390', '1398', '1419', '1452', '1471', '1478', '1479', '1481', '1490', '1504', '1505', '1508', '1509', '1510', '1512', '1518', '1530', '1531', '1532', '1533', '1534', '1536', '1538', '1539', '1541', '1548', '1550', '1551', '1552', '1560', '1561', '1570', '1572', '1578', '1579', '1588', '1589', '1602', '1610', '1611', '1618', '1619', '1620', '1622', '1623', '1624', '1625', '1628', '1629', '1630', '1640', '1642', '1700', '1710', '1715', '1725', '1748', '1749', '1809', '1820', '1830', '1844', '185', '1882', '1884', '1888', '1889', '1890', '1911', '1912', '1913', '1915', '1918', '1919', '1921', '193', '1950', '1960', '1961', '1962', '1969', '1970', '1971', '1972', '1973', '1974', '1975', '1976', '1977', '1978', '1980', '1981', '1982', '1983', '1984', '1985', '1986', '1987', '19882', '19889', '1991', '20000', '20010', '20011', '20020', '20028', '20030', '20050', '20070', '20078', '20080', '20190', '20191', '20198', '20200', '20260', '20280', '20281', '20282', '20283', '20287', '20288', '20300', '20301', '20400', '20401', '20402', '20410', '20411', '20412', '20480', '20500', '20501', '20502', '20510', '20511', '20530', '20780', '20975', '2101', '2111', '2112', '2113', '2114', '2115', '2116', '2123', '2126', '2127', '2137', '2143', '2148', '2154', '2165', '2167', '2189', '220', '2218', '2250', '2251', '2252', '2254', '2270', '2273', '22802', '22804', '22809', '2281', '2298', '2300', '2306', '2325', '2329', '2352', '2353', '2357', '2362', '2367', '23691', '23770', '23771', '23773', '2381', '2382', '2384', '23871', '23872', '23873', '23875', '23876', '23877', '23879', '2390', '2391', '2395', '2397', '2409', '2410', '2411', '24200', '24220', '24280', '24290', '24291', '2440', '2441', '2442', '2443', '2448', '2452', '2468', '2469', '24900', '25001', '25003', '25010', '25012', '25020', '25021', '25022', '25023', '25030', '25031', '25033', '25042', '25052', '25062', '25070', '25071', '25072', '25073', '25081', '25082', '25083', '25090', '25092', '25093', '2511', '2512', '2513', '2518', '2519', '25200', '25201', '25202', '2521', '2528', '2532', '2535', '2536', '2537', '2538', '2550', '25510', '25541', '25542', '2555', '2558', '2559', '2564', '2572', '2589', '2598', '2599', '261', '262', '2630', '2631', '2638', '2651', '2652', '2662', '2682', '2689', '2690', '2699', '2700', '2704', '2707', '2710', '2713', '2721', '2726', '2727', '2728', '2730', '2731', '2732', '2733', '2734', '2738', '2739', '27400', '27401', '27402', '27403', '27482', '27503', '2751', '2752', '2753', '27541', '27542', '27549', '2755', '2764', '27650', '27661', '27669', '2769', '2771', '27730', '27739', '2774', '2776', '27787', '27788', '2779', '27803', '2781', '2788', '27900', '27901', '27903', '27906', '27949', '27950', '27951', '27952', '27953', '2798', '2808', '2810', '2811', '2818', '2819', '2822', '2823', '28240', '28246', '28249', '2825', '28260', '28262', '2829', '2830', '28311', '28319', '2832', '2839', '28411', '28412', '28419', '28489', '2849', '28522', '2853', '2858', '2860', '2863', '2864', '28652', '2866', '2867', '28730', '28731', '28749', '2879', '28800', '28802', '28803', '28804', '2881', '2883', '2884', '28850', '28851', '28862', '28866', '2888', '2890', '2894', '28950', '28951', '28959', '2897', '28981', '28982', '28983', '28984', '28989', '2899', '2900', '29010', '2903', '29040', '29041', '2910', '2913', '2920', '29212', '29281', '29284', '29285', '29289', '2929', '2939', '29410', '29411', '29420', '2949', '29512', '29530', '29532', '29540', '29560', '29562', '29570', '29572', '29590', '29592', '29620', '29622', '29624', '29630', '29632', '29633', '29634', '29640', '29644', '29650', '29651', '29653', '2967', '29689', '29690', '29699', '2971', '2978', '2989', '29900', '30001', '30002', '30011', '30021', '30022', '30029', '3003', '30120', '30122', '3013', '3014', '30150', '30151', '3017', '30181', '30183', '3019', '30250', '30300', '30302', '30390', '30392', '30393', '30400', '30401', '30402', '30403', '30410', '30411', '30420', '30421', '30422', '30423', '30431', '30461', '30470', '30471', '30473', '30481', '30483', '30490', '30491', '30500', '30501', '30502', '30503', '30520', '30522', '30523', '30540', '30541', '30543', '30550', '30551', '30552', '30553', '30560', '30561', '30562', '30563', '30570', '30571', '30573', '30580', '30583', '30590', '30591', '30593', '3060', '3068', '3069', '3071', '30749', '30750', '30781', '3079', '3080', '3082', '3090', '3091', '30924', '30928', '3093', '3094', '30981', '3099', '3102', '3109', '31289', '3129', '31381', '31400', '31401', '3159', '316', '317', '3181', '3182', '319', '3202', '3203', '32082', '3209', '3222', '3229', '32351', '32381', '32382', '3239', '3240', '3241', '325', '326', '32713', '32721', '32724', '32725', '32726', '32727', '32742', '3310', '3313', '3314', '3315', '33182', '33183', '33189', '3319', '3330', '3331', '3332', '33372', '33382', '33385', '33390', '33391', '33394', '33399', '3341', '3342', '3343', '33520', '33523', '3361', '3363', '3368', '3369', '33709', '3371', '33720', '33721', '33722', '33729', '3373', '3379', '33811', '33818', '33819', '33821', '33828', '3383', '3384', '33989', '340', '3410', '34120', '3418', '3419', '34200', '34201', '34210', '34211', '34280', '34281', '34282', '34290', '34291', '34292', '3438', '3439', '34400', '34403', '34404', '34409', '34430', '34460', '34461', '34489', '3449', '34500', '34501', '34510', '34511', '3453', '34540', '34541', '34550', '34551', '34570', '34571', '34580', '34581', '34591', '34600', '34620', '34680', '34691', '3480', '3481', '34831', '34839', '3484', '3485', '34889', '3489', '3490', '3492', '34931', '3499', '3501', '3510', '3518', '3519', '3530', '3536', '3540', '3542', '3548', '3549', '3553', '3558', '3559', '3568', '3569', '3570', '3574', '3575', '3576', '35781', '35782', '35789', '35800', '35801', '3581', '3589', '3591', '3594', '3595', '35971', '35981', '35989', '3599', '36000', '36001', '36019', '36040', '36107', '3619', '36202', '36203', '36205', '36206', '36210', '36230', '36234', '36250', '36274', '36281', '36320', '36400', '3643', '36522', '36523', '36544', '36563', '36570', '36589', '3668', '3669', '36813', '3682', '36846', '3688', '3689', '36900', '3693', '3694', '36960', '3698', '3699', '37005', '37024', '3708', '37140', '37200', '37203', '37230', '37239', '37272', '37300', '37430', '37443', '37452', '37515', '37603', '37632', '37633', '37710', '37716', '37730', '37741', '37775', '37810', '37851', '37852', '37854', '37887', '37900', '37923', '37924', '37941', '37943', '37991', '38010', '38014', '3804', '3814', '3829', '38300', '3839', '38589', '38600', '38610', '38611', '38861', '38870', '38900', '38910', '38912', '38915', '3897', '3898', '3899', '3911', '3940', '3941', '3942', '3950', '3960', '3961', '3962', '3963', '3968', '3969', '39890', '39891', '4010', '4011', '40201', '40291', '40300', '40310', '40311', '40401', '40403', '40491', '40492', '40493', '40591', '41001', '41002', '41011', '41012', '41021', '41031', '41041', '41042', '41051', '41061', '41072', '41081', '41082', '41091', '41092', '4110', '4111', '41181', '41189', '4131', '4139', '41402', '41404', '41405', '41410', '41411', '41412', '4142', '4149', '4150', '41511', '41512', '4160', '4162', '4169', '4178', '4200', '42090', '42091', '42099', '4210', '4219', '4220', '4230', '4231', '4232', '4233', '4238', '4239', '4242', '42490', '4253', '4255', '4257', '4258', '4259', '4260', '42610', '42611', '42612', '42613', '4262', '4263', '4264', '42651', '42652', '42653', '42654', '4266', '4267', '42682', '42689', '4269', '4270', '4272', '42741', '42760', '42769', '42781', '4279', '4281', '42820', '42821', '42831', '42840', '42841', '42842', '42843', '4289', '4290', '4291', '4293', '4294', '4295', '42971', '42979', '42989', '4299', '430', '431', '4321', '4329', '43300', '43310', '43311', '43330', '43400', '43410', '43411', '43491', '4352', '4358', '4359', '4370', '4371', '4372', '4373', '4375', '4377', '4378', '4379', '4380', '43810', '43811', '43812', '43813', '43819', '43820', '43821', '43822', '43830', '43853', '4386', '4387', '43881', '43882', '43883', '43884', '4389', '4400', '4401', '44021', '44022', '44023', '44024', '44029', '44031', '44032', '4404', '4408', '44100', '44101', '44102', '44103', '4412', '4413', '4414', '4417', '4420', '4422', '4423', '44281', '44283', '44284', '44289', '4430', '4431', '44321', '44322', '44329', '44381', '44389', '4441', '44421', '44422', '44481', '44489', '44502', '4460', '44621', '44629', '4464', '4465', '4466', '4467', '4470', '4471', '4472', '4474', '4476', '4478', '4489', '449', '4510', '45111', '45119', '45182', '45183', '45184', '45189', '452', '4532', '45340', '45341', '45342', '45350', '45351', '45352', '4536', '45371', '45372', '45374', '45375', '45376', '45377', '45381', '45382', '45383', '45384', '45385', '45386', '45387', '45389', '4539', '4540', '4549', '4550', '4552', '4553', '4555', '4556', '4558', '4560', '4561', '45620', '4568', '4570', '4571', '4578', '4580', '4581', '45821', '4588', '4590', '45910', '4592', '45989', '4610', '4618', '4619', '462', '463', '46400', '46411', '46430', '46431', '46451', '4659', '4660', '46611', '46619', '4710', '4718', '4719', '4720', '4730', '4731', '4732', '4733', '4738', '4739', '47412', '475', '4778', '4779', '47824', '47829', '47830', '47831', '4784', '4785', '4786', '47874', '47875', '47879', '4801', '4802', '4808', '4809', '481', '4820', '4822', '48232', '48239', '48240', '48242', '48249', '48282', '48283', '48284', '48289', '4829', '4838', '4841', '4846', '4847', '485', '4870', '4871', '48801', '490', '49120', '49122', '4918', '4919', '4920', '49300', '49302', '49321', '49391', '49392', '4940', '4941', '4958', '4959', '500', '501', '5060', '5078', '5080', '5081', '5100', '5109', '5110', '5111', '51181', '51189', '5120', '5121', '5122', '51289', '5130', '514', '51631', '5168', '5169', '5172', '5178', '5181', '5183', '5184', '51851', '51852', '51853', '5187', '51901', '51902', '51909', '51911', '5192', '5193', '5194', '5198', '5199', '52100', '5224', '5225', '52310', '52340', '5238', '5239', '52460', '52511', '52550', '5258', '5259', '5264', '5269', '5272', '52800', '52801', '52809', '5283', '5285', '5289', '5290', '5298', '5300', '53010', '53011', '53012', '53019', '53020', '53021', '5303', '5304', '5305', '5306', '5307', '53082', '53084', '53085', '53087', '53089', '5309', '53100', '53130', '53140', '53150', '53170', '53190', '53200', '53230', '53240', '53250', '53251', '53260', '53261', '53270', '53290', '53291', '53300', '53340', '53370', '53390', '53400', '53440', '53490', '53500', '53501', '53510', '53511', '53520', '53530', '53531', '53540', '53541', '53551', '53560', '53561', '53570', '5362', '53640', '53641', '53642', '53649', '5368', '5370', '5373', '5374', '53781', '53782', '53783', '53784', '53789', '5379', '5400', '5401', '5409', '541', '542', '5439', '55000', '55010', '55090', '5518', '55202', '5521', '55220', '55221', '55229', '5523', '5528', '5531', '55320', '55321', '55329', '5533', '5538', '5539', '5550', '5551', '5552', '5559', '5562', '5563', '5566', '5568', '5569', '5570', '5571', '5579', '5581', '5589', '5600', '5602', '56032', '56039', '56081', '56089', '5609', '56200', '56201', '56211', '56212', '56213', '56409', '5641', '5642', '5647', '56481', '56489', '5650', '5651', '566', '56721', '56722', '56723', '56729', '56731', '56738', '56781', '56789', '5679', '5680', '56881', '56889', '5690', '5691', '5692', '5693', '56941', '56942', '56944', '56949', '5695', '56960', '56961', '56962', '56969', '56981', '56982', '56983', '56984', '56985', '56986', '56989', '5699', '570', '5710', '5711', '5713', '57140', '57142', '57149', '5716', '5718', '5720', '5721', '5722', '5724', '5728', '5730', '5731', '5733', '5734', '5738', '5739', '57400', '57401', '57410', '57420', '57421', '57430', '57431', '57440', '57441', '57450', '57451', '57461', '57470', '57471', '57481', '57490', '57491', '5750', '57510', '57511', '57512', '5754', '5756', '5758', '5761', '5762', '5764', '5768', '5772', '5778', '5779', '5780', '5790', '5793', '5798', '5799', '5800', '5804', '58089', '5809', '5811', '5812', '58181', '58189', '5819', '5821', '5822', '58281', '58289', '5829', '5831', '5832', '58389', '5839', '5846', '5848', '5851', '5852', '5855', '586', '587', '5880', '5881', '58881', '58889', '59000', '59010', '59080', '591', '5920', '5921', '5929', '5932', '5933', '5934', '5935', '59370', '59381', '59382', '59389', '5941', '5950', '5952', '59582', '59589', '5959', '5960', '5961', '5963', '5964', '59659', '5966', '5967', '59689', '5969', '59789', '5988', '5989', '5991', '59960', '59969', '59970', '59971', '59972', '60001', '60011', '60090', '60091', '6010', '6011', '6012', '6019', '6028', '6031', '6038', '6039', '60490', '60499', '605', '6071', '60782', '60783', '60784', '60789', '6084', '60883', '60886', '60889', '6089', '6110', '6111', '61172', '61179', '6144', '6146', '6149', '6159', '61610', '6162', '6164', '6170', '61800', '61801', '6181', '6191', '6192', '6202', '6208', '6210', '62210', '62211', '6238', '6256', '6260', '6271', '6272', '6273', '6279', '62981', '632', '64623', '64804', '64823', '64844', '64863', '64893', '6806', '68102', '68110', '68111', '6820', '6821', '6822', '6823', '6824', '6825', '6827', '6828', '6829', '683', '6851', '68609', '6861', '6869', '69010', '69018', '6918', '6920', '6923', '69282', '69289', '6929', '6930', '6945', '6948', '69513', '69514', '69515', '6952', '6953', '6954', '69550', '69551', '69589', '6959', '6960', '6961', '6962', '6965', '6982', '6983', '6988', '6989', '700', '7011', '7012', '7013', '7015', '70219', '7030', '7038', '7048', '7051', '70583', '7061', '7062', '7068', '70701', '70702', '70704', '70705', '70706', '70707', '70709', '70710', '70711', '70712', '70713', '70719', '70720', '70721', '70723', '70724', '70725', '7078', '7080', '7083', '70901', '7093', '7094', '7098', '7099', '7101', '7102', '7104', '7105', '7108', '7109', '71101', '71103', '71105', '71106', '71107', '71109', '71213', '71230', '71233', '71239', '7131', '7135', '7142', '71481', '7149', '71509', '71516', '71530', '71534', '71535', '71536', '71580', '71589', '71591', '71594', '71595', '71596', '71598', '71680', '71687', '71690', '71691', '71695', '71696', '71697', '71699', '71784', '71831', '71847', '71849', '71901', '71902', '71903', '71906', '71907', '71911', '71916', '71941', '71942', '71943', '71944', '71945', '71946', '71947', '71949', '7197', '7200', '7202', '7210', '7211', '7212', '7213', '72190', '7220', '72210', '72211', '72230', '7224', '72251', '72252', '7226', '72271', '72272', '72283', '72291', '72292', '72293', '7230', '7231', '7234', '7235', '7238', '72400', '72401', '72402', '72409', '7243', '7245', '7248', '725', '7260', '72610', '72611', '72619', '72633', '7265', '72660', '72671', '72673', '72700', '72705', '72740', '72743', '72751', '7280', '7282', '72871', '72885', '72886', '72887', '72888', '72889', '7291', '7292', '72930', '72939', '7294', '7295', '72972', '72973', '72981', '72982', '72989', '72992', '73004', '73005', '73006', '73007', '73008', '73012', '73013', '73015', '73016', '73017', '73018', '73023', '73025', '73026', '73027', '73028', '73029', '7310', '7313', '7318', '7325', '73301', '73309', '73313', '73314', '73316', '73319', '7333', '73342', '73349', '7336', '73382', '73390', '73399', '7350', '7354', '7355', '73620', '7366', '73672', '73679', '73689', '73710', '73712', '73719', '73730', '73732', '73734', '73739', '73741', '73743', '73819', '7384', '7385', '7386', '74190', '74193', '7454', '7455', '74601', '74602', '7463', '7464', '74710', '74721', '74729', '74732', '74761', '74763', '74781', '7483', '7503', '7513', '75162', '75169', '7517', '7530', '75310', '75312', '75317', '75319', '75322', '75329', '7533', '7564', '75683', '75689', '7570', '75733', '75739', '7580', '7581', '7585', '7593', '7596', '75981', '75982', '75989', '78001', '78003', '78009', '7801', '7802', '78033', '7804', '78050', '78051', '78052', '78059', '78060', '78061', '78062', '78064', '78065', '78066', '78071', '78079', '7808', '78093', '78096', '78097', '78099', '7810', '7812', '7813', '7817', '78194', '78199', '7820', '7821', '7823', '7824', '7825', '78261', '7827', '7828', '7830', '78321', '7833', '78340', '7835', '7836', '7837', '7840', '7842', '7843', '78442', '78449', '78451', '78459', '78461', '78469', '7847', '78492', '7852', '7854', '78550', '78559', '7856', '7859', '78600', '78603', '78604', '78605', '78606', '78607', '78609', '7861', '7862', '78630', '78639', '78650', '78651', '78652', '78659', '7866', '7868', '78701', '78702', '78703', '7871', '78720', '78721', '78722', '78723', '78729', '7873', '78760', '78799', '7881', '78821', '78829', '78830', '78831', '78838', '78839', '78843', '7885', '78863', '78899', '78900', '78901', '78903', '78904', '78905', '78906', '78907', '78909', '7891', '7892', '78930', '78933', '78937', '78939', '78951', '78960', '79001', '79029', '7904', '7905', '7906', '7908', '79093', '79094', '79099', '7910', '7919', '7921', '7930', '79311', '7935', '79389', '79400', '7942', '79431', '7944', '7948', '7949', '79500', '79579', '79589', '7960', '7963', '7964', '7969', '7991', '7993', '7994', '79989', '80022', '80101', '80121', '80126', '8020', '8021', '80220', '80224', '80228', '8024', '8026', '8028', '80315', '80425', '80502', '80504', '80505', '80506', '80507', '8052', '8054', '8056', '80600', '80602', '80625', '80629', '8064', '80700', '80701', '80702', '80703', '80704', '80705', '80706', '80709', '8072', '8074', '8075', '8080', '8082', '81000', '81002', '81010', '81100', '81101', '81109', '81201', '81209', '81219', '81220', '81221', '81240', '81242', '81302', '81305', '81308', '81313', '81332', '81333', '81341', '81342', '81344', '81408', '81500', '81502', '81601', '82009', '82020', '82021', '82022', '8208', '82120', '82123', '8220', '82300', '82301', '82302', '82322', '82382', '82392', '8241', '8242', '8244', '8246', '8248', '8250', '82525', '82531', '8260', '83100', '83101', '83300', '83400', '83500', '8360', '8361', '8371', '8404', '8407', '8409', '84500', '8469', '8470', '8500', '85101', '85102', '85140', '85146', '85180', '85181', '85182', '85189', '85200', '85201', '85202', '85206', '85220', '85221', '85225', '85226', '85300', '85301', '85405', '8600', '8602', '8604', '86103', '86120', '86121', '86389', '86401', '86402', '86405', '86415', '86500', '86503', '86509', '86512', '8670', '8676', '86803', '8700', '8708', '87200', '87261', '8730', '8731', '87320', '87330', '87340', '87342', '87343', '87349', '87359', '87360', '87363', '87364', '8738', '8742', '8782', '8795', '88023', '88100', '8820', '8821', '8831', '8875', '8911', '8912', '8920', '8930', '90002', '9010', '9019', '90223', '90289', '9031', '9032', '90441', '9050', '9053', '9054', '9060', '9064', '9070', '9072', '9083', '9089', '9092', '9093', '9100', '9104', '9130', '9142', '9160', '9172', '9190', '920', '9210', '9221', '9222', '92231', '92232', '9224', '92300', '92400', '92410', '92420', '9248', '9331', '9340', '9341', '9348', '9349', '9351', '9352', '936', '9390', '94127', '94204', '94209', '94214', '94421', '94423', '94425', '94522', '94800', '95202', '9558', '9563', '9571', '9582', '9583', '9584', '9587', '95892', '95901', '95909', '95911', '95912', '95914', '9596', '9597', '9623', '9630', '9642', '96500', '96502', '96509', '9651', '9654', '9658', '9661', '9663', '9670', '9678', '9679', '9680', '96901', '96909', '9691', '9693', '9694', '9701', '97081', '9711', '9713', '9724', '9726', '9729', '9752', '9754', '9755', '9778', '9800', '9802', '9809', '9878', '990', '9916', '9920', '9947', '9950', '9951', '99527', '99563', '99567', '99580', '99583', '99590', '99593', '99594', '99601', '99602', '99604', '9961', '9962', '99631', '99639', '99644', '99649', '99652', '99656', '99657', '99659', '99661', '99663', '99664', '99665', '99666', '99667', '99668', '99669', '99671', '99672', '99673', '99675', '99676', '99678', '99679', '99680', '99682', '99685', '99686', '99688', '99689', '99701', '99702', '99709', '9972', '99731', '99739', '99749', '9975', '99762', '99769', '99779', '99791', '99799', '99809', '99813', '9982', '99830', '99831', '99832', '99833', '9984', '99851', '9986', '99881', '99883', '99889', '9992', '99931', '99932', '99933', '99939', '99971', '99989', '9999', 'E8120', 'E8122', 'E8130', 'E8147', 'E8150', 'E8160', 'E8181', 'E8182', 'E8199', 'E8230', 'E8490', 'E8493', 'E8494', 'E8495', 'E8498', 'E8499', 'E8501', 'E8502', 'E8504', 'E8508', 'E851', 'E8528', 'E8529', 'E8532', 'E8538', 'E8540', 'E8543', 'E8551', 'E8556', 'E8580', 'E8582', 'E8583', 'E8586', 'E8588', 'E8589', 'E8603', 'E8668', 'E8698', 'E8700', 'E8703', 'E8704', 'E8705', 'E8708', 'E8709', 'E8718', 'E8744', 'E8761', 'E8781', 'E8783', 'E8784', 'E8785', 'E8786', 'E8790', 'E8792', 'E8794', 'E8796', 'E8799', 'E8801', 'E8809', 'E8810', 'E882', 'E8842', 'E8843', 'E8844', 'E8849', 'E8859', 'E887', 'E8880', 'E8881', 'E8888', 'E8889', 'E9010', 'E9018', 'E9019', 'E9063', 'E9064', 'E911', 'E912', 'E915', 'E9174', 'E918', 'E9208', 'E9209', 'E9211', 'E9241', 'E9242', 'E9248', 'E9270', 'E9278', 'E9283', 'E9288', 'E9289', 'E9290', 'E9291', 'E9292', 'E9293', 'E9294', 'E9298', 'E9299', 'E9300', 'E9301', 'E9303', 'E9305', 'E9306', 'E9307', 'E9308', 'E9309', 'E9310', 'E9313', 'E9315', 'E9317', 'E9319', 'E9323', 'E9330', 'E9331', 'E9334', 'E9343', 'E9344', 'E9347', 'E9348', 'E9351', 'E9352', 'E9353', 'E9354', 'E9356', 'E9358', 'E9359', 'E9361', 'E9363', 'E9364', 'E9370', 'E9378', 'E9379', 'E9383', 'E9384', 'E9387', 'E9390', 'E9391', 'E9392', 'E9393', 'E9394', 'E9397', 'E9398', 'E9401', 'E9411', 'E9412', 'E9413', 'E9420', 'E9421', 'E9422', 'E9424', 'E9425', 'E9426', 'E9429', 'E9430', 'E9433', 'E9444', 'E9447', 'E9451', 'E9452', 'E9457', 'E9460', 'E9478', 'E9479', 'E9496', 'E9500', 'E9503', 'E9504', 'E9509', 'E9530', 'E956', 'E9588', 'E959', 'E9600', 'E9601', 'E9670', 'E9679', 'E969', 'E9800', 'E9803', 'E9804', 'E9809', 'E9888', 'E989', 'V011', 'V0251', 'V0252', 'V0253', 'V0254', 'V0259', 'V0261', 'V0262', 'V029', 'V0382', 'V0481', 'V071', 'V08', 'V0950', 'V0980', 'V0981', 'V0991', 'V1000', 'V1002', 'V1003', 'V1004', 'V1006', 'V1007', 'V1009', 'V1012', 'V1021', 'V1029', 'V1041', 'V1042', 'V1043', 'V1044', 'V1047', 'V1051', 'V1052', 'V1061', 'V1062', 'V1069', 'V1072', 'V1079', 'V1082', 'V1083', 'V1085', 'V1086', 'V1087', 'V1089', 'V1091', 'V113', 'V118', 'V1201', 'V1202', 'V1204', 'V1209', 'V1241', 'V1242', 'V1253', 'V1255', 'V1259', 'V1261', 'V1271', 'V1272', 'V1279', 'V1301', 'V1302', 'V1309', 'V1351', 'V140', 'V141', 'V142', 'V143', 'V145', 'V146', 'V148', 'V1504', 'V1505', 'V1507', 'V1508', 'V1509', 'V151', 'V1529', 'V1541', 'V1551', 'V1552', 'V1584', 'V1588', 'V1589', 'V160', 'V161', 'V162', 'V163', 'V1642', 'V1649', 'V1659', 'V167', 'V169', 'V171', 'V173', 'V1741', 'V1749', 'V175', 'V180', 'V2651', 'V2652', 'V421', 'V425', 'V426', 'V427', 'V4281', 'V4282', 'V4283', 'V430', 'V431', 'V434', 'V4361', 'V442', 'V443', 'V444', 'V4450', 'V4459', 'V446', 'V448', 'V4509', 'V4512', 'V452', 'V453', 'V454', 'V4561', 'V4569', 'V4571', 'V4572', 'V4573', 'V4574', 'V4575', 'V4576', 'V4577', 'V4578', 'V4579', 'V4585', 'V4586', 'V4587', 'V4611', 'V4614', 'V463', 'V4960', 'V4962', 'V4971', 'V4972', 'V4973', 'V4976', 'V4983', 'V4984', 'V4987', 'V5049', 'V5331', 'V5332', 'V5339', 'V536', 'V5399', 'V5412', 'V5413', 'V5415', 'V5416', 'V5419', 'V5423', 'V5427', 'V5489', 'V549', 'V550', 'V551', 'V552', 'V553', 'V554', 'V555', 'V556', 'V560', 'V561', 'V568', 'V5811', 'V5831', 'V5862', 'V5866', 'V5869', 'V5883', 'V596', 'V600', 'V6141', 'V6142', 'V618', 'V620', 'V625', 'V6284', 'V632', 'V641', 'V642', 'V643', 'V6441', 'V6442', 'V652', 'V653', 'V6549', 'V667', 'V698', 'V703', 'V707', 'V714', 'V741', 'V7651', 'V8409', 'V8489', 'V850', 'V851', 'V8521', 'V8522', 'V8524', 'V8525', 'V8530', 'V8531', 'V8532', 'V8533', 'V8534', 'V8535', 'V8536', 'V8537', 'V8538', 'V8539', 'V8541', 'V8542', 'V8543', 'V8544', 'V8545', 'V872', 'V8741', 'V8801', 'V8812', 'V8821'] will be ignored\n",
      "  .format(sorted(unknown, key=str)))\n"
     ]
    }
   ],
   "source": [
    "x_data = compute_markers(data)"
   ]
  },
  {
   "cell_type": "code",
   "execution_count": 130,
   "metadata": {},
   "outputs": [
    {
     "name": "stdout",
     "output_type": "stream",
     "text": [
      "1585\n",
      "(3, 3)\n",
      "[[5090973300000000000 5092055340000000000 5186547000000000000]\n",
      " [     95869000000000     592665000000000     375693000000000]\n",
      " [5090973300000000000    1082040000000000   94491660000000000]]\n"
     ]
    }
   ],
   "source": [
    "print(len(t_data))\n",
    "print(t_data[0].shape)\n",
    "print(t_data[0])"
   ]
  },
  {
   "cell_type": "code",
   "execution_count": null,
   "metadata": {},
   "outputs": [],
   "source": []
  }
 ],
 "metadata": {
  "kernelspec": {
   "display_name": "Python 3",
   "language": "python",
   "name": "python3"
  },
  "language_info": {
   "codemirror_mode": {
    "name": "ipython",
    "version": 3
   },
   "file_extension": ".py",
   "mimetype": "text/x-python",
   "name": "python",
   "nbconvert_exporter": "python",
   "pygments_lexer": "ipython3",
   "version": "3.6.6"
  }
 },
 "nbformat": 4,
 "nbformat_minor": 2
}
