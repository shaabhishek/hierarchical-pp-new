{
 "cells": [
  {
   "cell_type": "code",
   "execution_count": 1,
   "metadata": {},
   "outputs": [],
   "source": [
    "# import torch\n",
    "import numpy as np"
   ]
  },
  {
   "cell_type": "code",
   "execution_count": 2,
   "metadata": {
    "scrolled": true
   },
   "outputs": [],
   "source": [
    "# device = torch.device(\"cuda\" if torch.cuda.is_available() else \"cpu\")\n",
    "# print(torch.cuda.is_available())"
   ]
  },
  {
   "cell_type": "markdown",
   "metadata": {},
   "source": [
    "# Data"
   ]
  },
  {
   "cell_type": "code",
   "execution_count": 3,
   "metadata": {},
   "outputs": [
    {
     "name": "stdout",
     "output_type": "stream",
     "text": [
      "Processed Dictionary Exists!\n",
      "12476\n"
     ]
    }
   ],
   "source": [
    "import os\n",
    "import pickle\n",
    "\n",
    "filename = './../../data/dump/stack_processed.pickle'\n",
    "if os.path.isfile(filename):\n",
    "    with open(filename, 'rb') as handle:\n",
    "        print(\"Processed Dictionary Exists!\")\n",
    "        data = pickle.load(handle)\n",
    "        print(len(data))\n",
    "else:\n",
    "    data = process_elements(data)\n",
    "    with open(filename, 'wb') as handle:\n",
    "        pickle.dump(data, handle, protocol=pickle.HIGHEST_PROTOCOL)"
   ]
  },
  {
   "cell_type": "code",
   "execution_count": 4,
   "metadata": {},
   "outputs": [
    {
     "name": "stdout",
     "output_type": "stream",
     "text": [
      "<class 'dict'>\n",
      "12476\n"
     ]
    }
   ],
   "source": [
    "print(type(data))\n",
    "print(len(data.keys()))"
   ]
  },
  {
   "cell_type": "code",
   "execution_count": 5,
   "metadata": {
    "scrolled": true
   },
   "outputs": [
    {
     "name": "stdout",
     "output_type": "stream",
     "text": [
      "16417 \n",
      " [['Enlightened', '2012-01-01T00:03:01.507'], ['Guru', '2012-01-01T19:04:49.853'], ['Nice Answer', '2012-01-03T17:13:43.787'], ['Enlightened', '2012-01-03T17:23:42.043'], ['Nice Answer', '2012-01-05T10:57:24.007'], ['Guru', '2012-01-12T13:09:34.843'], ['Nice Answer', '2012-01-19T16:34:48.097'], ['Enlightened', '2012-01-19T17:00:02.863'], ['Nice Answer', '2012-01-23T11:42:02.033'], ['Good Answer', '2012-01-23T12:27:28.380'], ['Good Answer', '2012-01-25T11:16:11.520'], ['Nice Answer', '2012-01-25T11:36:25.427'], ['Guru', '2012-01-26T15:00:22.013'], ['Guru', '2012-02-02T02:45:31.187'], ['Nice Answer', '2012-02-03T01:48:37.610'], ['Guru', '2012-02-05T20:09:54.550'], ['Nice Answer', '2012-02-08T16:04:37.400'], ['Enlightened', '2012-02-08T19:56:29.803'], ['Guru', '2012-02-13T07:00:19.827'], ['Nice Answer', '2012-02-14T12:23:58.273'], ['Popular Question', '2012-02-15T08:05:53.820'], ['Nice Answer', '2012-02-17T08:52:07.060'], ['Enlightened', '2012-02-17T08:52:10.133'], ['Nice Answer', '2012-02-21T15:59:33.423'], ['Enlightened', '2012-02-21T17:25:31.670'], ['Great Answer', '2012-02-22T10:56:37.347'], ['Good Answer', '2012-02-26T05:34:34.797'], ['Good Answer', '2012-02-28T02:09:30.647'], ['Nice Answer', '2012-02-29T23:31:53.637'], ['Great Answer', '2012-03-05T15:31:35.567'], ['Guru', '2012-03-06T11:08:38.093'], ['Nice Answer', '2012-03-08T09:41:12.640'], ['Good Answer', '2012-03-12T17:53:37.347'], ['Nice Answer', '2012-03-13T12:48:32.463'], ['Enlightened', '2012-03-13T15:20:18.567'], ['Nice Answer', '2012-03-14T03:46:32.643'], ['Good Answer', '2012-03-16T11:52:58.810'], ['Guru', '2012-03-19T14:38:20.180'], ['Great Answer', '2012-03-20T11:18:18.703'], ['Nice Answer', '2012-03-20T22:23:25.583'], ['Enlightened', '2012-03-20T23:13:45.127'], ['Guru', '2012-03-26T19:59:25.103'], ['Guru', '2012-03-26T22:44:24.987'], ['Great Answer', '2012-03-27T15:34:19.333'], ['Good Answer', '2012-03-30T09:14:22.570'], ['Good Answer', '2012-04-06T18:15:26.550'], ['Nice Answer', '2012-04-07T10:40:27.283'], ['Enlightened', '2012-04-07T13:35:31.913'], ['Notable Question', '2012-04-08T14:35:40.577'], ['Nice Answer', '2012-04-17T12:26:58.340'], ['Guru', '2012-04-21T22:24:19.257'], ['Good Answer', '2012-05-02T15:03:41.483'], ['Nice Answer', '2012-05-03T15:39:09.257'], ['Nice Answer', '2012-05-05T00:36:14.837'], ['Good Answer', '2012-05-05T09:01:16.750'], ['Nice Answer', '2012-05-07T10:21:33.090'], ['Enlightened', '2012-05-08T11:04:25.400'], ['Stellar Question', '2012-05-10T03:23:21.477'], ['Nice Answer', '2012-05-14T08:38:36.963'], ['Guru', '2012-05-19T13:55:29.083'], ['Great Answer', '2012-05-19T21:55:53.137'], ['Nice Answer', '2012-05-22T18:22:23.833'], ['Nice Answer', '2012-05-30T16:07:53.000'], ['Enlightened', '2012-05-30T16:47:56.180'], ['Nice Answer', '2012-05-30T20:17:55.637'], ['Nice Answer', '2012-05-31T15:57:56.857'], ['Enlightened', '2012-05-31T16:18:00.560'], ['Good Answer', '2012-06-01T00:47:57.650'], ['Nice Answer', '2012-06-04T15:03:23.657'], ['Nice Answer', '2012-06-07T06:05:24.190'], ['Enlightened', '2012-06-07T06:50:56.977'], ['Caucus', '2012-06-08T23:11:46.617'], ['Caucus', '2012-06-08T23:11:50.050'], ['Caucus', '2012-06-08T23:12:06.117'], ['Famous Question', '2012-06-11T12:31:22.107'], ['Nice Answer', '2012-06-12T09:51:19.697'], ['Good Answer', '2012-06-13T08:06:21.790'], ['Nice Answer', '2012-06-13T08:51:21.070'], ['Enlightened', '2012-06-13T08:56:25.500'], ['Nice Answer', '2012-06-13T13:36:20.777'], ['Good Answer', '2012-06-14T21:21:30.270'], ['Good Answer', '2012-06-15T08:46:30.397'], ['Nice Question', '2012-06-15T22:36:33.607'], ['Popular Question', '2012-06-16T07:51:39.230'], ['Nice Answer', '2012-06-16T08:31:34.250'], ['Good Question', '2012-06-16T11:26:34.030'], ['Notable Question', '2012-06-18T13:46:51.267'], ['Constituent', '2012-06-19T05:17:08.223'], ['Nice Answer', '2012-06-25T09:03:32.133'], ['Good Answer', '2012-06-25T19:13:54.887'], ['Good Answer', '2012-06-27T14:28:58.273'], ['Great Answer', '2012-07-03T03:02:39.617'], ['Nice Answer', '2012-07-08T09:17:50.813'], ['Enlightened', '2012-07-08T10:47:56.133'], ['Guru', '2012-07-10T17:53:34.220'], ['Nice Answer', '2012-07-11T13:18:44.503'], ['Enlightened', '2012-07-11T13:18:48.810'], ['Good Answer', '2012-07-11T21:58:44.653'], ['Guru', '2012-07-12T23:24:15.237'], ['Nice Answer', '2012-07-16T11:06:49.340'], ['Enlightened', '2012-07-16T11:11:50.100'], ['Nice Answer', '2012-07-17T18:17:13.643'], ['Nice Answer', '2012-07-17T21:12:14.267'], ['Guru', '2012-07-18T19:38:02.337'], ['Good Answer', '2012-07-20T22:27:38.087'], ['Nice Answer', '2012-07-25T18:38:08.007'], ['Great Answer', '2012-07-25T21:43:22.323'], ['Good Answer', '2012-07-31T23:52:48.567'], ['Good Answer', '2012-08-02T19:10:19.170'], ['Good Answer', '2012-08-08T16:36:10.510'], ['Great Answer', '2012-08-10T06:03:34.510'], ['Nice Answer', '2012-08-10T16:53:37.740'], ['Great Answer', '2012-08-17T14:40:31.127'], ['Nice Answer', '2012-08-22T12:14:34.803'], ['Nice Answer', '2012-08-22T17:14:35.970'], ['Good Answer', '2012-08-29T10:44:00.187'], ['Nice Answer', '2012-08-29T13:09:00.187'], ['Enlightened', '2012-08-29T13:09:00.187'], ['Nice Answer', '2012-08-29T17:14:00.350'], ['Enlightened', '2012-08-29T18:54:02.963'], ['Great Answer', '2012-09-03T20:39:44.460'], ['Great Answer', '2012-09-05T17:34:57.137'], ['Guru', '2012-09-06T09:05:26.467'], ['Nice Answer', '2012-09-09T08:03:32.790'], ['Good Answer', '2012-09-10T09:48:37.413'], ['Famous Question', '2012-09-10T16:13:37.410'], ['Good Answer', '2012-09-12T20:49:05.233'], ['Good Answer', '2012-09-14T05:29:21.960'], ['Good Answer', '2012-09-14T11:04:33.560'], ['Nice Answer', '2012-09-14T12:09:32.947'], ['Yearling', '2012-09-17T17:15:30.460'], ['Guru', '2012-09-19T20:16:26.410'], ['Great Answer', '2012-09-21T01:11:34.637'], ['Custodian', '2012-09-21T23:36:58.153'], ['Guru', '2012-09-26T19:52:48.057'], ['Guru', '2012-09-28T09:07:49.643'], ['Nice Answer', '2012-10-03T17:58:31.950'], ['Good Answer', '2012-10-06T00:34:10.490'], ['Nice Answer', '2012-10-08T12:25:09.903'], ['Enlightened', '2012-10-08T14:40:16.183'], ['Nice Answer', '2012-10-09T23:16:07.693'], ['Guru', '2012-10-10T07:26:09.347'], ['Nice Answer', '2012-10-22T09:19:16.227'], ['Guru', '2012-10-23T20:19:39.647'], ['Good Answer', '2012-10-26T13:54:45.347'], ['Nice Answer', '2012-10-30T12:00:31.560'], ['Guru', '2012-11-12T21:47:15.883'], ['Good Answer', '2012-11-19T19:12:12.237'], ['Guru', '2012-11-20T13:42:14.577'], ['Guru', '2012-11-25T15:09:16.577'], ['Great Answer', '2012-11-28T09:55:41.940'], ['Nice Answer', '2012-12-12T14:02:48.577'], ['Enlightened', '2012-12-12T14:47:52.167'], ['Nice Answer', '2012-12-13T07:13:22.063'], ['Enlightened', '2012-12-13T07:33:24.667'], ['Notable Question', '2012-12-13T11:33:25.480'], ['Nice Answer', '2012-12-14T09:13:53.620'], ['Enlightened', '2012-12-14T09:23:53.883'], ['Nice Answer', '2012-12-18T19:25:45.390'], ['Nice Answer', '2012-12-19T02:45:46.000'], ['Nice Answer', '2012-12-22T08:36:50.303'], ['Enlightened', '2012-12-22T10:16:49.037'], ['Good Answer', '2012-12-23T05:52:10.610'], ['Good Answer', '2012-12-23T13:12:09.377'], ['Great Answer', '2012-12-26T11:37:56.100'], ['Good Answer', '2013-01-02T16:02:04.787'], ['Good Answer', '2013-01-04T23:04:18.757'], ['Nice Answer', '2013-01-08T15:27:11.250'], ['Enlightened', '2013-01-08T15:57:16.150'], ['Nice Answer', '2013-01-14T17:06:14.697'], ['Good Answer', '2013-01-17T21:47:28.990'], ['Guru', '2013-01-22T15:59:13.597'], ['Good Answer', '2013-01-25T14:10:33.823'], ['Guru', '2013-01-27T12:21:24.850'], ['Good Answer', '2013-01-28T16:06:54.770'], ['Nice Answer', '2013-01-28T22:42:21.790'], ['Great Answer', '2013-01-28T23:42:22.833'], ['Good Answer', '2013-01-31T00:29:34.830'], ['Nice Answer', '2013-02-01T18:55:49.757'], ['Enlightened', '2013-02-01T19:50:52.150'], ['Nice Answer', '2013-02-05T17:01:24.103'], ['Enlightened', '2013-02-05T18:01:31.170'], ['Nice Answer', '2013-02-06T22:28:15.040'], ['Guru', '2013-02-11T22:59:18.170'], ['Nice Answer', '2013-02-12T17:34:56.190'], ['Enlightened', '2013-02-12T20:00:42.037'], ['Nice Answer', '2013-02-12T21:25:24.860'], ['Good Answer', '2013-02-13T04:30:27.880'], ['Good Answer', '2013-02-13T12:21:05.050'], ['Good Answer', '2013-02-14T08:41:49.887'], ['Good Answer', '2013-02-14T10:46:58.933'], ['Great Answer', '2013-02-15T16:32:42.647'], ['Good Answer', '2013-02-18T22:56:36.067'], ['Nice Answer', '2013-02-20T20:47:59.753'], ['Enlightened', '2013-02-20T21:57:59.473'], ['Caucus', '2013-02-25T21:22:18.320'], ['Good Answer', '2013-02-26T01:17:18.630'], ['Guru', '2013-02-27T13:54:25.527'], ['Nice Answer', '2013-02-28T02:25:15.103'], ['Enlightened', '2013-02-28T02:45:17.410'], ['Great Answer', '2013-03-05T15:55:15.017'], ['Great Answer', '2013-03-06T12:22:08.867'], ['Nice Answer', '2013-03-15T22:30:32.490'], ['Enlightened', '2013-03-15T23:25:34.057'], ['Good Answer', '2013-03-18T20:28:28.760'], ['Custodian', '2013-03-19T13:19:07.510'], ['Stellar Question', '2013-03-21T12:36:51.067'], ['Guru', '2013-03-26T06:14:34.590'], ['Great Answer', '2013-03-27T10:06:09.760'], ['Nice Answer', '2013-03-27T11:16:41.337'], ['Enlightened', '2013-03-27T11:36:40.223'], ['Great Answer', '2013-04-10T06:03:46.523'], ['Guru', '2013-04-21T08:00:43.130'], ['Nice Answer', '2013-04-30T20:34:21.360'], ['Great Answer', '2013-05-03T09:30:29.197'], ['Necromancer', '2013-05-08T15:48:25.873'], ['Populist', '2013-05-08T16:28:25.900'], ['Good Answer', '2013-05-09T03:09:21.313'], ['Guru', '2013-05-10T13:25:43.830'], ['Good Answer', '2013-05-10T15:15:50.603'], ['Nice Answer', '2013-05-19T18:01:07.043'], ['Enlightened', '2013-05-19T19:51:07.067'], ['Good Answer', '2013-05-22T08:19:33.387'], ['Nice Answer', '2013-05-29T02:31:16.663'], ['Good Answer', '2013-06-04T09:36:35.900'], ['Good Answer', '2013-06-05T14:32:58.457'], ['Guru', '2013-06-06T13:56:06.217'], ['Good Answer', '2013-06-08T17:48:29.293'], ['Guru', '2013-06-09T16:29:03.797'], ['Nice Answer', '2013-06-13T01:18:19.840'], ['Nice Answer', '2013-06-13T09:33:53.643'], ['Great Answer', '2013-06-13T10:13:53.733'], ['Guru', '2013-06-18T11:04:37.613'], ['Nice Answer', '2013-06-19T20:30:57.153'], ['Good Answer', '2013-06-21T12:45:00.860'], ['Guru', '2013-07-01T17:50:25.837'], ['Guru', '2013-07-09T04:42:36.600'], ['Nice Answer', '2013-07-10T10:34:33.503'], ['Guru', '2013-07-11T07:50:59.087'], ['Great Answer', '2013-07-12T15:32:44.383'], ['Nice Answer', '2013-07-16T07:32:47.847'], ['Enlightened', '2013-07-16T07:37:49.620'], ['Nice Answer', '2013-07-17T02:49:20.013'], ['Good Answer', '2013-07-17T16:40:49.977'], ['Nice Answer', '2013-07-18T21:59:18.180'], ['Enlightened', '2013-07-18T23:04:36.377'], ['Populist', '2013-07-23T19:18:01.953'], ['Notable Question', '2013-07-24T19:10:17.950'], ['Popular Question', '2013-08-02T20:56:42.713'], ['Good Answer', '2013-08-05T12:03:12.780'], ['Nice Answer', '2013-08-05T14:03:25.323'], ['Enlightened', '2013-08-05T14:23:26.600'], ['Notable Question', '2013-08-07T14:16:58.080'], ['Good Answer', '2013-08-12T11:37:46.960'], ['Enlightened', '2013-08-18T00:30:16.760'], ['Good Answer', '2013-08-20T07:40:33.480'], ['Great Answer', '2013-08-25T13:18:17.773'], ['Good Question', '2013-08-27T13:55:15.960'], ['Good Answer', '2013-08-28T02:31:05.723'], ['Enlightened', '2013-09-05T19:25:01.133'], ['Nice Answer', '2013-09-11T07:53:20.487'], ['Good Answer', '2013-09-12T22:26:34.227'], ['Guru', '2013-09-14T06:45:00.287'], ['Good Answer', '2013-09-14T21:26:24.317'], ['Yearling', '2013-09-17T17:14:54.677'], ['Great Answer', '2013-09-19T09:37:28.817'], ['Nice Answer', '2013-09-19T10:52:35.247'], ['Enlightened', '2013-09-19T10:52:35.247'], ['Good Answer', '2013-09-23T01:31:41.187'], ['Guru', '2013-09-25T09:53:49.737'], ['Good Answer', '2013-09-25T16:13:49.333'], ['Nice Answer', '2013-09-30T15:29:30.343'], ['Great Answer', '2013-10-14T20:22:50.340'], ['Good Answer', '2013-10-18T09:28:32.483'], ['Good Answer', '2013-10-28T22:09:59.277'], ['Populist', '2013-11-11T23:33:48.893'], ['Guru', '2013-11-14T18:02:22.443'], ['Good Answer', '2013-12-02T03:41:12.873'], ['Nice Answer', '2013-12-04T14:10:30.560'], ['Enlightened', '2013-12-04T14:40:30.197'], ['Nice Answer', '2013-12-05T18:31:54.697'], ['Great Answer', '2013-12-10T14:50:18.563'], ['Nice Answer', '2013-12-11T20:44:44.927'], ['Enlightened', '2013-12-11T21:09:44.730'], ['Good Answer', '2013-12-12T13:51:34.660'], ['Great Answer', '2013-12-13T07:38:24.400'], ['Nice Answer', '2013-12-26T01:41:07.050'], ['Enlightened', '2013-12-26T03:26:29.530']]\n",
      "288\n"
     ]
    }
   ],
   "source": [
    "for key, val in data.items():\n",
    "    print(key,'\\n',val)\n",
    "    print(len(val))\n",
    "    break"
   ]
  },
  {
   "cell_type": "code",
   "execution_count": 6,
   "metadata": {},
   "outputs": [],
   "source": [
    "import matplotlib.pyplot as plt"
   ]
  },
  {
   "cell_type": "markdown",
   "metadata": {},
   "source": [
    "## Lengths of sequences"
   ]
  },
  {
   "cell_type": "code",
   "execution_count": 7,
   "metadata": {},
   "outputs": [
    {
     "data": {
      "image/png": "[encoded data removed]",
      "text/plain": [
       "<Figure size 432x288 with 1 Axes>"
      ]
     },
     "metadata": {
      "needs_background": "light"
     },
     "output_type": "display_data"
    }
   ],
   "source": [
    "plt.hist(list(map(len, data.values())), bins=500)\n",
    "plt.xlim(0,1000)\n",
    "plt.xticks(np.linspace(0,1000,10, endpoint=True))\n",
    "plt.show()"
   ]
  },
  {
   "cell_type": "markdown",
   "metadata": {},
   "source": [
    "## Convert to dataframe"
   ]
  },
  {
   "cell_type": "code",
   "execution_count": 8,
   "metadata": {},
   "outputs": [],
   "source": [
    "import pandas\n",
    "import numpy as np"
   ]
  },
  {
   "cell_type": "code",
   "execution_count": 10,
   "metadata": {},
   "outputs": [],
   "source": [
    "def stackex_correct_datatypes(stackex_df):\n",
    "\n",
    "    # TIMES\n",
    "    stackex_df['timestamp'] = stackex_df['timestamp'].astype('datetime64[ms]')\n",
    "\n",
    "    # INTS\n",
    "    stackex_df['userid'] = stackex_df['userid'].astype('int')\n",
    "    \n",
    "    \n",
    "    return stackex_df"
   ]
  },
  {
   "cell_type": "code",
   "execution_count": 132,
   "metadata": {},
   "outputs": [],
   "source": [
    "def stackex_data_to_df(data, colnames=None):\n",
    "    flat_data = [{'userid':idx_user, 'marker': x, 'timestamp': t} for idx_user, data_user in data.items() for x,t in data_user]\n",
    "    stackex_df = pandas.DataFrame(flat_data)\n",
    "    stackex_df = stackex_correct_datatypes(stackex_df)\n",
    "    \n",
    "    # Make marker a categorical variable\n",
    "    unique_marker_labels = stackex_df['marker'].unique()\n",
    "    stackex_df['marker'] = stackex_df['marker'].apply(lambda x: np.argwhere(x==unique_marker_labels).item())\n",
    "    \n",
    "    # Sort values first by userid and then by timestamp..\n",
    "    stackex_df = stackex_df.sort_values(by=['userid', 'timestamp', 'marker'], axis='rows')\n",
    "    \n",
    "    # Remove duplicates userid - timestamp pairs as per the RMTPP paper\n",
    "    stackex_df = stackex_df.drop_duplicates(subset=['userid', 'timestamp'], keep=False)\n",
    "    \n",
    "    return stackex_df"
   ]
  },
  {
   "cell_type": "code",
   "execution_count": 133,
   "metadata": {
    "scrolled": true
   },
   "outputs": [],
   "source": [
    "stackex_df = stackex_data_to_df(data)"
   ]
  },
  {
   "cell_type": "code",
   "execution_count": 134,
   "metadata": {
    "scrolled": true
   },
   "outputs": [
    {
     "name": "stdout",
     "output_type": "stream",
     "text": [
      "<class 'pandas.core.frame.DataFrame'>\n",
      "Int64Index: 846736 entries, 409408 to 872591\n",
      "Data columns (total 3 columns):\n",
      "marker       846736 non-null int64\n",
      "timestamp    846736 non-null datetime64[ns]\n",
      "userid       846736 non-null int64\n",
      "dtypes: datetime64[ns](1), int64(2)\n",
      "memory usage: 25.8 MB\n",
      "None\n"
     ]
    },
    {
     "data": {
      "text/html": [
       "<div>\n",
       "<style scoped>\n",
       "    .dataframe tbody tr th:only-of-type {\n",
       "        vertical-align: middle;\n",
       "    }\n",
       "\n",
       "    .dataframe tbody tr th {\n",
       "        vertical-align: top;\n",
       "    }\n",
       "\n",
       "    .dataframe thead th {\n",
       "        text-align: right;\n",
       "    }\n",
       "</style>\n",
       "<table border=\"1\" class=\"dataframe\">\n",
       "  <thead>\n",
       "    <tr style=\"text-align: right;\">\n",
       "      <th></th>\n",
       "      <th>marker</th>\n",
       "      <th>timestamp</th>\n",
       "      <th>userid</th>\n",
       "    </tr>\n",
       "  </thead>\n",
       "  <tbody>\n",
       "    <tr>\n",
       "      <th>409408</th>\n",
       "      <td>20</td>\n",
       "      <td>2012-01-10 12:31:56.193</td>\n",
       "      <td>1</td>\n",
       "    </tr>\n",
       "    <tr>\n",
       "      <th>409409</th>\n",
       "      <td>19</td>\n",
       "      <td>2012-01-10 12:41:55.853</td>\n",
       "      <td>1</td>\n",
       "    </tr>\n",
       "    <tr>\n",
       "      <th>409410</th>\n",
       "      <td>19</td>\n",
       "      <td>2012-01-10 12:41:55.883</td>\n",
       "      <td>1</td>\n",
       "    </tr>\n",
       "    <tr>\n",
       "      <th>409411</th>\n",
       "      <td>17</td>\n",
       "      <td>2012-01-10 14:27:59.660</td>\n",
       "      <td>1</td>\n",
       "    </tr>\n",
       "    <tr>\n",
       "      <th>409412</th>\n",
       "      <td>6</td>\n",
       "      <td>2012-01-18 10:42:35.803</td>\n",
       "      <td>1</td>\n",
       "    </tr>\n",
       "  </tbody>\n",
       "</table>\n",
       "</div>"
      ],
      "text/plain": [
       "        marker               timestamp  userid\n",
       "409408      20 2012-01-10 12:31:56.193       1\n",
       "409409      19 2012-01-10 12:41:55.853       1\n",
       "409410      19 2012-01-10 12:41:55.883       1\n",
       "409411      17 2012-01-10 14:27:59.660       1\n",
       "409412       6 2012-01-18 10:42:35.803       1"
      ]
     },
     "execution_count": 134,
     "metadata": {},
     "output_type": "execute_result"
    }
   ],
   "source": [
    "print(stackex_df.info())\n",
    "stackex_df.head()"
   ]
  },
  {
   "cell_type": "markdown",
   "metadata": {},
   "source": [
    "## Analyze the badges"
   ]
  },
  {
   "cell_type": "code",
   "execution_count": 135,
   "metadata": {},
   "outputs": [
    {
     "name": "stdout",
     "output_type": "stream",
     "text": [
      "[284357 148489 112774  44332  43784  37285  32590  24414  18836  17815\n",
      "  14141  13886  11787  10359   7024   6453   4506   3940   3876   1972\n",
      "   1435   1347    530    529    221     54]\n"
     ]
    }
   ],
   "source": [
    "_s = stackex_df['marker'].value_counts()\n",
    "print(_s.values)"
   ]
  },
  {
   "cell_type": "code",
   "execution_count": 136,
   "metadata": {
    "scrolled": true
   },
   "outputs": [
    {
     "data": {
      "text/plain": [
       "Int64Index([ 4,  6,  2,  0, 10,  9,  3, 13,  8, 14, 15, 11,  1, 18, 17, 12,  5,\n",
       "            24, 22, 25, 23, 16,  7, 19, 20, 21],\n",
       "           dtype='int64')"
      ]
     },
     "execution_count": 136,
     "metadata": {},
     "output_type": "execute_result"
    }
   ],
   "source": [
    "_s.index"
   ]
  },
  {
   "cell_type": "code",
   "execution_count": 137,
   "metadata": {
    "scrolled": true
   },
   "outputs": [
    {
     "data": {
      "image/png": "[encoded data removed]",
      "text/plain": [
       "<Figure size 432x288 with 1 Axes>"
      ]
     },
     "metadata": {
      "needs_background": "light"
     },
     "output_type": "display_data"
    }
   ],
   "source": [
    "plt.bar(_s.index, np.log(_s.values))\n",
    "plt.xticks(ticks=_s.index, rotation='vertical')\n",
    "plt.yticks(ticks=np.log(_s.values)[::3], labels=_s.values[::3])\n",
    "plt.show()"
   ]
  },
  {
   "cell_type": "code",
   "execution_count": 156,
   "metadata": {},
   "outputs": [],
   "source": [
    "x_data = []\n",
    "group_users = stackex_df.groupby('userid')\n",
    "\n",
    "for user_idx, user_df_rows in group_users.groups.items():\n",
    "    user_markers = stackex_df.loc[user_df_rows]['marker']\n",
    "    user_markers = user_markers.values.reshape(len(user_df_rows),-1)\n",
    "#     t_i, marker_dim = user_markers.shape # marker_dim will be 1 here\n",
    "    x_data.append(user_markers)"
   ]
  },
  {
   "cell_type": "code",
   "execution_count": 162,
   "metadata": {},
   "outputs": [
    {
     "data": {
      "text/plain": [
       "(12476, (67, 1), array([[20],\n",
       "        [19],\n",
       "        [19],\n",
       "        [17],\n",
       "        [ 6]]))"
      ]
     },
     "execution_count": 162,
     "metadata": {},
     "output_type": "execute_result"
    }
   ],
   "source": [
    "len(x_data), x_data[0].shape, x_data[0][:5]"
   ]
  },
  {
   "cell_type": "code",
   "execution_count": 233,
   "metadata": {},
   "outputs": [],
   "source": [
    "t_data = []\n",
    "group_users = stackex_df.groupby('userid')\n",
    "\n",
    "for user_idx, user_df_rows in group_users.groups.items():\n",
    "    user_times = stackex_df.loc[user_df_rows]['timestamp']\n",
    "    # Shift creates a NaT value at the first entry. Replace it with a zero in the end\n",
    "    user_times = user_times.astype('int') / (10**9 * 3600 * 24 * 365.25)\n",
    "    user_intervals = user_times - user_times.shift(periods=1)\n",
    "    user_intervals.iloc[0] = 0\n",
    "    t_data_i = np.stack([user_times.values, user_intervals.values], axis=1)\n",
    "    t_data.append(t_data_i)\n",
    "    "
   ]
  },
  {
   "cell_type": "code",
   "execution_count": 234,
   "metadata": {},
   "outputs": [
    {
     "data": {
      "text/plain": [
       "(12476, (67, 2), array([[4.20247014e+01, 0.00000000e+00],\n",
       "        [4.20247204e+01, 1.90020787e-05],\n",
       "        [4.20247204e+01, 9.50642232e-10],\n",
       "        [4.20249220e+01, 2.01655924e-04],\n",
       "        [4.20463963e+01, 2.14742611e-02]]))"
      ]
     },
     "execution_count": 234,
     "metadata": {},
     "output_type": "execute_result"
    }
   ],
   "source": [
    "len(t_data), t_data[0].shape, t_data[0][:5]"
   ]
  },
  {
   "cell_type": "code",
   "execution_count": null,
   "metadata": {},
   "outputs": [],
   "source": []
  }
 ],
 "metadata": {
  "kernelspec": {
   "display_name": "Python 3",
   "language": "python",
   "name": "python3"
  },
  "language_info": {
   "codemirror_mode": {
    "name": "ipython",
    "version": 3
   },
   "file_extension": ".py",
   "mimetype": "text/x-python",
   "name": "python",
   "nbconvert_exporter": "python",
   "pygments_lexer": "ipython3",
   "version": "3.7.2"
  }
 },
 "nbformat": 4,
 "nbformat_minor": 2
}
