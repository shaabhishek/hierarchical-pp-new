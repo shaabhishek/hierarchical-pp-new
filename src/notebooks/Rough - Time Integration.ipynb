{
 "cells": [
  {
   "cell_type": "code",
   "execution_count": 1,
   "metadata": {},
   "outputs": [],
   "source": [
    "import torch\n",
    "import numpy as np"
   ]
  },
  {
   "cell_type": "code",
   "execution_count": 2,
   "metadata": {},
   "outputs": [
    {
     "name": "stdout",
     "output_type": "stream",
     "text": [
      "cuda\n"
     ]
    }
   ],
   "source": [
    "device = 'cuda' if torch.cuda.is_available() else 'cpu'\n",
    "print(device)"
   ]
  },
  {
   "cell_type": "code",
   "execution_count": 3,
   "metadata": {},
   "outputs": [],
   "source": [
    "# def f(x):\n",
    "#     return x**2 + np.sin(x) + np.exp(x)"
   ]
  },
  {
   "cell_type": "code",
   "execution_count": 4,
   "metadata": {},
   "outputs": [],
   "source": [
    "# def integral(f, a, b, N):\n",
    "#     deltax = (b-a)/N\n",
    "#     f_v = np.vectorize(f)\n",
    "#     f_evals = f_v(np.linspace(a, b, N+1, endpoint=True))\n",
    "# #     f_evals = np.array([f_v(i) for i in np.linspace(a, b, N+1, endpoint=True)])\n",
    "#     value = deltax*(f_evals[0] + 2*f_evals[1:-1].sum() + f_evals[-1])/2\n",
    "#     return value\n",
    "# # print((b**3 - a**3)/3)matplotlib"
   ]
  },
  {
   "cell_type": "code",
   "execution_count": 5,
   "metadata": {},
   "outputs": [],
   "source": [
    "# import matplotlib.pyplot as plt"
   ]
  },
  {
   "cell_type": "code",
   "execution_count": 6,
   "metadata": {},
   "outputs": [],
   "source": [
    "# n_vals = range(5, 100, 5)\n",
    "# evals = [integral(f, 0, 10.5, n) for n in n_vals]\n",
    "# plt.plot(n_vals, evals)"
   ]
  },
  {
   "cell_type": "code",
   "execution_count": 7,
   "metadata": {},
   "outputs": [],
   "source": [
    "# print(evals)"
   ]
  },
  {
   "cell_type": "code",
   "execution_count": 8,
   "metadata": {},
   "outputs": [
    {
     "name": "stdout",
     "output_type": "stream",
     "text": [
      "/home/abhishekshar/hierarchichal_point_process/src\n"
     ]
    }
   ],
   "source": [
    "cd '/home/abhishekshar/hierarchichal_point_process/src/'"
   ]
  },
  {
   "cell_type": "code",
   "execution_count": 9,
   "metadata": {},
   "outputs": [],
   "source": [
    "from hrmtpp_exact import hrmtpp_exact"
   ]
  },
  {
   "cell_type": "code",
   "execution_count": 10,
   "metadata": {},
   "outputs": [],
   "source": [
    "model = hrmtpp_exact(marker_dim=217).to(device)"
   ]
  },
  {
   "cell_type": "code",
   "execution_count": 18,
   "metadata": {},
   "outputs": [],
   "source": [
    "from utils.data_loader import load_data\n",
    "\n",
    "mimic_x, mimic_t = load_data('../data/mimic_train.pkl')"
   ]
  },
  {
   "cell_type": "code",
   "execution_count": 19,
   "metadata": {},
   "outputs": [],
   "source": [
    "t = torch.from_numpy(np.stack([mimic_t[2], mimic_t[3]], axis=1)).float().to(device)[:,:,:2]\n",
    "x = torch.from_numpy(np.stack([mimic_x[2], mimic_x[3]], axis=1)).float().to(device)"
   ]
  },
  {
   "cell_type": "code",
   "execution_count": 38,
   "metadata": {},
   "outputs": [],
   "source": [
    "def compute_point_log_likelihood(h, d_js):\n",
    "        \"\"\"\n",
    "            Input:\n",
    "                h : Tensor of shape TxBSxCx self.shared_output_layers[-1]\n",
    "                tj : Tensor of shape TxBSx2 [j,:,0] represents actual time at timestep j ,\\\n",
    "                    [i,:,1] represents time gap d_i = t_i- t_{i-1}\n",
    "                d_js: Tensor of shape TxBSx1x(N+1) [j,:,:,k] represents the k*delta_x in trapezoidal rule\n",
    "                [j,:,:,0] is 0\n",
    "                https://en.wikipedia.org/wiki/Trapezoidal_rule#Uniform_grid\n",
    "            Output:\n",
    "                log_f_t : tensor of shape TxBSxC\n",
    "\n",
    "        \"\"\"\n",
    "        \n",
    "        \n",
    "#         d_js = tj[:, :, 0:1, None]  # Shape TxBSx1xN Time differences\n",
    "\n",
    "        past_influence = model.h_influence(h)  # TxBSxCx1\n",
    "\n",
    "        # TxBSx1x1\n",
    "        current_influence = model.time_influence * d_js\n",
    "        base_intensity = model.base_intensity  # 1x1x1x1\n",
    "\n",
    "        term1 = past_influence + current_influence + base_intensity\n",
    "        term2 = (past_influence + base_intensity).exp()\n",
    "        term3 = term1.exp()\n",
    "\n",
    "        log_f_t = term1 + \\\n",
    "            (1./(model.time_influence+1e-6 )) * (term2-term3)\n",
    "        return log_f_t  # TxBSxCx(N+1)\n",
    "\n",
    "    \n",
    "with torch.no_grad():\n",
    "    a = t[:, :, 0:1, None]\n",
    "    N = 100\n",
    "    dmax = t.max() - t.min()\n",
    "    delta_x = (a + dmax/10 - a)/N\n",
    "    d_js = torch.arange(0, N+1).float().to(device)*delta_x\n",
    "    times = a + d_js\n",
    "    hs = model.run_forward_backward_rnn(x, t, None)\n",
    "    hz_embedded = model.preprocess_hidden_latent_state(hs)\n",
    "    time_log_likelihood = compute_point_log_likelihood(hz_embedded, d_js) # TxBSxC\n",
    "\n",
    "    \n",
    "    # t.f(t)\n",
    "    g = (times.log() + time_log_likelihood).exp()\n",
    "    integral = g[:,:,:,:1] + 2 * torch.sum(g[:,:,:,1:-1], dim=-1, keepdim=True) + g[:,:,:,-1:]\n",
    "    integral = 0.5 * delta_x * integral"
   ]
  },
  {
   "cell_type": "code",
   "execution_count": 39,
   "metadata": {},
   "outputs": [
    {
     "data": {
      "text/plain": [
       "(torch.Size([3, 2, 1, 101]),)"
      ]
     },
     "execution_count": 39,
     "metadata": {},
     "output_type": "execute_result"
    }
   ],
   "source": [
    "times.shape, "
   ]
  },
  {
   "cell_type": "code",
   "execution_count": 40,
   "metadata": {},
   "outputs": [
    {
     "data": {
      "text/plain": [
       "torch.Size([3, 2, 5, 1])"
      ]
     },
     "execution_count": 40,
     "metadata": {},
     "output_type": "execute_result"
    }
   ],
   "source": [
    "integral.shape"
   ]
  },
  {
   "cell_type": "code",
   "execution_count": 41,
   "metadata": {
    "scrolled": true
   },
   "outputs": [
    {
     "data": {
      "text/plain": [
       "tensor([[[[ 7.4486e-03, -1.0391e+02, -3.1650e+02,  ..., -2.0832e+32,\n",
       "           -4.2468e+32, -8.6578e+32],\n",
       "          [-3.6657e-02, -9.9441e+01, -3.0283e+02,  ..., -1.9933e+32,\n",
       "           -4.0636e+32, -8.2842e+32],\n",
       "          [-2.2586e-01, -8.2372e+01, -2.5058e+02,  ..., -1.6497e+32,\n",
       "           -3.3631e+32, -6.8562e+32],\n",
       "          [ 5.7212e-02, -1.0920e+02, -3.3268e+02,  ..., -2.1895e+32,\n",
       "           -4.4635e+32, -9.0996e+32],\n",
       "          [-5.7042e-02, -9.7441e+01, -2.9671e+02,  ..., -1.9531e+32,\n",
       "           -3.9816e+32, -8.1171e+32]],\n",
       "\n",
       "         [[ 7.4486e-03, -1.0391e+02, -3.1650e+02,  ..., -2.0830e+32,\n",
       "           -4.2465e+32, -8.6571e+32],\n",
       "          [-3.6657e-02, -9.9441e+01, -3.0283e+02,  ..., -1.9931e+32,\n",
       "           -4.0633e+32, -8.2836e+32],\n",
       "          [-2.2586e-01, -8.2372e+01, -2.5058e+02,  ..., -1.6496e+32,\n",
       "           -3.3629e+32, -6.8557e+32],\n",
       "          [ 5.7212e-02, -1.0920e+02, -3.3268e+02,  ..., -2.1893e+32,\n",
       "           -4.4632e+32, -9.0989e+32],\n",
       "          [-5.7042e-02, -9.7441e+01, -2.9671e+02,  ..., -1.9529e+32,\n",
       "           -3.9813e+32, -8.1165e+32]]],\n",
       "\n",
       "\n",
       "        [[[-4.5260e-02, -9.8592e+01, -3.0023e+02,  ..., -1.9762e+32,\n",
       "           -4.0288e+32, -8.2133e+32],\n",
       "          [-8.9365e-02, -9.4353e+01, -2.8726e+02,  ..., -1.8909e+32,\n",
       "           -3.8550e+32, -7.8589e+32],\n",
       "          [-2.7857e-01, -7.8170e+01, -2.3770e+02,  ..., -1.5650e+32,\n",
       "           -3.1904e+32, -6.5042e+32],\n",
       "          [ 4.5037e-03, -1.0361e+02, -3.1557e+02,  ..., -2.0770e+32,\n",
       "           -4.2343e+32, -8.6323e+32],\n",
       "          [-1.0975e-01, -9.2457e+01, -2.8146e+02,  ..., -1.8528e+32,\n",
       "           -3.7772e+32, -7.7004e+32]],\n",
       "\n",
       "         [[-4.5260e-02, -9.8592e+01, -3.0023e+02,  ..., -1.9762e+32,\n",
       "           -4.0288e+32, -8.2133e+32],\n",
       "          [-8.9365e-02, -9.4353e+01, -2.8726e+02,  ..., -1.8909e+32,\n",
       "           -3.8550e+32, -7.8589e+32],\n",
       "          [-2.7857e-01, -7.8170e+01, -2.3770e+02,  ..., -1.5650e+32,\n",
       "           -3.1904e+32, -6.5042e+32],\n",
       "          [ 4.5037e-03, -1.0361e+02, -3.1557e+02,  ..., -2.0770e+32,\n",
       "           -4.2343e+32, -8.6323e+32],\n",
       "          [-1.0975e-01, -9.2457e+01, -2.8146e+02,  ..., -1.8528e+32,\n",
       "           -3.7772e+32, -7.7004e+32]]],\n",
       "\n",
       "\n",
       "        [[[-4.5260e-02, -9.8592e+01, -3.0023e+02,  ..., -1.9762e+32,\n",
       "           -4.0288e+32, -8.2133e+32],\n",
       "          [-8.9365e-02, -9.4353e+01, -2.8726e+02,  ..., -1.8909e+32,\n",
       "           -3.8550e+32, -7.8589e+32],\n",
       "          [-2.7857e-01, -7.8170e+01, -2.3770e+02,  ..., -1.5650e+32,\n",
       "           -3.1904e+32, -6.5042e+32],\n",
       "          [ 4.5037e-03, -1.0361e+02, -3.1557e+02,  ..., -2.0770e+32,\n",
       "           -4.2343e+32, -8.6323e+32],\n",
       "          [-1.0975e-01, -9.2457e+01, -2.8146e+02,  ..., -1.8528e+32,\n",
       "           -3.7772e+32, -7.7004e+32]],\n",
       "\n",
       "         [[-4.5260e-02, -9.8592e+01, -3.0023e+02,  ..., -1.9762e+32,\n",
       "           -4.0288e+32, -8.2133e+32],\n",
       "          [-8.9365e-02, -9.4353e+01, -2.8726e+02,  ..., -1.8909e+32,\n",
       "           -3.8550e+32, -7.8589e+32],\n",
       "          [-2.7857e-01, -7.8170e+01, -2.3770e+02,  ..., -1.5650e+32,\n",
       "           -3.1904e+32, -6.5042e+32],\n",
       "          [ 4.5037e-03, -1.0361e+02, -3.1557e+02,  ..., -2.0770e+32,\n",
       "           -4.2343e+32, -8.6323e+32],\n",
       "          [-1.0975e-01, -9.2457e+01, -2.8146e+02,  ..., -1.8528e+32,\n",
       "           -3.7772e+32, -7.7004e+32]]]], device='cuda:0')"
      ]
     },
     "execution_count": 41,
     "metadata": {},
     "output_type": "execute_result"
    }
   ],
   "source": [
    "time_log_likelihood"
   ]
  },
  {
   "cell_type": "code",
   "execution_count": 42,
   "metadata": {},
   "outputs": [
    {
     "data": {
      "text/plain": [
       "tensor([[[[71.2287]],\n",
       "\n",
       "         [[71.2286]]],\n",
       "\n",
       "\n",
       "        [[[71.2287]],\n",
       "\n",
       "         [[71.2287]]],\n",
       "\n",
       "\n",
       "        [[[71.2287]],\n",
       "\n",
       "         [[71.2287]]]], device='cuda:0')"
      ]
     },
     "execution_count": 42,
     "metadata": {},
     "output_type": "execute_result"
    }
   ],
   "source": [
    "delta_x"
   ]
  },
  {
   "cell_type": "code",
   "execution_count": 43,
   "metadata": {},
   "outputs": [
    {
     "data": {
      "text/plain": [
       "tensor(71228.6328, device='cuda:0')"
      ]
     },
     "execution_count": 43,
     "metadata": {},
     "output_type": "execute_result"
    }
   ],
   "source": [
    "dmax"
   ]
  },
  {
   "cell_type": "code",
   "execution_count": null,
   "metadata": {},
   "outputs": [],
   "source": []
  }
 ],
 "metadata": {
  "kernelspec": {
   "display_name": "Python 3",
   "language": "python",
   "name": "python3"
  },
  "language_info": {
   "codemirror_mode": {
    "name": "ipython",
    "version": 3
   },
   "file_extension": ".py",
   "mimetype": "text/x-python",
   "name": "python",
   "nbconvert_exporter": "python",
   "pygments_lexer": "ipython3",
   "version": "3.7.2"
  }
 },
 "nbformat": 4,
 "nbformat_minor": 2
}
