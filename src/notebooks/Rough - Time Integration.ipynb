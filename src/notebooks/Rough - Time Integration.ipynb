{
 "cells": [
  {
   "cell_type": "code",
   "execution_count": 1,
   "metadata": {},
   "outputs": [],
   "source": [
    "import torch\n",
    "import numpy as np"
   ]
  },
  {
   "cell_type": "code",
   "execution_count": 2,
   "metadata": {},
   "outputs": [
    {
     "name": "stdout",
     "output_type": "stream",
     "text": [
      "cpu\n"
     ]
    }
   ],
   "source": [
    "device = 'cuda' if torch.cuda.is_available() else 'cpu'\n",
    "print(device)"
   ]
  },
  {
   "cell_type": "code",
   "execution_count": 3,
   "metadata": {},
   "outputs": [],
   "source": [
    "# def f(x):\n",
    "#     return x**2 + np.sin(x) + np.exp(x)"
   ]
  },
  {
   "cell_type": "code",
   "execution_count": 4,
   "metadata": {},
   "outputs": [],
   "source": [
    "# def integral(f, a, b, N):\n",
    "#     deltax = (b-a)/N\n",
    "#     f_v = np.vectorize(f)\n",
    "#     f_evals = f_v(np.linspace(a, b, N+1, endpoint=True))\n",
    "# #     f_evals = np.array([f_v(i) for i in np.linspace(a, b, N+1, endpoint=True)])\n",
    "#     value = deltax*(f_evals[0] + 2*f_evals[1:-1].sum() + f_evals[-1])/2\n",
    "#     return value\n",
    "# # print((b**3 - a**3)/3)matplotlib"
   ]
  },
  {
   "cell_type": "code",
   "execution_count": 5,
   "metadata": {},
   "outputs": [],
   "source": [
    "# import matplotlib.pyplot as plt"
   ]
  },
  {
   "cell_type": "code",
   "execution_count": 6,
   "metadata": {},
   "outputs": [],
   "source": [
    "# n_vals = range(5, 100, 5)\n",
    "# evals = [integral(f, 0, 10.5, n) for n in n_vals]\n",
    "# plt.plot(n_vals, evals)"
   ]
  },
  {
   "cell_type": "code",
   "execution_count": 7,
   "metadata": {},
   "outputs": [],
   "source": [
    "# print(evals)"
   ]
  },
  {
   "cell_type": "code",
   "execution_count": 8,
   "metadata": {},
   "outputs": [
    {
     "name": "stdout",
     "output_type": "stream",
     "text": [
      "/Users/arighosh/Desktop/git/hierarchical_point_process/src\n"
     ]
    }
   ],
   "source": [
    "cd '/Users/arighosh/Desktop/git/hierarchical_point_process/src/'"
   ]
  },
  {
   "cell_type": "code",
   "execution_count": 10,
   "metadata": {},
   "outputs": [],
   "source": [
    "from hrmtpp_exact import hrmtpp_exact\n",
    "from rmtpp import rmtpp"
   ]
  },
  {
   "cell_type": "code",
   "execution_count": 11,
   "metadata": {},
   "outputs": [],
   "source": [
    "model = rmtpp(marker_dim=217).to(device)"
   ]
  },
  {
   "cell_type": "code",
   "execution_count": 46,
   "metadata": {},
   "outputs": [
    {
     "data": {
      "text/plain": [
       "array([[1.63606126e+02, 2.66482242e-02, 1.63606126e+02],\n",
       "       [1.63673353e+02, 3.03939463e-03, 6.72275458e-02],\n",
       "       [1.66307445e+02, 5.74403630e-03, 2.63409195e+00],\n",
       "       [1.67025299e+02, 7.27111694e-03, 7.17853069e-01],\n",
       "       [1.67101833e+02, 1.29078257e-02, 7.65343372e-02],\n",
       "       [1.67234063e+02, 6.24635587e-03, 1.32230588e-01]])"
      ]
     },
     "execution_count": 46,
     "metadata": {},
     "output_type": "execute_result"
    }
   ],
   "source": [
    "from utils.data_loader import load_data\n",
    "\n",
    "mimic_x, mimic_t = load_data('../data/mimic_train.pkl')\n",
    "(mimic_t[8])"
   ]
  },
  {
   "cell_type": "code",
   "execution_count": 50,
   "metadata": {},
   "outputs": [
    {
     "data": {
      "text/plain": [
       "(torch.Size([4, 2, 217]),\n",
       " torch.Size([4, 2, 2]),\n",
       " tensor([[[2.0149e+02, 8.5619e-01],\n",
       "          [1.4684e+02, 4.4446e-01]],\n",
       " \n",
       "         [[2.0197e+02, 4.7978e-01],\n",
       "          [1.4685e+02, 9.5616e-03]],\n",
       " \n",
       "         [[2.0284e+02, 8.6874e-01],\n",
       "          [1.4955e+02, 2.6970e+00]],\n",
       " \n",
       "         [[2.0306e+02, 2.1820e-01],\n",
       "          [1.4984e+02, 2.8553e-01]]]))"
      ]
     },
     "execution_count": 50,
     "metadata": {},
     "output_type": "execute_result"
    }
   ],
   "source": [
    "#First time value is the offset. High value. Removing that. Time interval column  is the last one.\n",
    "t = torch.from_numpy(np.stack([mimic_t[0][1:5,:], mimic_t[3][1:5,:]], axis=1)).float().to(device)[:,:,[0,2]]\n",
    "x = torch.from_numpy(np.stack([mimic_x[0][1:5,:], mimic_x[3][1:5,:]], axis=1)).float().to(device)\n",
    "x.shape, t.shape, t"
   ]
  },
  {
   "cell_type": "code",
   "execution_count": 107,
   "metadata": {},
   "outputs": [
    {
     "name": "stdout",
     "output_type": "stream",
     "text": [
      "torch.Size([4, 2, 1, 10001])\n",
      "intervals are:  tensor([[0.8562, 0.4445],\n",
      "        [0.4798, 0.0096],\n",
      "        [0.8687, 2.6970],\n",
      "        [0.2182, 0.2855]])\n",
      "Sum of probs are:  tensor([[1.0008, 1.0008],\n",
      "        [1.0007, 1.0007],\n",
      "        [1.0008, 1.0008],\n",
      "        [1.0008, 1.0008]])\n",
      "Expected output is  tensor([[1.0051, 1.0051],\n",
      "        [1.0398, 1.0475],\n",
      "        [1.0082, 1.0171],\n",
      "        [1.0065, 1.0119]])\n"
     ]
    },
    {
     "ename": "IndexError",
     "evalue": "too many indices for tensor of dimension 3",
     "output_type": "error",
     "traceback": [
      "\u001b[0;31m---------------------------------------------------------------------------\u001b[0m",
      "\u001b[0;31mIndexError\u001b[0m                                Traceback (most recent call last)",
      "\u001b[0;32m<ipython-input-107-53f91ee436e6>\u001b[0m in \u001b[0;36m<module>\u001b[0;34m\u001b[0m\n\u001b[1;32m     72\u001b[0m \u001b[0;34m\u001b[0m\u001b[0m\n\u001b[1;32m     73\u001b[0m     \u001b[0;31m# t.f(t)\u001b[0m\u001b[0;34m\u001b[0m\u001b[0;34m\u001b[0m\u001b[0;34m\u001b[0m\u001b[0m\n\u001b[0;32m---> 74\u001b[0;31m     \u001b[0mintegral\u001b[0m \u001b[0;34m=\u001b[0m \u001b[0mg\u001b[0m\u001b[0;34m[\u001b[0m\u001b[0;34m:\u001b[0m\u001b[0;34m,\u001b[0m\u001b[0;34m:\u001b[0m\u001b[0;34m,\u001b[0m\u001b[0;34m:\u001b[0m\u001b[0;34m,\u001b[0m\u001b[0;34m:\u001b[0m\u001b[0;36m1\u001b[0m\u001b[0;34m]\u001b[0m \u001b[0;34m+\u001b[0m \u001b[0;36m2\u001b[0m \u001b[0;34m*\u001b[0m \u001b[0mtorch\u001b[0m\u001b[0;34m.\u001b[0m\u001b[0msum\u001b[0m\u001b[0;34m(\u001b[0m\u001b[0mg\u001b[0m\u001b[0;34m[\u001b[0m\u001b[0;34m:\u001b[0m\u001b[0;34m,\u001b[0m\u001b[0;34m:\u001b[0m\u001b[0;34m,\u001b[0m\u001b[0;34m:\u001b[0m\u001b[0;34m,\u001b[0m\u001b[0;36m1\u001b[0m\u001b[0;34m:\u001b[0m\u001b[0;34m-\u001b[0m\u001b[0;36m1\u001b[0m\u001b[0;34m]\u001b[0m\u001b[0;34m,\u001b[0m \u001b[0mdim\u001b[0m\u001b[0;34m=\u001b[0m\u001b[0;34m-\u001b[0m\u001b[0;36m1\u001b[0m\u001b[0;34m,\u001b[0m \u001b[0mkeepdim\u001b[0m\u001b[0;34m=\u001b[0m\u001b[0;32mTrue\u001b[0m\u001b[0;34m)\u001b[0m \u001b[0;34m+\u001b[0m \u001b[0mg\u001b[0m\u001b[0;34m[\u001b[0m\u001b[0;34m:\u001b[0m\u001b[0;34m,\u001b[0m\u001b[0;34m:\u001b[0m\u001b[0;34m,\u001b[0m\u001b[0;34m:\u001b[0m\u001b[0;34m,\u001b[0m\u001b[0;34m-\u001b[0m\u001b[0;36m1\u001b[0m\u001b[0;34m:\u001b[0m\u001b[0;34m]\u001b[0m\u001b[0;34m\u001b[0m\u001b[0;34m\u001b[0m\u001b[0m\n\u001b[0m\u001b[1;32m     75\u001b[0m     \u001b[0mintegral\u001b[0m \u001b[0;34m=\u001b[0m \u001b[0;36m0.5\u001b[0m \u001b[0;34m*\u001b[0m \u001b[0mdelta_x\u001b[0m \u001b[0;34m*\u001b[0m \u001b[0mintegral\u001b[0m\u001b[0;34m\u001b[0m\u001b[0;34m\u001b[0m\u001b[0m\n",
      "\u001b[0;31mIndexError\u001b[0m: too many indices for tensor of dimension 3"
     ]
    }
   ],
   "source": [
    "def compute_point_log_likelihood(h, d_js):\n",
    "        \"\"\"\n",
    "            Input:\n",
    "                h : Tensor of shape TxBSxCx self.shared_output_layers[-1]\n",
    "                tj : Tensor of shape TxBSx2 [j,:,0] represents actual time at timestep j ,\\\n",
    "                    [i,:,1] represents time gap d_i = t_i- t_{i-1}\n",
    "                d_js: Tensor of shape TxBSx1x(N+1) [j,:,:,k] represents the k*delta_x in trapezoidal rule\n",
    "                [j,:,:,0] is 0\n",
    "                https://en.wikipedia.org/wiki/Trapezoidal_rule#Uniform_grid\n",
    "            Output:\n",
    "                log_f_t : tensor of shape TxBSxC\n",
    "\n",
    "        \"\"\"\n",
    "        #hz_embedded shape TxBSx64, d_js shape is TxBSx1xN\n",
    "        \n",
    "        \n",
    "        #d_js = tj[:, :, 0:1, None]  # Shape TxBSx1xN Time differences\n",
    "\n",
    "        past_influence = model.h_influence(h)[:,:,:,None]  # TxBSx1,x1\n",
    "\n",
    "\n",
    "        # TxBSx1x1\n",
    "        current_influence = model.time_influence * d_js#TxBSx1xN\n",
    "        base_intensity = model.base_intensity[:,:,:, None]  # 1x1x1x1\n",
    "        #print(past_influence.shape,current_influence.shape, base_intensity.shape)\n",
    "\n",
    "        term1 = past_influence + current_influence + base_intensity\n",
    "        term2 = (past_influence + base_intensity).exp()\n",
    "        term3 = term1.exp()\n",
    "\n",
    "        log_f_t = term1 + \\\n",
    "            (1./(model.time_influence+1e-6 )) * (term2-term3)\n",
    "        return log_f_t  # TxBSxCx(N+1)\n",
    "\n",
    "    \n",
    "with torch.no_grad():\n",
    "    #Only need interval\n",
    "    a = t[:, :, 1][:,:, None, None] #TxBSx1x1\n",
    "    #Increase N, for correct integration\n",
    "    N = 10000\n",
    "    #interval can be anything from 0 to some constant * maximum interval length observed\n",
    "    dmax =  5* a.max() #- a.min()\n",
    "    delta_x = dmax/N\n",
    "    d_js = (torch.arange(0, N+1).float().to(device)*delta_x)[None,None,None,:]#1x1x1xN\n",
    "    #Add a dummy row for the actual time\n",
    "    #Interval starts from 0 to max\n",
    "    repeat_val = (4,2,-1,-1)\n",
    "    d_js = d_js.expand(*repeat_val)#TxBSx1xN\n",
    "    print(d_js.shape)\n",
    "    times = d_js\n",
    "    hs, hz_embedded = model.run_forward_rnn(x, t)\n",
    "    hz_embedded = hz_embedded[:-1,:,:]\n",
    "    print (\"intervals are: \", a[:,:,0,0])\n",
    "    #print(times)\n",
    "    #hz_embedded = model.preprocess_hidden_latent_state(hs)\n",
    "    #hz_embedded shape TxBSx64, d_js shape is TxBSx1xN\n",
    "    time_log_likelihood = compute_point_log_likelihood(hz_embedded, d_js) #TxBSx1xN\n",
    "    #print(time_log_likelihood)#TxBSx1xN\n",
    "    time_likelihood = time_log_likelihood.exp()[:,:,0,:]#TxBSxN (Maybe should be using some stable version of that)\n",
    "    \n",
    "    #Check whether prob sums to 1 or not. If sum< 1, increase integration max limit. If sum>1. Increase N.\n",
    "    sum_probs = time_likelihood.sum(dim =[2])*delta_x\n",
    "    print(\"Sum of probs are: \", sum_probs)\n",
    "    \n",
    "    #Compute Expectation\n",
    "    #t*f(t)\n",
    "    g = time_likelihood * d_js[:,:,0,:]*delta_x# TxBSxN\n",
    "    expectation = g.sum(dim =-1)\n",
    "    print(\"Expected output is \", expectation)\n"
   ]
  },
  {
   "cell_type": "code",
   "execution_count": 48,
   "metadata": {},
   "outputs": [
    {
     "ename": "NameError",
     "evalue": "name 'times' is not defined",
     "output_type": "error",
     "traceback": [
      "\u001b[0;31m---------------------------------------------------------------------------\u001b[0m",
      "\u001b[0;31mNameError\u001b[0m                                 Traceback (most recent call last)",
      "\u001b[0;32m<ipython-input-48-d28ab23e29a7>\u001b[0m in \u001b[0;36m<module>\u001b[0;34m\u001b[0m\n\u001b[0;32m----> 1\u001b[0;31m \u001b[0mtimes\u001b[0m\u001b[0;34m.\u001b[0m\u001b[0mshape\u001b[0m\u001b[0;34m,\u001b[0m \u001b[0mg\u001b[0m\u001b[0;34m.\u001b[0m\u001b[0mshape\u001b[0m\u001b[0;34m,\u001b[0m \u001b[0ml\u001b[0m\u001b[0;34m.\u001b[0m\u001b[0msum\u001b[0m\u001b[0;34m(\u001b[0m\u001b[0mdim\u001b[0m\u001b[0;34m=\u001b[0m\u001b[0;34m-\u001b[0m\u001b[0;36m1\u001b[0m\u001b[0;34m)\u001b[0m\u001b[0;34m,\u001b[0m \u001b[0mdelta_x\u001b[0m\u001b[0;34m\u001b[0m\u001b[0;34m\u001b[0m\u001b[0m\n\u001b[0m",
      "\u001b[0;31mNameError\u001b[0m: name 'times' is not defined"
     ]
    }
   ],
   "source": [
    "times.shape, g.shape, l.sum(dim=-1), delta_x"
   ]
  },
  {
   "cell_type": "code",
   "execution_count": 40,
   "metadata": {},
   "outputs": [
    {
     "data": {
      "text/plain": [
       "torch.Size([3, 2, 5, 1])"
      ]
     },
     "execution_count": 40,
     "metadata": {},
     "output_type": "execute_result"
    }
   ],
   "source": [
    "integral.shape"
   ]
  },
  {
   "cell_type": "code",
   "execution_count": 41,
   "metadata": {
    "scrolled": true
   },
   "outputs": [
    {
     "data": {
      "text/plain": [
       "tensor([[[[ 7.4486e-03, -1.0391e+02, -3.1650e+02,  ..., -2.0832e+32,\n",
       "           -4.2468e+32, -8.6578e+32],\n",
       "          [-3.6657e-02, -9.9441e+01, -3.0283e+02,  ..., -1.9933e+32,\n",
       "           -4.0636e+32, -8.2842e+32],\n",
       "          [-2.2586e-01, -8.2372e+01, -2.5058e+02,  ..., -1.6497e+32,\n",
       "           -3.3631e+32, -6.8562e+32],\n",
       "          [ 5.7212e-02, -1.0920e+02, -3.3268e+02,  ..., -2.1895e+32,\n",
       "           -4.4635e+32, -9.0996e+32],\n",
       "          [-5.7042e-02, -9.7441e+01, -2.9671e+02,  ..., -1.9531e+32,\n",
       "           -3.9816e+32, -8.1171e+32]],\n",
       "\n",
       "         [[ 7.4486e-03, -1.0391e+02, -3.1650e+02,  ..., -2.0830e+32,\n",
       "           -4.2465e+32, -8.6571e+32],\n",
       "          [-3.6657e-02, -9.9441e+01, -3.0283e+02,  ..., -1.9931e+32,\n",
       "           -4.0633e+32, -8.2836e+32],\n",
       "          [-2.2586e-01, -8.2372e+01, -2.5058e+02,  ..., -1.6496e+32,\n",
       "           -3.3629e+32, -6.8557e+32],\n",
       "          [ 5.7212e-02, -1.0920e+02, -3.3268e+02,  ..., -2.1893e+32,\n",
       "           -4.4632e+32, -9.0989e+32],\n",
       "          [-5.7042e-02, -9.7441e+01, -2.9671e+02,  ..., -1.9529e+32,\n",
       "           -3.9813e+32, -8.1165e+32]]],\n",
       "\n",
       "\n",
       "        [[[-4.5260e-02, -9.8592e+01, -3.0023e+02,  ..., -1.9762e+32,\n",
       "           -4.0288e+32, -8.2133e+32],\n",
       "          [-8.9365e-02, -9.4353e+01, -2.8726e+02,  ..., -1.8909e+32,\n",
       "           -3.8550e+32, -7.8589e+32],\n",
       "          [-2.7857e-01, -7.8170e+01, -2.3770e+02,  ..., -1.5650e+32,\n",
       "           -3.1904e+32, -6.5042e+32],\n",
       "          [ 4.5037e-03, -1.0361e+02, -3.1557e+02,  ..., -2.0770e+32,\n",
       "           -4.2343e+32, -8.6323e+32],\n",
       "          [-1.0975e-01, -9.2457e+01, -2.8146e+02,  ..., -1.8528e+32,\n",
       "           -3.7772e+32, -7.7004e+32]],\n",
       "\n",
       "         [[-4.5260e-02, -9.8592e+01, -3.0023e+02,  ..., -1.9762e+32,\n",
       "           -4.0288e+32, -8.2133e+32],\n",
       "          [-8.9365e-02, -9.4353e+01, -2.8726e+02,  ..., -1.8909e+32,\n",
       "           -3.8550e+32, -7.8589e+32],\n",
       "          [-2.7857e-01, -7.8170e+01, -2.3770e+02,  ..., -1.5650e+32,\n",
       "           -3.1904e+32, -6.5042e+32],\n",
       "          [ 4.5037e-03, -1.0361e+02, -3.1557e+02,  ..., -2.0770e+32,\n",
       "           -4.2343e+32, -8.6323e+32],\n",
       "          [-1.0975e-01, -9.2457e+01, -2.8146e+02,  ..., -1.8528e+32,\n",
       "           -3.7772e+32, -7.7004e+32]]],\n",
       "\n",
       "\n",
       "        [[[-4.5260e-02, -9.8592e+01, -3.0023e+02,  ..., -1.9762e+32,\n",
       "           -4.0288e+32, -8.2133e+32],\n",
       "          [-8.9365e-02, -9.4353e+01, -2.8726e+02,  ..., -1.8909e+32,\n",
       "           -3.8550e+32, -7.8589e+32],\n",
       "          [-2.7857e-01, -7.8170e+01, -2.3770e+02,  ..., -1.5650e+32,\n",
       "           -3.1904e+32, -6.5042e+32],\n",
       "          [ 4.5037e-03, -1.0361e+02, -3.1557e+02,  ..., -2.0770e+32,\n",
       "           -4.2343e+32, -8.6323e+32],\n",
       "          [-1.0975e-01, -9.2457e+01, -2.8146e+02,  ..., -1.8528e+32,\n",
       "           -3.7772e+32, -7.7004e+32]],\n",
       "\n",
       "         [[-4.5260e-02, -9.8592e+01, -3.0023e+02,  ..., -1.9762e+32,\n",
       "           -4.0288e+32, -8.2133e+32],\n",
       "          [-8.9365e-02, -9.4353e+01, -2.8726e+02,  ..., -1.8909e+32,\n",
       "           -3.8550e+32, -7.8589e+32],\n",
       "          [-2.7857e-01, -7.8170e+01, -2.3770e+02,  ..., -1.5650e+32,\n",
       "           -3.1904e+32, -6.5042e+32],\n",
       "          [ 4.5037e-03, -1.0361e+02, -3.1557e+02,  ..., -2.0770e+32,\n",
       "           -4.2343e+32, -8.6323e+32],\n",
       "          [-1.0975e-01, -9.2457e+01, -2.8146e+02,  ..., -1.8528e+32,\n",
       "           -3.7772e+32, -7.7004e+32]]]], device='cuda:0')"
      ]
     },
     "execution_count": 41,
     "metadata": {},
     "output_type": "execute_result"
    }
   ],
   "source": [
    "time_log_likelihood"
   ]
  },
  {
   "cell_type": "code",
   "execution_count": 42,
   "metadata": {},
   "outputs": [
    {
     "data": {
      "text/plain": [
       "tensor([[[[71.2287]],\n",
       "\n",
       "         [[71.2286]]],\n",
       "\n",
       "\n",
       "        [[[71.2287]],\n",
       "\n",
       "         [[71.2287]]],\n",
       "\n",
       "\n",
       "        [[[71.2287]],\n",
       "\n",
       "         [[71.2287]]]], device='cuda:0')"
      ]
     },
     "execution_count": 42,
     "metadata": {},
     "output_type": "execute_result"
    }
   ],
   "source": [
    "delta_x"
   ]
  },
  {
   "cell_type": "code",
   "execution_count": 43,
   "metadata": {},
   "outputs": [
    {
     "data": {
      "text/plain": [
       "tensor(71228.6328, device='cuda:0')"
      ]
     },
     "execution_count": 43,
     "metadata": {},
     "output_type": "execute_result"
    }
   ],
   "source": [
    "dmax"
   ]
  },
  {
   "cell_type": "code",
   "execution_count": null,
   "metadata": {},
   "outputs": [],
   "source": []
  }
 ],
 "metadata": {
  "kernelspec": {
   "display_name": "Python 3",
   "language": "python",
   "name": "python3"
  },
  "language_info": {
   "codemirror_mode": {
    "name": "ipython",
    "version": 3
   },
   "file_extension": ".py",
   "mimetype": "text/x-python",
   "name": "python",
   "nbconvert_exporter": "python",
   "pygments_lexer": "ipython3",
   "version": "3.6.7"
  }
 },
 "nbformat": 4,
 "nbformat_minor": 2
}
