{
 "cells": [
  {
   "cell_type": "code",
   "execution_count": 1,
   "metadata": {},
   "outputs": [],
   "source": [
    "import numpy as np\n",
    "import pandas as pd"
   ]
  },
  {
   "cell_type": "code",
   "execution_count": 2,
   "metadata": {},
   "outputs": [],
   "source": [
    "import sys\n",
    "import pickle\n",
    "import os\n",
    "import re\n",
    "# sys.path.insert(0, '/home/abhishekshar/hierarchichal_point_process/src/result/')"
   ]
  },
  {
   "cell_type": "code",
   "execution_count": 3,
   "metadata": {},
   "outputs": [],
   "source": [
    "data_names = [\"retweet\", \"meme\", \"mimic2\", \"book_order\", \"so\"]\n",
    "metric_names = [\"loss\", \"marker_ll\", \"time_ll\", \"auc\", \"accuracy\", \"marker_rmse\", \"time_rmse\"]\n",
    "hyperparam_names = ['gamma', 'dropout', 'batch_size', 'hidden_dim', 'l2', 'latent_dim', 'maxgradnorm', 'lr', 'n_cluster', 'seed', 'time_loss']"
   ]
  },
  {
   "cell_type": "code",
   "execution_count": 4,
   "metadata": {},
   "outputs": [],
   "source": [
    "model = \"model11\""
   ]
  },
  {
   "cell_type": "markdown",
   "metadata": {},
   "source": [
    "# Define functions here"
   ]
  },
  {
   "cell_type": "code",
   "execution_count": 5,
   "metadata": {},
   "outputs": [],
   "source": [
    "create_path = lambda data, model: '/home/abhishekshar/hierarchichal_point_process/src/result/'+data+'/'+model+'/'"
   ]
  },
  {
   "cell_type": "code",
   "execution_count": 6,
   "metadata": {},
   "outputs": [],
   "source": [
    "def extract_metric_value(x):\n",
    "    try:\n",
    "        val = float(re.search('.*\\t([\\-]*[0-9\\.]+)\\n$', x).group(1))\n",
    "    except:\n",
    "        val = None\n",
    "    return val"
   ]
  },
  {
   "cell_type": "code",
   "execution_count": 7,
   "metadata": {},
   "outputs": [],
   "source": [
    "def extract_metric_from_file(file_path):\n",
    "#     print(file_path)\n",
    "    with open(file_path,\"r\") as file:\n",
    "        results_raw = file.readlines()\n",
    "        metrics_raw = list(filter(lambda x: 'Test results' in x, results_raw))\n",
    "        metrics = list(map(extract_metric_value, metrics_raw))\n",
    "        \n",
    "    return metrics"
   ]
  },
  {
   "cell_type": "code",
   "execution_count": 8,
   "metadata": {},
   "outputs": [],
   "source": [
    "def get_filenames_dataset_model(data_name, model):\n",
    "    return next(os.walk(create_path(data_name, model)))[2]"
   ]
  },
  {
   "cell_type": "code",
   "execution_count": 9,
   "metadata": {},
   "outputs": [],
   "source": [
    "def dataname_model_to_metrics(data_name, model):\n",
    "    filenames = get_filenames_dataset_model(data_name, model)\n",
    "    file_paths = map(lambda x: create_path(data_name, model)+x, filenames)\n",
    "#     print(data_name, model, file_paths)\n",
    "    \n",
    "    metrics_list = list(map(extract_metric_from_file, file_paths))\n",
    "    return metrics_list"
   ]
  },
  {
   "cell_type": "code",
   "execution_count": 10,
   "metadata": {},
   "outputs": [],
   "source": [
    "def dataname_model_to_hyperparams(data_name, model):\n",
    "    return list(map(extract_hyperparameters, get_filenames_dataset_model(data_name, model)))"
   ]
  },
  {
   "cell_type": "code",
   "execution_count": 11,
   "metadata": {},
   "outputs": [
    {
     "data": {
      "text/plain": [
       "'/home/abhishekshar/hierarchichal_point_process/src/result/meme/model11/'"
      ]
     },
     "execution_count": 11,
     "metadata": {},
     "output_type": "execute_result"
    }
   ],
   "source": [
    "# Sanity check: path is valid\n",
    "create_path(\"meme\", \"model11\")"
   ]
  },
  {
   "cell_type": "code",
   "execution_count": 12,
   "metadata": {},
   "outputs": [],
   "source": [
    "def extract_hyperparameters(string):\n",
    "    def tofloat(x):\n",
    "        try:\n",
    "            return float(x)\n",
    "        except:\n",
    "            return x\n",
    "#     print(string)\n",
    "    hyperparams = re.search('_g([0-9\\.]+)_do([0-9\\.]+)_b([0-9]+)_h([0-9]+)_l2([0-9\\.]+)_l([0-9]+)_gn([0-9\\.]+)_lr([0-9\\.e\\-]+)_c([0-9]+)_s([0-9]+)_tl([a-z]+)', string).groups()\n",
    "    hyperparams = list(map(tofloat, hyperparams))\n",
    "    return hyperparams"
   ]
  },
  {
   "cell_type": "code",
   "execution_count": 13,
   "metadata": {},
   "outputs": [],
   "source": [
    "dfs_hyperparams = [pd.DataFrame(dataname_model_to_hyperparams(data_name, model), columns=hyperparam_names) for data_name in data_names]"
   ]
  },
  {
   "cell_type": "code",
   "execution_count": 14,
   "metadata": {},
   "outputs": [],
   "source": [
    "dfs_metrics = [pd.DataFrame(dataname_model_to_metrics(data_name, model), columns=metric_names) for data_name in data_names]"
   ]
  },
  {
   "cell_type": "code",
   "execution_count": 15,
   "metadata": {
    "scrolled": true
   },
   "outputs": [],
   "source": [
    "df_metrics = pd.concat(dfs_metrics, keys=data_names)\n",
    "df_hyperparams = pd.concat(dfs_hyperparams, keys=data_names)"
   ]
  },
  {
   "cell_type": "code",
   "execution_count": 16,
   "metadata": {
    "scrolled": true
   },
   "outputs": [],
   "source": [
    "# df_metrics"
   ]
  },
  {
   "cell_type": "code",
   "execution_count": 17,
   "metadata": {
    "scrolled": true
   },
   "outputs": [],
   "source": [
    "# df_hyperparams"
   ]
  },
  {
   "cell_type": "code",
   "execution_count": 18,
   "metadata": {},
   "outputs": [],
   "source": [
    "df_final = pd.concat([df_hyperparams, df_metrics], axis=1)"
   ]
  },
  {
   "cell_type": "code",
   "execution_count": 19,
   "metadata": {},
   "outputs": [
    {
     "data": {
      "text/html": [
       "<div>\n",
       "<style scoped>\n",
       "    .dataframe tbody tr th:only-of-type {\n",
       "        vertical-align: middle;\n",
       "    }\n",
       "\n",
       "    .dataframe tbody tr th {\n",
       "        vertical-align: top;\n",
       "    }\n",
       "\n",
       "    .dataframe thead th {\n",
       "        text-align: right;\n",
       "    }\n",
       "</style>\n",
       "<table border=\"1\" class=\"dataframe\">\n",
       "  <thead>\n",
       "    <tr style=\"text-align: right;\">\n",
       "      <th></th>\n",
       "      <th>gamma</th>\n",
       "      <th>dropout</th>\n",
       "      <th>batch_size</th>\n",
       "      <th>hidden_dim</th>\n",
       "      <th>l2</th>\n",
       "      <th>latent_dim</th>\n",
       "      <th>maxgradnorm</th>\n",
       "      <th>lr</th>\n",
       "      <th>n_cluster</th>\n",
       "      <th>seed</th>\n",
       "      <th>time_loss</th>\n",
       "      <th>loss</th>\n",
       "      <th>marker_ll</th>\n",
       "      <th>time_ll</th>\n",
       "      <th>auc</th>\n",
       "      <th>accuracy</th>\n",
       "      <th>marker_rmse</th>\n",
       "      <th>time_rmse</th>\n",
       "    </tr>\n",
       "  </thead>\n",
       "  <tbody>\n",
       "    <tr>\n",
       "      <th>0</th>\n",
       "      <td>1.0</td>\n",
       "      <td>0.5</td>\n",
       "      <td>128.0</td>\n",
       "      <td>1024.0</td>\n",
       "      <td>0.001</td>\n",
       "      <td>20.0</td>\n",
       "      <td>10.0</td>\n",
       "      <td>0.00100</td>\n",
       "      <td>10.0</td>\n",
       "      <td>1.0</td>\n",
       "      <td>normal</td>\n",
       "      <td>2.068342</td>\n",
       "      <td>-0.866772</td>\n",
       "      <td>-1.162493</td>\n",
       "      <td>None</td>\n",
       "      <td>0.848837</td>\n",
       "      <td>None</td>\n",
       "      <td>0.820695</td>\n",
       "    </tr>\n",
       "    <tr>\n",
       "      <th>1</th>\n",
       "      <td>1.0</td>\n",
       "      <td>0.5</td>\n",
       "      <td>128.0</td>\n",
       "      <td>128.0</td>\n",
       "      <td>0.000</td>\n",
       "      <td>20.0</td>\n",
       "      <td>10.0</td>\n",
       "      <td>0.00100</td>\n",
       "      <td>10.0</td>\n",
       "      <td>1.0</td>\n",
       "      <td>normal</td>\n",
       "      <td>2.188723</td>\n",
       "      <td>-0.938001</td>\n",
       "      <td>-1.220970</td>\n",
       "      <td>None</td>\n",
       "      <td>0.837209</td>\n",
       "      <td>None</td>\n",
       "      <td>0.825101</td>\n",
       "    </tr>\n",
       "    <tr>\n",
       "      <th>2</th>\n",
       "      <td>1.0</td>\n",
       "      <td>0.5</td>\n",
       "      <td>128.0</td>\n",
       "      <td>128.0</td>\n",
       "      <td>0.000</td>\n",
       "      <td>20.0</td>\n",
       "      <td>10.0</td>\n",
       "      <td>0.00010</td>\n",
       "      <td>10.0</td>\n",
       "      <td>1.0</td>\n",
       "      <td>normal</td>\n",
       "      <td>2.320281</td>\n",
       "      <td>-1.093474</td>\n",
       "      <td>-1.223987</td>\n",
       "      <td>None</td>\n",
       "      <td>0.790698</td>\n",
       "      <td>None</td>\n",
       "      <td>0.821304</td>\n",
       "    </tr>\n",
       "    <tr>\n",
       "      <th>3</th>\n",
       "      <td>1.0</td>\n",
       "      <td>0.5</td>\n",
       "      <td>128.0</td>\n",
       "      <td>128.0</td>\n",
       "      <td>0.000</td>\n",
       "      <td>20.0</td>\n",
       "      <td>10.0</td>\n",
       "      <td>0.00001</td>\n",
       "      <td>10.0</td>\n",
       "      <td>1.0</td>\n",
       "      <td>normal</td>\n",
       "      <td>4.883297</td>\n",
       "      <td>-3.602329</td>\n",
       "      <td>-1.290170</td>\n",
       "      <td>None</td>\n",
       "      <td>0.645349</td>\n",
       "      <td>None</td>\n",
       "      <td>0.860958</td>\n",
       "    </tr>\n",
       "    <tr>\n",
       "      <th>4</th>\n",
       "      <td>1.0</td>\n",
       "      <td>0.5</td>\n",
       "      <td>128.0</td>\n",
       "      <td>256.0</td>\n",
       "      <td>0.000</td>\n",
       "      <td>20.0</td>\n",
       "      <td>10.0</td>\n",
       "      <td>0.00100</td>\n",
       "      <td>10.0</td>\n",
       "      <td>1.0</td>\n",
       "      <td>normal</td>\n",
       "      <td>2.107123</td>\n",
       "      <td>-0.905745</td>\n",
       "      <td>-1.174871</td>\n",
       "      <td>None</td>\n",
       "      <td>0.843023</td>\n",
       "      <td>None</td>\n",
       "      <td>0.811276</td>\n",
       "    </tr>\n",
       "    <tr>\n",
       "      <th>5</th>\n",
       "      <td>1.0</td>\n",
       "      <td>0.5</td>\n",
       "      <td>128.0</td>\n",
       "      <td>256.0</td>\n",
       "      <td>0.000</td>\n",
       "      <td>20.0</td>\n",
       "      <td>10.0</td>\n",
       "      <td>0.00010</td>\n",
       "      <td>10.0</td>\n",
       "      <td>1.0</td>\n",
       "      <td>normal</td>\n",
       "      <td>2.289210</td>\n",
       "      <td>-0.999671</td>\n",
       "      <td>-1.241707</td>\n",
       "      <td>None</td>\n",
       "      <td>0.825581</td>\n",
       "      <td>None</td>\n",
       "      <td>0.813410</td>\n",
       "    </tr>\n",
       "    <tr>\n",
       "      <th>6</th>\n",
       "      <td>1.0</td>\n",
       "      <td>0.5</td>\n",
       "      <td>128.0</td>\n",
       "      <td>256.0</td>\n",
       "      <td>0.000</td>\n",
       "      <td>20.0</td>\n",
       "      <td>10.0</td>\n",
       "      <td>0.00001</td>\n",
       "      <td>10.0</td>\n",
       "      <td>1.0</td>\n",
       "      <td>normal</td>\n",
       "      <td>4.672418</td>\n",
       "      <td>-3.427057</td>\n",
       "      <td>-1.258238</td>\n",
       "      <td>None</td>\n",
       "      <td>0.761628</td>\n",
       "      <td>None</td>\n",
       "      <td>0.839334</td>\n",
       "    </tr>\n",
       "    <tr>\n",
       "      <th>7</th>\n",
       "      <td>1.0</td>\n",
       "      <td>0.5</td>\n",
       "      <td>128.0</td>\n",
       "      <td>512.0</td>\n",
       "      <td>0.000</td>\n",
       "      <td>20.0</td>\n",
       "      <td>10.0</td>\n",
       "      <td>0.00100</td>\n",
       "      <td>10.0</td>\n",
       "      <td>1.0</td>\n",
       "      <td>normal</td>\n",
       "      <td>2.054996</td>\n",
       "      <td>-0.866203</td>\n",
       "      <td>-1.139017</td>\n",
       "      <td>None</td>\n",
       "      <td>0.848837</td>\n",
       "      <td>None</td>\n",
       "      <td>0.813731</td>\n",
       "    </tr>\n",
       "    <tr>\n",
       "      <th>8</th>\n",
       "      <td>1.0</td>\n",
       "      <td>0.5</td>\n",
       "      <td>128.0</td>\n",
       "      <td>512.0</td>\n",
       "      <td>0.000</td>\n",
       "      <td>20.0</td>\n",
       "      <td>10.0</td>\n",
       "      <td>0.00010</td>\n",
       "      <td>10.0</td>\n",
       "      <td>1.0</td>\n",
       "      <td>normal</td>\n",
       "      <td>2.205387</td>\n",
       "      <td>-0.923011</td>\n",
       "      <td>-1.217890</td>\n",
       "      <td>None</td>\n",
       "      <td>0.848837</td>\n",
       "      <td>None</td>\n",
       "      <td>0.799521</td>\n",
       "    </tr>\n",
       "    <tr>\n",
       "      <th>9</th>\n",
       "      <td>1.0</td>\n",
       "      <td>0.5</td>\n",
       "      <td>128.0</td>\n",
       "      <td>512.0</td>\n",
       "      <td>0.000</td>\n",
       "      <td>20.0</td>\n",
       "      <td>10.0</td>\n",
       "      <td>0.00001</td>\n",
       "      <td>10.0</td>\n",
       "      <td>1.0</td>\n",
       "      <td>normal</td>\n",
       "      <td>3.779743</td>\n",
       "      <td>-2.534947</td>\n",
       "      <td>-1.253470</td>\n",
       "      <td>None</td>\n",
       "      <td>0.738372</td>\n",
       "      <td>None</td>\n",
       "      <td>0.844657</td>\n",
       "    </tr>\n",
       "  </tbody>\n",
       "</table>\n",
       "</div>"
      ],
      "text/plain": [
       "   gamma  dropout  batch_size  hidden_dim     l2  latent_dim  maxgradnorm  \\\n",
       "0    1.0      0.5       128.0      1024.0  0.001        20.0         10.0   \n",
       "1    1.0      0.5       128.0       128.0  0.000        20.0         10.0   \n",
       "2    1.0      0.5       128.0       128.0  0.000        20.0         10.0   \n",
       "3    1.0      0.5       128.0       128.0  0.000        20.0         10.0   \n",
       "4    1.0      0.5       128.0       256.0  0.000        20.0         10.0   \n",
       "5    1.0      0.5       128.0       256.0  0.000        20.0         10.0   \n",
       "6    1.0      0.5       128.0       256.0  0.000        20.0         10.0   \n",
       "7    1.0      0.5       128.0       512.0  0.000        20.0         10.0   \n",
       "8    1.0      0.5       128.0       512.0  0.000        20.0         10.0   \n",
       "9    1.0      0.5       128.0       512.0  0.000        20.0         10.0   \n",
       "\n",
       "        lr  n_cluster  seed time_loss      loss  marker_ll   time_ll   auc  \\\n",
       "0  0.00100       10.0   1.0    normal  2.068342  -0.866772 -1.162493  None   \n",
       "1  0.00100       10.0   1.0    normal  2.188723  -0.938001 -1.220970  None   \n",
       "2  0.00010       10.0   1.0    normal  2.320281  -1.093474 -1.223987  None   \n",
       "3  0.00001       10.0   1.0    normal  4.883297  -3.602329 -1.290170  None   \n",
       "4  0.00100       10.0   1.0    normal  2.107123  -0.905745 -1.174871  None   \n",
       "5  0.00010       10.0   1.0    normal  2.289210  -0.999671 -1.241707  None   \n",
       "6  0.00001       10.0   1.0    normal  4.672418  -3.427057 -1.258238  None   \n",
       "7  0.00100       10.0   1.0    normal  2.054996  -0.866203 -1.139017  None   \n",
       "8  0.00010       10.0   1.0    normal  2.205387  -0.923011 -1.217890  None   \n",
       "9  0.00001       10.0   1.0    normal  3.779743  -2.534947 -1.253470  None   \n",
       "\n",
       "   accuracy marker_rmse  time_rmse  \n",
       "0  0.848837        None   0.820695  \n",
       "1  0.837209        None   0.825101  \n",
       "2  0.790698        None   0.821304  \n",
       "3  0.645349        None   0.860958  \n",
       "4  0.843023        None   0.811276  \n",
       "5  0.825581        None   0.813410  \n",
       "6  0.761628        None   0.839334  \n",
       "7  0.848837        None   0.813731  \n",
       "8  0.848837        None   0.799521  \n",
       "9  0.738372        None   0.844657  "
      ]
     },
     "execution_count": 19,
     "metadata": {},
     "output_type": "execute_result"
    }
   ],
   "source": [
    "df_final.loc['mimic2']"
   ]
  },
  {
   "cell_type": "code",
   "execution_count": 20,
   "metadata": {},
   "outputs": [],
   "source": [
    "import matplotlib.pyplot as plt"
   ]
  },
  {
   "cell_type": "code",
   "execution_count": 44,
   "metadata": {},
   "outputs": [
    {
     "data": {
      "text/plain": [
       "(-2, 0)"
      ]
     },
     "execution_count": 44,
     "metadata": {},
     "output_type": "execute_result"
    },
    {
     "data": {
      "image/png": "[encoded data removed]",
      "text/plain": [
       "<Figure size 432x288 with 1 Axes>"
      ]
     },
     "metadata": {
      "needs_background": "light"
     },
     "output_type": "display_data"
    }
   ],
   "source": [
    "ax = df_final.loc['mimic2'].plot.bar(y='time_ll')\n",
    "ax.set_ylim((-2,0))"
   ]
  },
  {
   "cell_type": "code",
   "execution_count": 43,
   "metadata": {},
   "outputs": [
    {
     "data": {
      "text/plain": [
       "(-2, 0)"
      ]
     },
     "execution_count": 43,
     "metadata": {},
     "output_type": "execute_result"
    }
   ],
   "source": []
  },
  {
   "cell_type": "code",
   "execution_count": 27,
   "metadata": {
    "scrolled": true
   },
   "outputs": [
    {
     "data": {
      "text/plain": [
       "['__bytes__',\n",
       " '__call__',\n",
       " '__class__',\n",
       " '__delattr__',\n",
       " '__dict__',\n",
       " '__dir__',\n",
       " '__doc__',\n",
       " '__eq__',\n",
       " '__format__',\n",
       " '__ge__',\n",
       " '__getattribute__',\n",
       " '__gt__',\n",
       " '__hash__',\n",
       " '__init__',\n",
       " '__init_subclass__',\n",
       " '__le__',\n",
       " '__lt__',\n",
       " '__module__',\n",
       " '__ne__',\n",
       " '__new__',\n",
       " '__reduce__',\n",
       " '__reduce_ex__',\n",
       " '__repr__',\n",
       " '__setattr__',\n",
       " '__sizeof__',\n",
       " '__str__',\n",
       " '__subclasshook__',\n",
       " '__unicode__',\n",
       " '__weakref__',\n",
       " '_accessors',\n",
       " '_constructor',\n",
       " '_deprecations',\n",
       " '_dir_additions',\n",
       " '_dir_deletions',\n",
       " '_reset_cache',\n",
       " 'area',\n",
       " 'bar',\n",
       " 'barh',\n",
       " 'box',\n",
       " 'density',\n",
       " 'hexbin',\n",
       " 'hist',\n",
       " 'kde',\n",
       " 'line',\n",
       " 'pie',\n",
       " 'scatter']"
      ]
     },
     "execution_count": 27,
     "metadata": {},
     "output_type": "execute_result"
    }
   ],
   "source": [
    "dir(df_final.plot)"
   ]
  },
  {
   "cell_type": "code",
   "execution_count": null,
   "metadata": {},
   "outputs": [],
   "source": []
  },
  {
   "cell_type": "code",
   "execution_count": null,
   "metadata": {},
   "outputs": [],
   "source": []
  }
 ],
 "metadata": {
  "kernelspec": {
   "display_name": "Python 3",
   "language": "python",
   "name": "python3"
  },
  "language_info": {
   "codemirror_mode": {
    "name": "ipython",
    "version": 3
   },
   "file_extension": ".py",
   "mimetype": "text/x-python",
   "name": "python",
   "nbconvert_exporter": "python",
   "pygments_lexer": "ipython3",
   "version": "3.7.3"
  }
 },
 "nbformat": 4,
 "nbformat_minor": 2
}
