{
 "cells": [
  {
   "cell_type": "code",
   "execution_count": 1,
   "metadata": {},
   "outputs": [
    {
     "name": "stdout",
     "output_type": "stream",
     "text": [
      "/Users/abhisheksharma/PycharmProjects/hierarchichal_point_process_local/src\n"
     ]
    }
   ],
   "source": [
    "cd '/Users/abhisheksharma/PycharmProjects/hierarchichal_point_process_local/src/'"
   ]
  },
  {
   "cell_type": "code",
   "execution_count": 2,
   "metadata": {},
   "outputs": [],
   "source": [
    "import sys\n",
    "import importlib\n",
    "\n",
    "from engine import Engine\n",
    "from data_model_sandbox import get_argparse_parser_params\n",
    "from main import set_seeds, print_input_params, pipeline_engine"
   ]
  },
  {
   "cell_type": "code",
   "execution_count": 3,
   "metadata": {},
   "outputs": [],
   "source": [
    "# importlib.reload(engine)"
   ]
  },
  {
   "cell_type": "code",
   "execution_count": 8,
   "metadata": {},
   "outputs": [
    {
     "name": "stdout",
     "output_type": "stream",
     "text": [
      "Automatic pdb calling has been turned OFF\n"
     ]
    }
   ],
   "source": [
    "%pdb"
   ]
  },
  {
   "cell_type": "code",
   "execution_count": 10,
   "metadata": {},
   "outputs": [],
   "source": [
    "def setup_command_line_args():\n",
    "    cmd = 'main.py --model model1 --data_name simulated_hawkes --max_iter 4 --maxgradnorm 1000 --lr 0.01 --batch_size 32 --rnn_hidden_dim 128 --run_label test_model_1'\n",
    "    sys.argv = cmd.split(' ')\n",
    "\n",
    "setup_command_line_args()"
   ]
  },
  {
   "cell_type": "code",
   "execution_count": 9,
   "metadata": {},
   "outputs": [
    {
     "name": "stdout",
     "output_type": "stream",
     "text": [
      "           Parameter               Value\n",
      "            max_iter                   4\n",
      "         anneal_iter                  40\n",
      "      rnn_hidden_dim                 128\n",
      "         maxgradnorm              1000.0\n",
      "                  lr                0.01\n",
      "               gamma                   1\n",
      "                  l2                 0.0\n",
      "             dropout                 0.5\n",
      "          batch_size                  16\n",
      "          latent_dim                  20\n",
      "           x_given_t               False\n",
      "           n_cluster                  10\n",
      "               model              model1\n",
      "      model_filename                None\n",
      "           time_loss           intensity\n",
      "          time_scale                   1\n",
      "           skiptrain               False\n",
      "            skiptest               False\n",
      "            data_dir            ../data/\n",
      "          best_epoch                  10\n",
      "                seed                   1\n",
      "        dump_cluster                   0\n",
      "           data_name    simulated_hawkes\n",
      "           run_label        test_model_1\n",
      "      mc_num_samples                  10\n",
      "              cv_idx                   1\n",
      "          marker_dim                3150\n",
      "            time_dim                   2\n",
      "      base_intensity                 0.0\n",
      "      time_influence                 0.1\n",
      "         marker_type         categorical\n",
      "            n_sample                   1\n"
     ]
    }
   ],
   "source": [
    "model1_hawkes_params = get_argparse_parser_params('model1', 'simulated_hawkes')\n",
    "set_seeds(model1_hawkes_params.seed)\n",
    "print_input_params(model1_hawkes_params)"
   ]
  },
  {
   "cell_type": "code",
   "execution_count": 6,
   "metadata": {},
   "outputs": [
    {
     "name": "stderr",
     "output_type": "stream",
     "text": [
      "\r",
      "                                                                               \r",
      "\r",
      "N/A% (0 of 4) |                          | Elapsed Time: 0:00:00 ETA:  --:--:--"
     ]
    },
    {
     "name": "stdout",
     "output_type": "stream",
     "text": [
      "Model1(\n",
      "  (embed_x): Embedding(3150, 128)\n",
      "  (embed_t): Sequential(\n",
      "    (0): Linear(in_features=2, out_features=8, bias=True)\n",
      "    (1): ReLU()\n",
      "  )\n",
      "  (rnn): GRU(136, 128)\n",
      "  (encoder): Encoder(\n",
      "    (y_module): MLPCategorical(\n",
      "      (net): Sequential(\n",
      "        (0): Linear(in_features=128, out_features=64, bias=True)\n",
      "        (1): LayerNorm((64,), eps=1e-05, elementwise_affine=True)\n",
      "        (2): ReLU()\n",
      "      )\n",
      "      (logit_module): Linear(in_features=64, out_features=10, bias=False)\n",
      "    )\n",
      "    (rnn_module): GRU(136, 128)\n",
      "    (z_module): MLPNormal(\n",
      "      (net): Sequential(\n",
      "        (0): Linear(in_features=274, out_features=64, bias=True)\n",
      "        (1): LayerNorm((64,), eps=1e-05, elementwise_affine=True)\n",
      "        (2): ReLU()\n",
      "        (3): Linear(in_features=64, out_features=64, bias=True)\n",
      "        (4): LayerNorm((64,), eps=1e-05, elementwise_affine=True)\n",
      "        (5): ReLU()\n",
      "      )\n",
      "      (mu_module): Linear(in_features=64, out_features=20, bias=False)\n",
      "      (logvar_module): Linear(in_features=64, out_features=20, bias=False)\n",
      "    )\n",
      "  )\n",
      "  (decoder): Decoder(\n",
      "    (preprocessing_module): MLP(\n",
      "      (net): Sequential(\n",
      "        (0): Linear(in_features=158, out_features=128, bias=True)\n",
      "        (1): LayerNorm((128,), eps=1e-05, elementwise_affine=True)\n",
      "        (2): ReLU()\n",
      "      )\n",
      "    )\n",
      "    (h_influence): Linear(in_features=128, out_features=1, bias=False)\n",
      "    (output_x_mu): Sequential(\n",
      "      (0): Linear(in_features=128, out_features=3150, bias=True)\n",
      "    )\n",
      "  )\n",
      ")\n",
      "embed_x.weight: torch.Size([3150, 128])\n",
      "embed_t.0.weight: torch.Size([8, 2])\n",
      "embed_t.0.bias: torch.Size([8])\n",
      "rnn.weight_ih_l0: torch.Size([384, 136])\n",
      "rnn.weight_hh_l0: torch.Size([384, 128])\n",
      "rnn.bias_ih_l0: torch.Size([384])\n",
      "rnn.bias_hh_l0: torch.Size([384])\n",
      "encoder.y_module.net.0.weight: torch.Size([64, 128])\n",
      "encoder.y_module.net.0.bias: torch.Size([64])\n",
      "encoder.y_module.net.1.weight: torch.Size([64])\n",
      "encoder.y_module.net.1.bias: torch.Size([64])\n",
      "encoder.y_module.logit_module.weight: torch.Size([10, 64])\n",
      "encoder.rnn_module.weight_ih_l0: torch.Size([384, 136])\n",
      "encoder.rnn_module.weight_hh_l0: torch.Size([384, 128])\n",
      "encoder.rnn_module.bias_ih_l0: torch.Size([384])\n",
      "encoder.rnn_module.bias_hh_l0: torch.Size([384])\n",
      "encoder.z_module.net.0.weight: torch.Size([64, 274])\n",
      "encoder.z_module.net.0.bias: torch.Size([64])\n",
      "encoder.z_module.net.1.weight: torch.Size([64])\n",
      "encoder.z_module.net.1.bias: torch.Size([64])\n",
      "encoder.z_module.net.3.weight: torch.Size([64, 64])\n",
      "encoder.z_module.net.3.bias: torch.Size([64])\n",
      "encoder.z_module.net.4.weight: torch.Size([64])\n",
      "encoder.z_module.net.4.bias: torch.Size([64])\n",
      "encoder.z_module.mu_module.weight: torch.Size([20, 64])\n",
      "encoder.z_module.logvar_module.weight: torch.Size([20, 64])\n",
      "decoder.time_influence: torch.Size([1, 1, 1])\n",
      "decoder.base_intensity: torch.Size([1, 1, 1])\n",
      "decoder.preprocessing_module.net.0.weight: torch.Size([128, 158])\n",
      "decoder.preprocessing_module.net.0.bias: torch.Size([128])\n",
      "decoder.preprocessing_module.net.1.weight: torch.Size([128])\n",
      "decoder.preprocessing_module.net.1.bias: torch.Size([128])\n",
      "decoder.h_influence.weight: torch.Size([1, 128])\n",
      "decoder.output_x_mu.0.weight: torch.Size([3150, 128])\n",
      "decoder.output_x_mu.0.bias: torch.Size([3150])\n"
     ]
    },
    {
     "name": "stderr",
     "output_type": "stream",
     "text": [
      "100% (4 of 4) |##########################| Elapsed Time: 0:00:21 Time:  0:00:21\n",
      "100% (1 of 1) |##########################| Elapsed Time: 0:00:01 Time:  0:00:01\n",
      "N/A% (0 of 4) |                          | Elapsed Time: 0:00:00 ETA:  --:--:--"
     ]
    },
    {
     "name": "stdout",
     "output_type": "stream",
     "text": [
      "epoch 2\n",
      "Validation        Accuracy:     -1.000 \t\t\t\t Train        Accuracy:     -1.000\n",
      "Validation            Loss:   3086.719 \t\t\t\t Train            Loss:  11585.364\n",
      "Validation       Marker LL:   3086.719 \t\t\t\t Train       Marker LL:  11585.364\n",
      "Validation         Time LL:   3086.719 \t\t\t\t Train         Time LL:  11585.364\n",
      "Validation       Time RMSE:      1.000 \t\t\t\t Train       Time RMSE:      1.000\n"
     ]
    },
    {
     "name": "stderr",
     "output_type": "stream",
     "text": [
      "100% (4 of 4) |##########################| Elapsed Time: 0:00:26 Time:  0:00:26\n",
      "100% (1 of 1) |##########################| Elapsed Time: 0:00:02 Time:  0:00:02\n",
      "N/A% (0 of 4) |                          | Elapsed Time: 0:00:00 ETA:  --:--:--"
     ]
    },
    {
     "name": "stdout",
     "output_type": "stream",
     "text": [
      "epoch 3\n",
      "Validation        Accuracy:     -1.000 \t\t\t\t Train        Accuracy:     -1.000\n",
      "Validation            Loss:   1647.092 \t\t\t\t Train            Loss:   2341.802\n",
      "Validation       Marker LL:   1647.092 \t\t\t\t Train       Marker LL:   2341.802\n",
      "Validation         Time LL:   1647.092 \t\t\t\t Train         Time LL:   2341.802\n",
      "Validation       Time RMSE:      1.000 \t\t\t\t Train       Time RMSE:      1.000\n"
     ]
    },
    {
     "name": "stderr",
     "output_type": "stream",
     "text": [
      "100% (4 of 4) |##########################| Elapsed Time: 0:00:20 Time:  0:00:20\n",
      "100% (1 of 1) |##########################| Elapsed Time: 0:00:01 Time:  0:00:01\n",
      "N/A% (0 of 4) |                          | Elapsed Time: 0:00:00 ETA:  --:--:--"
     ]
    },
    {
     "name": "stdout",
     "output_type": "stream",
     "text": [
      "epoch 4\n",
      "Validation        Accuracy:     -1.000 \t\t\t\t Train        Accuracy:     -1.000\n",
      "Validation            Loss:   1416.369 \t\t\t\t Train            Loss:   1569.631\n",
      "Validation       Marker LL:   1416.369 \t\t\t\t Train       Marker LL:   1569.631\n",
      "Validation         Time LL:   1416.369 \t\t\t\t Train         Time LL:   1569.631\n",
      "Validation       Time RMSE:      1.000 \t\t\t\t Train       Time RMSE:      1.000\n"
     ]
    },
    {
     "name": "stderr",
     "output_type": "stream",
     "text": [
      "100% (4 of 4) |##########################| Elapsed Time: 0:00:18 Time:  0:00:18\n",
      "100% (1 of 1) |##########################| Elapsed Time: 0:00:01 Time:  0:00:01\n"
     ]
    },
    {
     "name": "stdout",
     "output_type": "stream",
     "text": [
      "epoch 5\n",
      "Validation        Accuracy:     -1.000 \t\t\t\t Train        Accuracy:     -1.000\n",
      "Validation            Loss:   1260.493 \t\t\t\t Train            Loss:   1382.233\n",
      "Validation       Marker LL:   1260.493 \t\t\t\t Train       Marker LL:   1382.233\n",
      "Validation         Time LL:   1260.493 \t\t\t\t Train         Time LL:   1382.233\n",
      "Validation       Time RMSE:      1.000 \t\t\t\t Train       Time RMSE:      1.000\n",
      "Training finished. Best epoch:4\n",
      "Saved train logs to file: logs/simulated_hawkes/model1/test_model_1_g1_do0.5_b16_h128_l20.0_l20_gn1000.0_lr0.01_c10_s1_tlintensity_ai40_20_04_15_11_26_32.log\n",
      "Saved valid logs to file: logs/simulated_hawkes/model1/test_model_1_g1_do0.5_b16_h128_l20.0_l20_gn1000.0_lr0.01_c10_s1_tlintensity_ai40_20_04_15_11_26_32.log\n",
      "Model saved at model/simulated_hawkes/model1/test_model_1_g1_do0.5_b16_h128_l20.0_l20_gn1000.0_lr0.01_c10_s1_tlintensity_ai40_20_04_15_11_26_32.pt\n"
     ]
    },
    {
     "name": "stderr",
     "output_type": "stream",
     "text": [
      "\r",
      "                                                                               \r",
      "\r",
      "N/A% (0 of 4) |                          | Elapsed Time: 0:00:00 ETA:  --:--:--"
     ]
    },
    {
     "name": "stdout",
     "output_type": "stream",
     "text": [
      "Loading model from model/simulated_hawkes/model1/test_model_1_g1_do0.5_b16_h128_l20.0_l20_gn1000.0_lr0.01_c10_s1_tlintensity_ai40_20_04_15_11_26_32.pt, Epoch number: 4\n",
      "\n",
      "*********************************Start testing**********************************\n",
      "\n"
     ]
    },
    {
     "name": "stderr",
     "output_type": "stream",
     "text": [
      "100% (4 of 4) |##########################| Elapsed Time: 0:00:05 Time:  0:00:05\n"
     ]
    },
    {
     "name": "stdout",
     "output_type": "stream",
     "text": [
      "Test Accuracy: -1.000\n",
      "Test Loss: 1288.077\n",
      "Test Marker LL: 1288.077\n",
      "Test Time LL: 1288.077\n",
      "Test Time RMSE: 1.000\n",
      "Saved test logs to file: logs/simulated_hawkes/model1/test_model_1_g1_do0.5_b16_h128_l20.0_l20_gn1000.0_lr0.01_c10_s1_tlintensity_ai40_20_04_15_11_26_32.log\n"
     ]
    }
   ],
   "source": [
    "def pipeline(params):\n",
    "    engine = Engine(params, params.model_filename)\n",
    "    engine.run()\n",
    "\n",
    "pipeline(model1_hawkes_params)"
   ]
  },
  {
   "cell_type": "code",
   "execution_count": null,
   "metadata": {},
   "outputs": [],
   "source": []
  },
  {
   "cell_type": "code",
   "execution_count": null,
   "metadata": {},
   "outputs": [],
   "source": []
  },
  {
   "cell_type": "code",
   "execution_count": null,
   "metadata": {},
   "outputs": [],
   "source": []
  }
 ],
 "metadata": {
  "kernelspec": {
   "display_name": "Python 3",
   "language": "python",
   "name": "python3"
  },
  "language_info": {
   "codemirror_mode": {
    "name": "ipython",
    "version": 3
   },
   "file_extension": ".py",
   "mimetype": "text/x-python",
   "name": "python",
   "nbconvert_exporter": "python",
   "pygments_lexer": "ipython3",
   "version": "3.7.7"
  }
 },
 "nbformat": 4,
 "nbformat_minor": 2
}
