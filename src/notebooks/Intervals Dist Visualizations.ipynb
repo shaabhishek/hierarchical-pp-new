{
 "cells": [
  {
   "cell_type": "code",
   "execution_count": 1,
   "metadata": {},
   "outputs": [],
   "source": [
    "import numpy as np\n",
    "import matplotlib.pyplot as plt\n",
    "# import seaborn as sns"
   ]
  },
  {
   "cell_type": "code",
   "execution_count": 2,
   "metadata": {},
   "outputs": [],
   "source": [
    "import os"
   ]
  },
  {
   "cell_type": "code",
   "execution_count": 3,
   "metadata": {},
   "outputs": [
    {
     "data": {
      "text/plain": [
       "'/home/abhishekshar/hierarchichal_point_process/src/notebooks'"
      ]
     },
     "execution_count": 3,
     "metadata": {},
     "output_type": "execute_result"
    }
   ],
   "source": [
    "pwd"
   ]
  },
  {
   "cell_type": "code",
   "execution_count": 4,
   "metadata": {},
   "outputs": [],
   "source": [
    "# create_path = lambda data, model: '/Users/abhisheksharma/Dev/hierarchichal_point_process/src/preds/'+data+'/'+model+'/'\n",
    "create_path = lambda data, model: '/home/abhishekshar/hierarchichal_point_process/src/preds/'+data+'/'+model+'/'\n",
    "def get_filenames_dataset_model(data_name, model):\n",
    "    return next(os.walk(create_path(data_name, model)))[2]"
   ]
  },
  {
   "cell_type": "code",
   "execution_count": 5,
   "metadata": {},
   "outputs": [],
   "source": [
    "gt_intervals=[]\n",
    "with open('/home/abhishekshar/hierarchichal_point_process/src/groundtruth', 'r') as f:\n",
    "    for sample in f.readlines():\n",
    "        gt_intervals.extend([float(i) for i in sample.split(' ')])\n",
    "gt_intervals = list(filter(lambda x: not (x==0), gt_intervals))"
   ]
  },
  {
   "cell_type": "code",
   "execution_count": 15,
   "metadata": {},
   "outputs": [],
   "source": [
    "def plot(file_path):\n",
    "    seq_intervals = []\n",
    "    global alpha\n",
    "    with open(file_path, 'r') as f:\n",
    "        for sample in f.readlines():\n",
    "            seq_intervals.extend([float(i) for i in sample.split(' ')])\n",
    "\n",
    "    seq_intervals = list(filter(lambda x: not (x==0), seq_intervals))\n",
    "    print(file_path, len(seq_intervals))\n",
    "    \n",
    "    plt.hist(seq_intervals, bins=50, alpha=next(alpha))\n",
    "    plt.xlim([0,2.5])\n",
    "    plt.xlabel('interval length')\n",
    "#     sns.kdeplot(seq_intervals)"
   ]
  },
  {
   "cell_type": "code",
   "execution_count": 36,
   "metadata": {},
   "outputs": [],
   "source": [
    "def plot_dataset(data_name):\n",
    "    for loss in ['normal', 'intensity']:\n",
    "        global alpha\n",
    "        alpha = iter([1, .6, .5])\n",
    "        for model in ['rmtpp', 'model2_filt']:\n",
    "            filenames = filter(lambda fn: loss in fn, get_filenames_dataset_model(data_name, model))\n",
    "            file_paths = map(lambda x: create_path(data_name, model)+x, filenames)\n",
    "            for filepath in file_paths:\n",
    "                plot(filepath)\n",
    "        plt.hist(gt_intervals, bins=100, alpha=.6)\n",
    "        plt.title(data_name+'_'+loss)\n",
    "        plt.legend(['rmtpp', 'model2_filt', 'groundtruth'])\n",
    "        plt.show()"
   ]
  },
  {
   "cell_type": "code",
   "execution_count": 37,
   "metadata": {},
   "outputs": [
    {
     "name": "stdout",
     "output_type": "stream",
     "text": [
      "/home/abhishekshar/hierarchichal_point_process/src/preds/mimic2/rmtpp/_g1_do0.5_b32_h256_l20.0_l20_gn10.0_lr0.001_c10_s1_tlnormal_ai40 172\n",
      "/home/abhishekshar/hierarchichal_point_process/src/preds/mimic2/model2_filt/_g1_do0.5_b32_h256_l20.0_l20_gn10.0_lr0.001_c10_s1_tlnormal_ai40 172\n"
     ]
    },
    {
     "data": {
      "image/png": "[encoded data removed]",
      "text/plain": [
       "<Figure size 432x288 with 1 Axes>"
      ]
     },
     "metadata": {
      "needs_background": "light"
     },
     "output_type": "display_data"
    },
    {
     "name": "stdout",
     "output_type": "stream",
     "text": [
      "/home/abhishekshar/hierarchichal_point_process/src/preds/mimic2/rmtpp/_g1_do0.5_b32_h256_l20.0_l20_gn10.0_lr0.001_c10_s1_tlintensity_ai40 172\n",
      "/home/abhishekshar/hierarchichal_point_process/src/preds/mimic2/model2_filt/_g1_do0.5_b32_h256_l20.0_l20_gn10.0_lr0.001_c10_s1_tlintensity_ai40 172\n"
     ]
    },
    {
     "data": {
      "image/png": "[encoded data removed]",
      "text/plain": [
       "<Figure size 432x288 with 1 Axes>"
      ]
     },
     "metadata": {
      "needs_background": "light"
     },
     "output_type": "display_data"
    }
   ],
   "source": [
    "plot_dataset('mimic2')"
   ]
  },
  {
   "cell_type": "code",
   "execution_count": null,
   "metadata": {},
   "outputs": [],
   "source": []
  },
  {
   "cell_type": "code",
   "execution_count": null,
   "metadata": {},
   "outputs": [],
   "source": []
  }
 ],
 "metadata": {
  "kernelspec": {
   "display_name": "Python 3",
   "language": "python",
   "name": "python3"
  },
  "language_info": {
   "codemirror_mode": {
    "name": "ipython",
    "version": 3
   },
   "file_extension": ".py",
   "mimetype": "text/x-python",
   "name": "python",
   "nbconvert_exporter": "python",
   "pygments_lexer": "ipython3",
   "version": "3.7.2"
  }
 },
 "nbformat": 4,
 "nbformat_minor": 2
}
