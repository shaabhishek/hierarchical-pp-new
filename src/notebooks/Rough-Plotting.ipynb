{
 "cells": [
  {
   "cell_type": "code",
   "execution_count": 1,
   "metadata": {},
   "outputs": [
    {
     "name": "stdout",
     "output_type": "stream",
     "text": [
      "/home/abhishekshar/hierarchichal_point_process/src\n"
     ]
    }
   ],
   "source": [
    "cd '/home/abhishekshar/hierarchichal_point_process/src'"
   ]
  },
  {
   "cell_type": "code",
   "execution_count": 2,
   "metadata": {},
   "outputs": [],
   "source": [
    "import os\n",
    "import argparse\n",
    "from argparse import Namespace\n",
    "\n",
    "import numpy as np\n",
    "import torch\n",
    "\n",
    "import matplotlib.pyplot as plt\n",
    "\n",
    "from utils.data_loader import get_dataloader\n",
    "from utils.model_loader import ModelLoader\n",
    "from main import setup_parser, _augment_params\n",
    "\n",
    "device = torch.device(\"cuda\" if torch.cuda.is_available() else \"cpu\")"
   ]
  },
  {
   "cell_type": "code",
   "execution_count": 3,
   "metadata": {},
   "outputs": [],
   "source": [
    "def plot_helper(intensity_x_vals, intensity_y_vals, data_vals):\n",
    "    fig, ax = plt.subplots(1,2, figsize=(16,8))\n",
    "    \n",
    "    ax[0].plot(intensity_x_vals, intensity_y_vals)\n",
    "    ax[0].scatter(data_vals, [min(intensity_y_vals)]*len(data_vals), s=1)\n",
    "    ax[0].set_xlim([0, 100])\n",
    "    ax[0].set_title('Data till t=100')\n",
    "    \n",
    "    ax[1].plot(intensity_x_vals, intensity_y_vals)\n",
    "    ax[1].scatter(data_vals, [min(intensity_y_vals)]*len(data_vals), s=1)\n",
    "    ax[1].set_title('Full Data')"
   ]
  },
  {
   "cell_type": "code",
   "execution_count": 5,
   "metadata": {},
   "outputs": [],
   "source": [
    "class BasePlotter():\n",
    "    def __init__(self):\n",
    "        self.timestamps = None\n",
    "\n",
    "    def load_data(self, params:Namespace, split_name):\n",
    "        split_name = \"train\" #TODO remove after testing\n",
    "        #Data should reside in this path for all datasets. Ideally 5 cross fold validation.\n",
    "        data_path = params.data_dir + params.data_name +'_'+str(params.cv_idx)+ f\"_{split_name}.pkl\"\n",
    "        self.dataloader = get_dataloader(data_path, params.marker_type, params.batch_size)\n",
    "        self.timestamps = [t_sequence[:,1] for t_sequence in self.dataloader.dataset.t_data]\n",
    "\n",
    "class HawkesPlotter(BasePlotter):\n",
    "    def __init__(self):\n",
    "        super().__init__()\n",
    "        \n",
    "        self.params = {'lambda_0':.2, 'alpha':.8, 'beta':1.}\n",
    "\n",
    "    def _get_intensity(self, t:float, hist:np.ndarray, params:dict):\n",
    "        # params: [lambda0, alpha, beta]\n",
    "        # hist must be numpy array\n",
    "        hist = hist[(hist < t)]\n",
    "        return params['lambda_0'] + params['alpha'] * np.sum(np.exp( -1.* (t - hist)/params['beta'] ))\n",
    "\n",
    "    def plot_intensity(self, ax:plt.Axes, t_range:list=None):\n",
    "        assert self.timestamps is not None\n",
    "        data = self.timestamps[0]\n",
    "        t_vals = np.arange(0, data[-1], .5)\n",
    "        intensity_vals = [self._get_intensity(t=_t, hist=data, params=self.params) for _t in t_vals]\n",
    "        \n",
    "        ax.plot(t_vals, intensity_vals)\n",
    "        ax.scatter(data, [min(intensity_vals)]*len(data), s=1)\n",
    "        if t_range is not None:\n",
    "            ax.set_xlim(t_range)\n",
    "        ax.set_title('Data till t=100')\n",
    "        \n",
    "class RMTPPPlotter(BasePlotter):\n",
    "    def __init__(self):\n",
    "        super().__init__()\n",
    "        \n",
    "    def load_model(self, params:Namespace, model_state_path:str):\n",
    "        loader = ModelLoader(params, model_state_path=model_state_path)\n",
    "        self.model = loader.model\n",
    "        self.model_path = loader.model_state_path\n",
    "        \n",
    "    def _get_hidden_states(self, x_data, t_data, mask):\n",
    "        ## Copied from RMTPP._forward\n",
    "        phi_x, phi_t = model.embed_x(x_data), model.embed_t(t_data)\n",
    "        phi_xt = torch.cat([phi_x, phi_t], dim=-1) #(T,BS, emb_dim)\n",
    "        time_intervals = t_data[:, :, 0:1] #(T, BS, 1)\n",
    "        event_times = t_data[:, :, 1:2] #(T, BS, 1)\n",
    "        T,BS,_ = phi_x.shape\n",
    "\n",
    "        h_0 = torch.zeros(1, BS, model.rnn_hidden_dim).to(device)\n",
    "        hidden_seq, _ = model.rnn(phi_xt, h_0)\n",
    "        hidden_seq = torch.cat([h_0, hidden_seq], dim=0) #(T+1, BS, rnn_hidden_dim)\n",
    "        return hidden_seq\n",
    "        \n",
    "    def _get_intensity(self, x_data, t_data, mask):\n",
    "        \n",
    "        device = torch.device('cuda')\n",
    "        model = self.model.to(device)\n",
    "\n",
    "        hidden_seq = self._get_hidden_states(x_data, t_data, mask)\n",
    "        \n",
    "        data_timestamps = t_data[:,:,1].cpu().numpy().flatten()\n",
    "#         for t in np.arange(0, data_timestamps[-1], 0.5):\n",
    "        log_intensity = model.marked_point_process_net.get_log_intensity(hidden_seq[:-1], time_intervals)\n",
    "        return log_intensity.exp().detach().cpu().numpy().flatten()\n",
    "    \n",
    "    def plot_intensity(self, ax:plt.Axes, t_range:list=None):\n",
    "        assert self.timestamps is not None\n",
    "        idx = 1\n",
    "        data = self.timestamps[idx]\n",
    "#         t_vals = np.arange(0, data[-1], .5)\n",
    "#         intensity_vals = [self._get_intensity(t=_t, hist=data, params=self.params) for _t in t_vals]\n",
    "        \n",
    "#         ax.plot(t_vals, intensity_vals)\n",
    "\n",
    "        x_data, t_data, mask = self.dataloader.collate_fn([self.dataloader.dataset[i] for i in range(idx)])\n",
    "        intensity_vals = self._get_intensity(x_data, t_data, mask)\n",
    "        timestamps = t_data[:,:,1].cpu().numpy().flatten()\n",
    "        ax.plot(timestamps, intensity_vals)\n",
    "    \n",
    "#         ax.scatter(data, [min(intensity_vals)]*len(data), s=1)\n",
    "        if t_range is not None:\n",
    "            ax.set_xlim(t_range)\n",
    "        ax.set_title('Data till t=100')"
   ]
  },
  {
   "cell_type": "code",
   "execution_count": 6,
   "metadata": {},
   "outputs": [
    {
     "ename": "NameError",
     "evalue": "name 'model' is not defined",
     "output_type": "error",
     "traceback": [
      "\u001b[0;31m---------------------------------------------------------------------------\u001b[0m",
      "\u001b[0;31mNameError\u001b[0m                                 Traceback (most recent call last)",
      "\u001b[0;32m<ipython-input-6-ba9973620a3c>\u001b[0m in \u001b[0;36m<module>\u001b[0;34m\u001b[0m\n\u001b[1;32m     23\u001b[0m \u001b[0mfig\u001b[0m\u001b[0;34m,\u001b[0m \u001b[0max\u001b[0m \u001b[0;34m=\u001b[0m \u001b[0mplt\u001b[0m\u001b[0;34m.\u001b[0m\u001b[0msubplots\u001b[0m\u001b[0;34m(\u001b[0m\u001b[0;36m1\u001b[0m\u001b[0;34m,\u001b[0m\u001b[0;36m1\u001b[0m\u001b[0;34m)\u001b[0m\u001b[0;34m\u001b[0m\u001b[0;34m\u001b[0m\u001b[0m\n\u001b[1;32m     24\u001b[0m \u001b[0mhawkes_plotter\u001b[0m\u001b[0;34m.\u001b[0m\u001b[0mplot_intensity\u001b[0m\u001b[0;34m(\u001b[0m\u001b[0max\u001b[0m\u001b[0;34m,\u001b[0m \u001b[0mt_range\u001b[0m\u001b[0;34m=\u001b[0m\u001b[0;34m[\u001b[0m\u001b[0;36m0\u001b[0m\u001b[0;34m,\u001b[0m \u001b[0;36m100\u001b[0m\u001b[0;34m]\u001b[0m\u001b[0;34m)\u001b[0m\u001b[0;34m\u001b[0m\u001b[0;34m\u001b[0m\u001b[0m\n\u001b[0;32m---> 25\u001b[0;31m \u001b[0mrmtpp_plotter\u001b[0m\u001b[0;34m.\u001b[0m\u001b[0mplot_intensity\u001b[0m\u001b[0;34m(\u001b[0m\u001b[0max\u001b[0m\u001b[0;34m,\u001b[0m \u001b[0mt_range\u001b[0m\u001b[0;34m=\u001b[0m\u001b[0;34m[\u001b[0m\u001b[0;36m0\u001b[0m\u001b[0;34m,\u001b[0m\u001b[0;36m100\u001b[0m\u001b[0;34m]\u001b[0m\u001b[0;34m)\u001b[0m\u001b[0;34m\u001b[0m\u001b[0;34m\u001b[0m\u001b[0m\n\u001b[0m",
      "\u001b[0;32m<ipython-input-5-110403729d4d>\u001b[0m in \u001b[0;36mplot_intensity\u001b[0;34m(self, ax, t_range)\u001b[0m\n\u001b[1;32m     78\u001b[0m \u001b[0;34m\u001b[0m\u001b[0m\n\u001b[1;32m     79\u001b[0m         \u001b[0mx_data\u001b[0m\u001b[0;34m,\u001b[0m \u001b[0mt_data\u001b[0m\u001b[0;34m,\u001b[0m \u001b[0mmask\u001b[0m \u001b[0;34m=\u001b[0m \u001b[0mself\u001b[0m\u001b[0;34m.\u001b[0m\u001b[0mdataloader\u001b[0m\u001b[0;34m.\u001b[0m\u001b[0mcollate_fn\u001b[0m\u001b[0;34m(\u001b[0m\u001b[0;34m[\u001b[0m\u001b[0mself\u001b[0m\u001b[0;34m.\u001b[0m\u001b[0mdataloader\u001b[0m\u001b[0;34m.\u001b[0m\u001b[0mdataset\u001b[0m\u001b[0;34m[\u001b[0m\u001b[0mi\u001b[0m\u001b[0;34m]\u001b[0m \u001b[0;32mfor\u001b[0m \u001b[0mi\u001b[0m \u001b[0;32min\u001b[0m \u001b[0mrange\u001b[0m\u001b[0;34m(\u001b[0m\u001b[0midx\u001b[0m\u001b[0;34m)\u001b[0m\u001b[0;34m]\u001b[0m\u001b[0;34m)\u001b[0m\u001b[0;34m\u001b[0m\u001b[0;34m\u001b[0m\u001b[0m\n\u001b[0;32m---> 80\u001b[0;31m         \u001b[0mintensity_vals\u001b[0m \u001b[0;34m=\u001b[0m \u001b[0mself\u001b[0m\u001b[0;34m.\u001b[0m\u001b[0m_get_intensity\u001b[0m\u001b[0;34m(\u001b[0m\u001b[0mx_data\u001b[0m\u001b[0;34m,\u001b[0m \u001b[0mt_data\u001b[0m\u001b[0;34m,\u001b[0m \u001b[0mmask\u001b[0m\u001b[0;34m)\u001b[0m\u001b[0;34m\u001b[0m\u001b[0;34m\u001b[0m\u001b[0m\n\u001b[0m\u001b[1;32m     81\u001b[0m         \u001b[0mtimestamps\u001b[0m \u001b[0;34m=\u001b[0m \u001b[0mt_data\u001b[0m\u001b[0;34m[\u001b[0m\u001b[0;34m:\u001b[0m\u001b[0;34m,\u001b[0m\u001b[0;34m:\u001b[0m\u001b[0;34m,\u001b[0m\u001b[0;36m1\u001b[0m\u001b[0;34m]\u001b[0m\u001b[0;34m.\u001b[0m\u001b[0mcpu\u001b[0m\u001b[0;34m(\u001b[0m\u001b[0;34m)\u001b[0m\u001b[0;34m.\u001b[0m\u001b[0mnumpy\u001b[0m\u001b[0;34m(\u001b[0m\u001b[0;34m)\u001b[0m\u001b[0;34m.\u001b[0m\u001b[0mflatten\u001b[0m\u001b[0;34m(\u001b[0m\u001b[0;34m)\u001b[0m\u001b[0;34m\u001b[0m\u001b[0;34m\u001b[0m\u001b[0m\n\u001b[1;32m     82\u001b[0m         \u001b[0max\u001b[0m\u001b[0;34m.\u001b[0m\u001b[0mplot\u001b[0m\u001b[0;34m(\u001b[0m\u001b[0mtimestamps\u001b[0m\u001b[0;34m,\u001b[0m \u001b[0mintensity_vals\u001b[0m\u001b[0;34m)\u001b[0m\u001b[0;34m\u001b[0m\u001b[0;34m\u001b[0m\u001b[0m\n",
      "\u001b[0;32m<ipython-input-5-110403729d4d>\u001b[0m in \u001b[0;36m_get_intensity\u001b[0;34m(self, x_data, t_data, mask)\u001b[0m\n\u001b[1;32m     61\u001b[0m         \u001b[0mmodel\u001b[0m \u001b[0;34m=\u001b[0m \u001b[0mself\u001b[0m\u001b[0;34m.\u001b[0m\u001b[0mmodel\u001b[0m\u001b[0;34m.\u001b[0m\u001b[0mto\u001b[0m\u001b[0;34m(\u001b[0m\u001b[0mdevice\u001b[0m\u001b[0;34m)\u001b[0m\u001b[0;34m\u001b[0m\u001b[0;34m\u001b[0m\u001b[0m\n\u001b[1;32m     62\u001b[0m \u001b[0;34m\u001b[0m\u001b[0m\n\u001b[0;32m---> 63\u001b[0;31m         \u001b[0mhidden_seq\u001b[0m \u001b[0;34m=\u001b[0m \u001b[0mself\u001b[0m\u001b[0;34m.\u001b[0m\u001b[0m_get_hidden_states\u001b[0m\u001b[0;34m(\u001b[0m\u001b[0mx_data\u001b[0m\u001b[0;34m,\u001b[0m \u001b[0mt_data\u001b[0m\u001b[0;34m,\u001b[0m \u001b[0mmask\u001b[0m\u001b[0;34m)\u001b[0m\u001b[0;34m\u001b[0m\u001b[0;34m\u001b[0m\u001b[0m\n\u001b[0m\u001b[1;32m     64\u001b[0m \u001b[0;34m\u001b[0m\u001b[0m\n\u001b[1;32m     65\u001b[0m         \u001b[0mdata_timestamps\u001b[0m \u001b[0;34m=\u001b[0m \u001b[0mt_data\u001b[0m\u001b[0;34m[\u001b[0m\u001b[0;34m:\u001b[0m\u001b[0;34m,\u001b[0m\u001b[0;34m:\u001b[0m\u001b[0;34m,\u001b[0m\u001b[0;36m1\u001b[0m\u001b[0;34m]\u001b[0m\u001b[0;34m.\u001b[0m\u001b[0mcpu\u001b[0m\u001b[0;34m(\u001b[0m\u001b[0;34m)\u001b[0m\u001b[0;34m.\u001b[0m\u001b[0mnumpy\u001b[0m\u001b[0;34m(\u001b[0m\u001b[0;34m)\u001b[0m\u001b[0;34m.\u001b[0m\u001b[0mflatten\u001b[0m\u001b[0;34m(\u001b[0m\u001b[0;34m)\u001b[0m\u001b[0;34m\u001b[0m\u001b[0;34m\u001b[0m\u001b[0m\n",
      "\u001b[0;32m<ipython-input-5-110403729d4d>\u001b[0m in \u001b[0;36m_get_hidden_states\u001b[0;34m(self, x_data, t_data, mask)\u001b[0m\n\u001b[1;32m     45\u001b[0m     \u001b[0;32mdef\u001b[0m \u001b[0m_get_hidden_states\u001b[0m\u001b[0;34m(\u001b[0m\u001b[0mself\u001b[0m\u001b[0;34m,\u001b[0m \u001b[0mx_data\u001b[0m\u001b[0;34m,\u001b[0m \u001b[0mt_data\u001b[0m\u001b[0;34m,\u001b[0m \u001b[0mmask\u001b[0m\u001b[0;34m)\u001b[0m\u001b[0;34m:\u001b[0m\u001b[0;34m\u001b[0m\u001b[0;34m\u001b[0m\u001b[0m\n\u001b[1;32m     46\u001b[0m         \u001b[0;31m## Copied from RMTPP._forward\u001b[0m\u001b[0;34m\u001b[0m\u001b[0;34m\u001b[0m\u001b[0;34m\u001b[0m\u001b[0m\n\u001b[0;32m---> 47\u001b[0;31m         \u001b[0mphi_x\u001b[0m\u001b[0;34m,\u001b[0m \u001b[0mphi_t\u001b[0m \u001b[0;34m=\u001b[0m \u001b[0mmodel\u001b[0m\u001b[0;34m.\u001b[0m\u001b[0membed_x\u001b[0m\u001b[0;34m(\u001b[0m\u001b[0mx_data\u001b[0m\u001b[0;34m)\u001b[0m\u001b[0;34m,\u001b[0m \u001b[0mmodel\u001b[0m\u001b[0;34m.\u001b[0m\u001b[0membed_t\u001b[0m\u001b[0;34m(\u001b[0m\u001b[0mt_data\u001b[0m\u001b[0;34m)\u001b[0m\u001b[0;34m\u001b[0m\u001b[0;34m\u001b[0m\u001b[0m\n\u001b[0m\u001b[1;32m     48\u001b[0m         \u001b[0mphi_xt\u001b[0m \u001b[0;34m=\u001b[0m \u001b[0mtorch\u001b[0m\u001b[0;34m.\u001b[0m\u001b[0mcat\u001b[0m\u001b[0;34m(\u001b[0m\u001b[0;34m[\u001b[0m\u001b[0mphi_x\u001b[0m\u001b[0;34m,\u001b[0m \u001b[0mphi_t\u001b[0m\u001b[0;34m]\u001b[0m\u001b[0;34m,\u001b[0m \u001b[0mdim\u001b[0m\u001b[0;34m=\u001b[0m\u001b[0;34m-\u001b[0m\u001b[0;36m1\u001b[0m\u001b[0;34m)\u001b[0m \u001b[0;31m#(T,BS, emb_dim)\u001b[0m\u001b[0;34m\u001b[0m\u001b[0;34m\u001b[0m\u001b[0m\n\u001b[1;32m     49\u001b[0m         \u001b[0mtime_intervals\u001b[0m \u001b[0;34m=\u001b[0m \u001b[0mt_data\u001b[0m\u001b[0;34m[\u001b[0m\u001b[0;34m:\u001b[0m\u001b[0;34m,\u001b[0m \u001b[0;34m:\u001b[0m\u001b[0;34m,\u001b[0m \u001b[0;36m0\u001b[0m\u001b[0;34m:\u001b[0m\u001b[0;36m1\u001b[0m\u001b[0;34m]\u001b[0m \u001b[0;31m#(T, BS, 1)\u001b[0m\u001b[0;34m\u001b[0m\u001b[0;34m\u001b[0m\u001b[0m\n",
      "\u001b[0;31mNameError\u001b[0m: name 'model' is not defined"
     ]
    },
    {
     "data": {
      "image/png": "[encoded data removed]",
      "text/plain": [
       "<Figure size 432x288 with 1 Axes>"
      ]
     },
     "metadata": {
      "needs_background": "light"
     },
     "output_type": "display_data"
    }
   ],
   "source": [
    "parser = setup_parser()\n",
    "params = parser.parse_args(args=[])\n",
    "###\n",
    "params.model = 'rmtpp'\n",
    "params.data_name = 'simulated_hawkes'\n",
    "###\n",
    "_augment_params(params)\n",
    "\n",
    "## True Model\n",
    "hawkes_plotter = HawkesPlotter()\n",
    "# Load data\n",
    "hawkes_plotter.load_data(params, \"train\")\n",
    "\n",
    "## RMTPP\n",
    "rmtpp_plotter = RMTPPPlotter()\n",
    "# Load data\n",
    "rmtpp_plotter.load_data(params, \"train\")\n",
    "# Load model object & Load model state\n",
    "model_state_path = os.path.join('model', params.data_name, params.model, \"_g1_do0.5_b32_h256_l20.0_l20_gn10.0_lr0.001_c10_s1_tlintensity_ai40\")\n",
    "rmtpp_plotter.load_model(params, model_state_path)\n",
    "\n",
    "# Plot\n",
    "fig, ax = plt.subplots(1,1)\n",
    "hawkes_plotter.plot_intensity(ax, t_range=[0, 100])\n",
    "rmtpp_plotter.plot_intensity(ax, t_range=[0,100])"
   ]
  },
  {
   "cell_type": "code",
   "execution_count": 55,
   "metadata": {},
   "outputs": [],
   "source": [
    "def run_fwd(model, x_data, t_data, mask):\n",
    "    device = torch.device('cuda')\n",
    "    model = model.to(device)\n",
    "    ## Copied from RMTPP._forward\n",
    "    phi_x, phi_t = model.embed_x(x_data), model.embed_t(t_data)\n",
    "    phi_xt = torch.cat([phi_x, phi_t], dim=-1) #(T,BS, emb_dim)\n",
    "    time_intervals = t_data[:, :, 0:1] #(T, BS, 1)\n",
    "    event_times = t_data[:, :, 1:2] #(T, BS, 1)\n",
    "    T,BS,_ = phi_x.shape\n",
    "    \n",
    "    h_0 = torch.zeros(1, BS, model.rnn_hidden_dim).to(device)\n",
    "    hidden_seq, _ = model.rnn(phi_xt, h_0)\n",
    "    hidden_seq = torch.cat([h_0, hidden_seq], dim=0) #(T+1, BS, rnn_hidden_dim)\n",
    "    \n",
    "    log_intensity = model.marked_point_process_net.get_log_intensity(hidden_seq[:-1], time_intervals)\n",
    "    return log_intensity.exp().detach().cpu().numpy().flatten()"
   ]
  },
  {
   "cell_type": "code",
   "execution_count": 57,
   "metadata": {},
   "outputs": [
    {
     "data": {
      "text/plain": [
       "array([0.9988958 , 0.73644817, 1.2227725 , ..., 0.9754696 , 1.078384  ,\n",
       "       1.0210043 ], dtype=float32)"
      ]
     },
     "execution_count": 57,
     "metadata": {},
     "output_type": "execute_result"
    }
   ],
   "source": [
    "run_fwd(rmtpp_plotter.model, *rmtpp_plotter.dataloader.collate_fn([rmtpp_plotter.dataloader.dataset[i] for i in range(1)]))"
   ]
  },
  {
   "cell_type": "code",
   "execution_count": 62,
   "metadata": {},
   "outputs": [
    {
     "name": "stdout",
     "output_type": "stream",
     "text": [
      "Automatic pdb calling has been turned ON\n"
     ]
    }
   ],
   "source": [
    "%pdb"
   ]
  },
  {
   "cell_type": "code",
   "execution_count": 17,
   "metadata": {},
   "outputs": [
    {
     "data": {
      "text/plain": [
       "(array([1, 1, 1, ..., 1, 1, 1]), array([[0.00000000e+00, 0.00000000e+00],\n",
       "        [2.18347034e+00, 2.18347034e+00],\n",
       "        [5.08512582e-01, 2.69198292e+00],\n",
       "        ...,\n",
       "        [3.97190183e+00, 1.31533601e+03],\n",
       "        [1.07414355e+00, 1.31641015e+03],\n",
       "        [2.65405615e+00, 1.31906421e+03]]))"
      ]
     },
     "execution_count": 17,
     "metadata": {},
     "output_type": "execute_result"
    }
   ],
   "source": [
    "rmtpp_plotter.dataloader.dataset[0]"
   ]
  },
  {
   "cell_type": "code",
   "execution_count": 29,
   "metadata": {},
   "outputs": [
    {
     "data": {
      "text/plain": [
       "(tensor([[1, 1, 1],\n",
       "         [1, 1, 1],\n",
       "         [1, 1, 1],\n",
       "         ...,\n",
       "         [1, 1, 1],\n",
       "         [1, 1, 1],\n",
       "         [1, 1, 1]], device='cuda:0'), tensor([[[0.0000e+00, 0.0000e+00],\n",
       "          [0.0000e+00, 0.0000e+00],\n",
       "          [0.0000e+00, 0.0000e+00]],\n",
       " \n",
       "         [[2.1835e+00, 2.1835e+00],\n",
       "          [6.3766e-02, 6.3766e-02],\n",
       "          [1.7809e+00, 1.7809e+00]],\n",
       " \n",
       "         [[5.0851e-01, 2.6920e+00],\n",
       "          [1.4160e-01, 2.0537e-01],\n",
       "          [7.0218e-01, 2.4831e+00]],\n",
       " \n",
       "         ...,\n",
       " \n",
       "         [[3.9719e+00, 1.3153e+03],\n",
       "          [3.1062e-01, 1.4565e+03],\n",
       "          [9.6077e-01, 1.4455e+03]],\n",
       " \n",
       "         [[1.0741e+00, 1.3164e+03],\n",
       "          [2.9983e+00, 1.4595e+03],\n",
       "          [5.6027e-01, 1.4461e+03]],\n",
       " \n",
       "         [[2.6541e+00, 1.3191e+03],\n",
       "          [2.7537e-01, 1.4597e+03],\n",
       "          [6.4350e-01, 1.4467e+03]]], device='cuda:0'), tensor([[1., 1., 1.],\n",
       "         [1., 1., 1.],\n",
       "         [1., 1., 1.],\n",
       "         ...,\n",
       "         [1., 1., 1.],\n",
       "         [1., 1., 1.],\n",
       "         [1., 1., 1.]], device='cuda:0'))"
      ]
     },
     "execution_count": 29,
     "metadata": {},
     "output_type": "execute_result"
    }
   ],
   "source": [
    "rmtpp_plotter.dataloader.collate_fn([rmtpp_plotter.dataloader.dataset[i] for i in range(3)])"
   ]
  },
  {
   "cell_type": "code",
   "execution_count": null,
   "metadata": {},
   "outputs": [],
   "source": []
  }
 ],
 "metadata": {
  "kernelspec": {
   "display_name": "Python 3",
   "language": "python",
   "name": "python3"
  },
  "language_info": {
   "codemirror_mode": {
    "name": "ipython",
    "version": 3
   },
   "file_extension": ".py",
   "mimetype": "text/x-python",
   "name": "python",
   "nbconvert_exporter": "python",
   "pygments_lexer": "ipython3",
   "version": "3.7.6"
  }
 },
 "nbformat": 4,
 "nbformat_minor": 4
}
